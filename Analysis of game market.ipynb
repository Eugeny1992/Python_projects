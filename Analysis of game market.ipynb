{
 "cells": [
  {
   "cell_type": "markdown",
   "metadata": {},
   "source": [
    "<div class=\"alert alert-success\">\n",
    "<font size=\"5\"><b>Комментарий ревьюера 3</b></font>\n",
    "\n",
    "Привет. Исправления увидел. Перспективные платформы ты выбрал корректно. С маркерами также разобрался. Больше нереальных данных в анализе нет. Все помарки исправлены, и теперь работа выполнена хорошо. Я рад, что ты справился со всеми трудностями проекта, молодец. Поздравляю со сданным проектом. Надеюсь, он был интересен и познавателен. Успехов в дальнейшем пути :)\n",
    "\n",
    "</div>"
   ]
  },
  {
   "cell_type": "markdown",
   "metadata": {},
   "source": [
    "<div class=\"alert alert-info\">\n",
    "<font size=\"5\"><b>Комментарий ревьюера 2</b></font>\n",
    "\n",
    "Привет еще раз. Спасибо, что доделал работу. Оформление комментариев по работе сохраняется. Только обозначим, что это вторая итерация. \n",
    "\n",
    "</div>"
   ]
  },
  {
   "cell_type": "markdown",
   "metadata": {},
   "source": [
    "<div class=\"alert alert-info\">\n",
    "<font size=\"5\"><b>Комментарий ревьюера</b></font>\n",
    "\n",
    "Привет, Евгений! Спасибо, что прислал задание:) Извини за задержку при проверке. Меня зовут Слепцов Артем и я буду проверять твой проект) Ты проделал большую работу над проектом. Он выполнен уже на достойном уровне. Однако есть моменты, которые еще можно улучшить. Будет здорово, если ты, надеюсь, не против, если я буду на ты, будешь отвечать на комментарии и участвовать в диалоге. Если обращение на ты неприемлемо, то прошу сообщить. \n",
    "\n",
    "Мои комментарии обозначены пометкой **Комментарий ревьюера**. Далее в файле ты сможешь найти их в похожих ячейках:\n",
    "    \n",
    "<div class=\"alert alert-success\">Успех: Если фон комментария зелёный - всё сделано правильно. Рекомендации укажу таким же цветом;</div>\n",
    "        \n",
    "<div class=\"alert alert-warning\">Совет: Оранжевый - некритичные замечания;</div>\n",
    "        \n",
    "<div class=\"alert alert-danger\">Ошибка: Красный - нужно переделать. </div>\n",
    "        \n",
    "Не удаляй эти комментарии и постарайся учесть их в ходе выполнения данного проекта. Свои же комментарии ты можешь обозначать любым заметным способом. \n",
    "\n",
    "</div>"
   ]
  },
  {
   "cell_type": "markdown",
   "metadata": {},
   "source": [
    "# Задача"
   ]
  },
  {
   "cell_type": "markdown",
   "metadata": {},
   "source": [
    "Интернет-магазину «Стримчик», который продаёт по всему миру компьютерные игры, необходимо выявить определяющие успешность игры закономерности. Это позволит сделать ставку на потенциально популярный продукт и спланировать рекламные кампании. Для анализа будем использовать данные из открытых источников о продажах игр, оценки пользователей и экспертов, жанры и платформы до 2016 года включительно. "
   ]
  },
  {
   "cell_type": "markdown",
   "metadata": {},
   "source": [
    "В используемом датасете иммеются следующие столбы:\n",
    "Name — название игры,\n",
    "Platform — платформа,\n",
    "Year_of_Release — год выпуска,\n",
    "Genre — жанр игры,\n",
    "NA_sales — продажи в Северной Америке (миллионы проданных копий),\n",
    "EU_sales — продажи в Европе (миллионы проданных копий),\n",
    "JP_sales — продажи в Японии (миллионы проданных копий),\n",
    "Other_sales — продажи в других странах (миллионы проданных копий),\n",
    "Critic_Score — оценка критиков (максимум 100),\n",
    "User_Score — оценка пользователей (максимум 10),\n",
    "Rating — рейтинг от организации ESRB"
   ]
  },
  {
   "cell_type": "markdown",
   "metadata": {},
   "source": [
    "<div class=\"alert alert-warning\">\n",
    "<font size=\"5\"><b>Комментарий ревьюера</b></font>\n",
    "\n",
    "Совет: Правильно, что есть краткое вступление в работу, описание того, что надо делать. В работе следует приводить информацию о входных данных: какие столбцы есть в таблице, их названия и какую информацию они несут. Так работа выглядит презентабельно. Подробнее смотри методичку по оформлению проектов. Она располагается в Notion в разделе \"Как оформлять проект\".\n",
    "\n",
    "</div>"
   ]
  },
  {
   "cell_type": "markdown",
   "metadata": {},
   "source": [
    "## Откроем файл с данными и изучим общую информацию"
   ]
  },
  {
   "cell_type": "markdown",
   "metadata": {},
   "source": [
    "<div class=\"alert alert-warning\">\n",
    "<font size=\"5\"><b>Комментарий ревьюера</b></font>\n",
    "\n",
    "Совет: Я заметил, что ячейки в твоей тетрадке начинаются не с 1. Перед отправкой работы рекомендую перезапускать ноутбук, чтобы убедиться, что все ячейки выполняются корректно.\n",
    "\n",
    "</div>"
   ]
  },
  {
   "cell_type": "markdown",
   "metadata": {},
   "source": [
    "<div class=\"alert alert-success\">\n",
    "<font size=\"5\"><b>Комментарий ревьюера 2</b></font>\n",
    "\n",
    "Успех: В полном перезапуске проекта тебе поможет Kernel => Restart & Run All.\n",
    "\n",
    "</div>"
   ]
  },
  {
   "cell_type": "code",
   "execution_count": 1,
   "metadata": {},
   "outputs": [],
   "source": [
    "import pandas as pd\n",
    "import matplotlib.pyplot as plt\n",
    "from scipy import stats as st\n",
    "df = pd.read_csv('/datasets/games.csv')"
   ]
  },
  {
   "cell_type": "code",
   "execution_count": 2,
   "metadata": {},
   "outputs": [
    {
     "name": "stdout",
     "output_type": "stream",
     "text": [
      "<class 'pandas.core.frame.DataFrame'>\n",
      "RangeIndex: 16715 entries, 0 to 16714\n",
      "Data columns (total 11 columns):\n",
      "Name               16713 non-null object\n",
      "Platform           16715 non-null object\n",
      "Year_of_Release    16446 non-null float64\n",
      "Genre              16713 non-null object\n",
      "NA_sales           16715 non-null float64\n",
      "EU_sales           16715 non-null float64\n",
      "JP_sales           16715 non-null float64\n",
      "Other_sales        16715 non-null float64\n",
      "Critic_Score       8137 non-null float64\n",
      "User_Score         10014 non-null object\n",
      "Rating             9949 non-null object\n",
      "dtypes: float64(6), object(5)\n",
      "memory usage: 1.4+ MB\n"
     ]
    }
   ],
   "source": [
    "df.info()"
   ]
  },
  {
   "cell_type": "markdown",
   "metadata": {},
   "source": [
    "В нашем датасете 11 столбцов и 16715 строк. Имена столбцов написано в разном регистре, многие стобцы имеют пропуски. Стоблцы Year_of_Release, Critic_Score имеют неверный тип данных, у них должен быть тип данных integer."
   ]
  },
  {
   "cell_type": "markdown",
   "metadata": {},
   "source": [
    "<div class=\"alert alert-success\">\n",
    "<font size=\"5\"><b>Комментарий ревьюера</b></font>\n",
    "\n",
    "Успех: Правильно, что весь импорт ты проводишь в первой ячейке работы. Так твой коллега, запускающий работу, будет в курсе используемых в ней библиотек и сможет при необходимости быстро настроить окружение. \n",
    "\n",
    "</div>"
   ]
  },
  {
   "cell_type": "markdown",
   "metadata": {},
   "source": [
    "## Подготовим данные"
   ]
  },
  {
   "cell_type": "markdown",
   "metadata": {},
   "source": [
    "Переименуем столбцы и приведем их названия к нижнему регистру"
   ]
  },
  {
   "cell_type": "code",
   "execution_count": 3,
   "metadata": {},
   "outputs": [
    {
     "data": {
      "text/plain": [
       "Index(['Name', 'Platform', 'Year_of_Release', 'Genre', 'NA_sales', 'EU_sales',\n",
       "       'JP_sales', 'Other_sales', 'Critic_Score', 'User_Score', 'Rating'],\n",
       "      dtype='object')"
      ]
     },
     "execution_count": 3,
     "metadata": {},
     "output_type": "execute_result"
    }
   ],
   "source": [
    "df.columns"
   ]
  },
  {
   "cell_type": "code",
   "execution_count": 4,
   "metadata": {},
   "outputs": [],
   "source": [
    "df.rename(str.lower, axis='columns', inplace=True)"
   ]
  },
  {
   "cell_type": "markdown",
   "metadata": {},
   "source": [
    "<div class=\"alert alert-warning\">\n",
    "<font size=\"5\"><b>Комментарий ревьюера</b></font>\n",
    "\n",
    "Совет: Не следует переименовывать столбцы через атрибут columns, потому что так ты неявно учитываешь порядок столбцов. Если порядок столбцов поменяется, код перестанет работать. Используй вместо этого метод rename().\n",
    "    \n",
    "</div>"
   ]
  },
  {
   "cell_type": "markdown",
   "metadata": {},
   "source": [
    "<div class=\"alert alert-success\">\n",
    "<font size=\"5\"><b>Комментарий ревьюера 2</b></font>\n",
    "\n",
    "Успех: Такой метод заметно лучше. \n",
    "\n",
    "</div>"
   ]
  },
  {
   "cell_type": "code",
   "execution_count": 5,
   "metadata": {},
   "outputs": [
    {
     "data": {
      "text/plain": [
       "Index(['name', 'platform', 'year_of_release', 'genre', 'na_sales', 'eu_sales',\n",
       "       'jp_sales', 'other_sales', 'critic_score', 'user_score', 'rating'],\n",
       "      dtype='object')"
      ]
     },
     "execution_count": 5,
     "metadata": {},
     "output_type": "execute_result"
    }
   ],
   "source": [
    "df.columns"
   ]
  },
  {
   "cell_type": "markdown",
   "metadata": {},
   "source": [
    "----------------------"
   ]
  },
  {
   "cell_type": "markdown",
   "metadata": {},
   "source": [
    "Избавимся от пропусков и дубликатов в датасете."
   ]
  },
  {
   "cell_type": "code",
   "execution_count": 6,
   "metadata": {},
   "outputs": [
    {
     "data": {
      "text/plain": [
       "name                  2\n",
       "platform              0\n",
       "year_of_release     269\n",
       "genre                 2\n",
       "na_sales              0\n",
       "eu_sales              0\n",
       "jp_sales              0\n",
       "other_sales           0\n",
       "critic_score       8578\n",
       "user_score         6701\n",
       "rating             6766\n",
       "dtype: int64"
      ]
     },
     "execution_count": 6,
     "metadata": {},
     "output_type": "execute_result"
    }
   ],
   "source": [
    "df.isna().sum()"
   ]
  },
  {
   "cell_type": "markdown",
   "metadata": {},
   "source": [
    "Пропусков в столбце name всего два, это очень мало в объеме всего датасета, значит их можно удалить. Пропусков в стобце year_of_release 269, что не очень много, поэтому удалим их. Пропусков в столбце genre всего два, это очень мало в объеме всего датасета, значит их можно удалить. Пропусков в стобце critic_score достаточное количество, поэтому заменим  их нулями. Аббревиатура TBD в столбце user_score означает to be determined (подлежит уточнению), так как таких значений в датасете 2424, то их нельзя удалить, заменим их нулями. Пропуски в стобце rating заменим на NA, так как их большое количество."
   ]
  },
  {
   "cell_type": "code",
   "execution_count": 7,
   "metadata": {},
   "outputs": [
    {
     "data": {
      "text/html": [
       "<div>\n",
       "<style scoped>\n",
       "    .dataframe tbody tr th:only-of-type {\n",
       "        vertical-align: middle;\n",
       "    }\n",
       "\n",
       "    .dataframe tbody tr th {\n",
       "        vertical-align: top;\n",
       "    }\n",
       "\n",
       "    .dataframe thead th {\n",
       "        text-align: right;\n",
       "    }\n",
       "</style>\n",
       "<table border=\"1\" class=\"dataframe\">\n",
       "  <thead>\n",
       "    <tr style=\"text-align: right;\">\n",
       "      <th></th>\n",
       "      <th>name</th>\n",
       "      <th>platform</th>\n",
       "      <th>year_of_release</th>\n",
       "      <th>genre</th>\n",
       "      <th>na_sales</th>\n",
       "      <th>eu_sales</th>\n",
       "      <th>jp_sales</th>\n",
       "      <th>other_sales</th>\n",
       "      <th>critic_score</th>\n",
       "      <th>user_score</th>\n",
       "      <th>rating</th>\n",
       "    </tr>\n",
       "  </thead>\n",
       "  <tbody>\n",
       "    <tr>\n",
       "      <td>0</td>\n",
       "      <td>Wii Sports</td>\n",
       "      <td>Wii</td>\n",
       "      <td>2006.0</td>\n",
       "      <td>Sports</td>\n",
       "      <td>41.36</td>\n",
       "      <td>28.96</td>\n",
       "      <td>3.77</td>\n",
       "      <td>8.45</td>\n",
       "      <td>76.0</td>\n",
       "      <td>8</td>\n",
       "      <td>E</td>\n",
       "    </tr>\n",
       "    <tr>\n",
       "      <td>1</td>\n",
       "      <td>Super Mario Bros.</td>\n",
       "      <td>NES</td>\n",
       "      <td>1985.0</td>\n",
       "      <td>Platform</td>\n",
       "      <td>29.08</td>\n",
       "      <td>3.58</td>\n",
       "      <td>6.81</td>\n",
       "      <td>0.77</td>\n",
       "      <td>NaN</td>\n",
       "      <td>NaN</td>\n",
       "      <td>NaN</td>\n",
       "    </tr>\n",
       "    <tr>\n",
       "      <td>2</td>\n",
       "      <td>Mario Kart Wii</td>\n",
       "      <td>Wii</td>\n",
       "      <td>2008.0</td>\n",
       "      <td>Racing</td>\n",
       "      <td>15.68</td>\n",
       "      <td>12.76</td>\n",
       "      <td>3.79</td>\n",
       "      <td>3.29</td>\n",
       "      <td>82.0</td>\n",
       "      <td>8.3</td>\n",
       "      <td>E</td>\n",
       "    </tr>\n",
       "    <tr>\n",
       "      <td>3</td>\n",
       "      <td>Wii Sports Resort</td>\n",
       "      <td>Wii</td>\n",
       "      <td>2009.0</td>\n",
       "      <td>Sports</td>\n",
       "      <td>15.61</td>\n",
       "      <td>10.93</td>\n",
       "      <td>3.28</td>\n",
       "      <td>2.95</td>\n",
       "      <td>80.0</td>\n",
       "      <td>8</td>\n",
       "      <td>E</td>\n",
       "    </tr>\n",
       "    <tr>\n",
       "      <td>4</td>\n",
       "      <td>Pokemon Red/Pokemon Blue</td>\n",
       "      <td>GB</td>\n",
       "      <td>1996.0</td>\n",
       "      <td>Role-Playing</td>\n",
       "      <td>11.27</td>\n",
       "      <td>8.89</td>\n",
       "      <td>10.22</td>\n",
       "      <td>1.00</td>\n",
       "      <td>NaN</td>\n",
       "      <td>NaN</td>\n",
       "      <td>NaN</td>\n",
       "    </tr>\n",
       "    <tr>\n",
       "      <td>...</td>\n",
       "      <td>...</td>\n",
       "      <td>...</td>\n",
       "      <td>...</td>\n",
       "      <td>...</td>\n",
       "      <td>...</td>\n",
       "      <td>...</td>\n",
       "      <td>...</td>\n",
       "      <td>...</td>\n",
       "      <td>...</td>\n",
       "      <td>...</td>\n",
       "      <td>...</td>\n",
       "    </tr>\n",
       "    <tr>\n",
       "      <td>16439</td>\n",
       "      <td>Samurai Warriors: Sanada Maru</td>\n",
       "      <td>PS3</td>\n",
       "      <td>2016.0</td>\n",
       "      <td>Action</td>\n",
       "      <td>0.00</td>\n",
       "      <td>0.00</td>\n",
       "      <td>0.01</td>\n",
       "      <td>0.00</td>\n",
       "      <td>NaN</td>\n",
       "      <td>NaN</td>\n",
       "      <td>NaN</td>\n",
       "    </tr>\n",
       "    <tr>\n",
       "      <td>16440</td>\n",
       "      <td>LMA Manager 2007</td>\n",
       "      <td>X360</td>\n",
       "      <td>2006.0</td>\n",
       "      <td>Sports</td>\n",
       "      <td>0.00</td>\n",
       "      <td>0.01</td>\n",
       "      <td>0.00</td>\n",
       "      <td>0.00</td>\n",
       "      <td>NaN</td>\n",
       "      <td>NaN</td>\n",
       "      <td>NaN</td>\n",
       "    </tr>\n",
       "    <tr>\n",
       "      <td>16441</td>\n",
       "      <td>Haitaka no Psychedelica</td>\n",
       "      <td>PSV</td>\n",
       "      <td>2016.0</td>\n",
       "      <td>Adventure</td>\n",
       "      <td>0.00</td>\n",
       "      <td>0.00</td>\n",
       "      <td>0.01</td>\n",
       "      <td>0.00</td>\n",
       "      <td>NaN</td>\n",
       "      <td>NaN</td>\n",
       "      <td>NaN</td>\n",
       "    </tr>\n",
       "    <tr>\n",
       "      <td>16442</td>\n",
       "      <td>Spirits &amp; Spells</td>\n",
       "      <td>GBA</td>\n",
       "      <td>2003.0</td>\n",
       "      <td>Platform</td>\n",
       "      <td>0.01</td>\n",
       "      <td>0.00</td>\n",
       "      <td>0.00</td>\n",
       "      <td>0.00</td>\n",
       "      <td>NaN</td>\n",
       "      <td>NaN</td>\n",
       "      <td>NaN</td>\n",
       "    </tr>\n",
       "    <tr>\n",
       "      <td>16443</td>\n",
       "      <td>Winning Post 8 2016</td>\n",
       "      <td>PSV</td>\n",
       "      <td>2016.0</td>\n",
       "      <td>Simulation</td>\n",
       "      <td>0.00</td>\n",
       "      <td>0.00</td>\n",
       "      <td>0.01</td>\n",
       "      <td>0.00</td>\n",
       "      <td>NaN</td>\n",
       "      <td>NaN</td>\n",
       "      <td>NaN</td>\n",
       "    </tr>\n",
       "  </tbody>\n",
       "</table>\n",
       "<p>16444 rows × 11 columns</p>\n",
       "</div>"
      ],
      "text/plain": [
       "                                name platform  year_of_release         genre  \\\n",
       "0                         Wii Sports      Wii           2006.0        Sports   \n",
       "1                  Super Mario Bros.      NES           1985.0      Platform   \n",
       "2                     Mario Kart Wii      Wii           2008.0        Racing   \n",
       "3                  Wii Sports Resort      Wii           2009.0        Sports   \n",
       "4           Pokemon Red/Pokemon Blue       GB           1996.0  Role-Playing   \n",
       "...                              ...      ...              ...           ...   \n",
       "16439  Samurai Warriors: Sanada Maru      PS3           2016.0        Action   \n",
       "16440               LMA Manager 2007     X360           2006.0        Sports   \n",
       "16441        Haitaka no Psychedelica      PSV           2016.0     Adventure   \n",
       "16442               Spirits & Spells      GBA           2003.0      Platform   \n",
       "16443            Winning Post 8 2016      PSV           2016.0    Simulation   \n",
       "\n",
       "       na_sales  eu_sales  jp_sales  other_sales  critic_score user_score  \\\n",
       "0         41.36     28.96      3.77         8.45          76.0          8   \n",
       "1         29.08      3.58      6.81         0.77           NaN        NaN   \n",
       "2         15.68     12.76      3.79         3.29          82.0        8.3   \n",
       "3         15.61     10.93      3.28         2.95          80.0          8   \n",
       "4         11.27      8.89     10.22         1.00           NaN        NaN   \n",
       "...         ...       ...       ...          ...           ...        ...   \n",
       "16439      0.00      0.00      0.01         0.00           NaN        NaN   \n",
       "16440      0.00      0.01      0.00         0.00           NaN        NaN   \n",
       "16441      0.00      0.00      0.01         0.00           NaN        NaN   \n",
       "16442      0.01      0.00      0.00         0.00           NaN        NaN   \n",
       "16443      0.00      0.00      0.01         0.00           NaN        NaN   \n",
       "\n",
       "      rating  \n",
       "0          E  \n",
       "1        NaN  \n",
       "2          E  \n",
       "3          E  \n",
       "4        NaN  \n",
       "...      ...  \n",
       "16439    NaN  \n",
       "16440    NaN  \n",
       "16441    NaN  \n",
       "16442    NaN  \n",
       "16443    NaN  \n",
       "\n",
       "[16444 rows x 11 columns]"
      ]
     },
     "execution_count": 7,
     "metadata": {},
     "output_type": "execute_result"
    }
   ],
   "source": [
    "#удалим строки с пропусками в столбцах name, year_of_release, genre\n",
    "df.dropna(subset=['name', 'year_of_release', 'genre'], inplace=True)\n",
    "df.reset_index(drop=True)"
   ]
  },
  {
   "cell_type": "markdown",
   "metadata": {},
   "source": [
    "<div class=\"alert alert-success\">\n",
    "<font size=\"5\"><b>Комментарий ревьюера</b></font>\n",
    "\n",
    "Успех: Соглашусь, такое количество пропусков мы вполне можем убрать из данных.\n",
    "\n",
    "</div>"
   ]
  },
  {
   "cell_type": "code",
   "execution_count": 8,
   "metadata": {},
   "outputs": [],
   "source": [
    "df['critic_score'] = df['critic_score'].fillna(0)\n",
    "df['user_score'] = df['user_score'].fillna(0)\n",
    "df[df['user_score'] == 'tbd'] = 0\n",
    "df['rating'] = df['rating'].fillna('NA')"
   ]
  },
  {
   "cell_type": "markdown",
   "metadata": {},
   "source": [
    "<div class=\"alert alert-success\">\n",
    "<font size=\"5\"><b>Комментарий ревьюера</b></font>\n",
    "\n",
    "Успех: Верно, по своей сути tbd и является пропуском. Отлично, что определяешь неявные пропущенные значения.\n",
    "\n",
    "</div>"
   ]
  },
  {
   "cell_type": "markdown",
   "metadata": {},
   "source": [
    "<div class=\"alert alert-warning\">\n",
    "<font size=\"5\"><b>Комментарий ревьюера</b></font>\n",
    "\n",
    "Совет: Но пропуски можно оставить в данных. Смотри, 0 - это нереальные данные, которыми мы помечаем пропуски. В итоге при анализе данных столбцов мы должны каждый раз отфильтровывать такие значения, т.к. анализировать их не надо. В итоге, в одном из пунктов можно забыть про такие значения и случайно включить маркерные значения в анализ, что вызовет ошибку в результатах работы.\n",
    "\n",
    "</div>"
   ]
  },
  {
   "cell_type": "code",
   "execution_count": 9,
   "metadata": {},
   "outputs": [
    {
     "data": {
      "text/plain": [
       "2375"
      ]
     },
     "execution_count": 9,
     "metadata": {},
     "output_type": "execute_result"
    }
   ],
   "source": [
    "#найдем дубликаты\n",
    "df.duplicated().sum()"
   ]
  },
  {
   "cell_type": "code",
   "execution_count": 10,
   "metadata": {},
   "outputs": [
    {
     "data": {
      "text/html": [
       "<div>\n",
       "<style scoped>\n",
       "    .dataframe tbody tr th:only-of-type {\n",
       "        vertical-align: middle;\n",
       "    }\n",
       "\n",
       "    .dataframe tbody tr th {\n",
       "        vertical-align: top;\n",
       "    }\n",
       "\n",
       "    .dataframe thead th {\n",
       "        text-align: right;\n",
       "    }\n",
       "</style>\n",
       "<table border=\"1\" class=\"dataframe\">\n",
       "  <thead>\n",
       "    <tr style=\"text-align: right;\">\n",
       "      <th></th>\n",
       "      <th>name</th>\n",
       "      <th>platform</th>\n",
       "      <th>year_of_release</th>\n",
       "      <th>genre</th>\n",
       "      <th>na_sales</th>\n",
       "      <th>eu_sales</th>\n",
       "      <th>jp_sales</th>\n",
       "      <th>other_sales</th>\n",
       "      <th>critic_score</th>\n",
       "      <th>user_score</th>\n",
       "      <th>rating</th>\n",
       "    </tr>\n",
       "  </thead>\n",
       "  <tbody>\n",
       "    <tr>\n",
       "      <td>0</td>\n",
       "      <td>Wii Sports</td>\n",
       "      <td>Wii</td>\n",
       "      <td>2006.0</td>\n",
       "      <td>Sports</td>\n",
       "      <td>41.36</td>\n",
       "      <td>28.96</td>\n",
       "      <td>3.77</td>\n",
       "      <td>8.45</td>\n",
       "      <td>76.0</td>\n",
       "      <td>8</td>\n",
       "      <td>E</td>\n",
       "    </tr>\n",
       "    <tr>\n",
       "      <td>1</td>\n",
       "      <td>Super Mario Bros.</td>\n",
       "      <td>NES</td>\n",
       "      <td>1985.0</td>\n",
       "      <td>Platform</td>\n",
       "      <td>29.08</td>\n",
       "      <td>3.58</td>\n",
       "      <td>6.81</td>\n",
       "      <td>0.77</td>\n",
       "      <td>0.0</td>\n",
       "      <td>0</td>\n",
       "      <td>NA</td>\n",
       "    </tr>\n",
       "    <tr>\n",
       "      <td>2</td>\n",
       "      <td>Mario Kart Wii</td>\n",
       "      <td>Wii</td>\n",
       "      <td>2008.0</td>\n",
       "      <td>Racing</td>\n",
       "      <td>15.68</td>\n",
       "      <td>12.76</td>\n",
       "      <td>3.79</td>\n",
       "      <td>3.29</td>\n",
       "      <td>82.0</td>\n",
       "      <td>8.3</td>\n",
       "      <td>E</td>\n",
       "    </tr>\n",
       "    <tr>\n",
       "      <td>3</td>\n",
       "      <td>Wii Sports Resort</td>\n",
       "      <td>Wii</td>\n",
       "      <td>2009.0</td>\n",
       "      <td>Sports</td>\n",
       "      <td>15.61</td>\n",
       "      <td>10.93</td>\n",
       "      <td>3.28</td>\n",
       "      <td>2.95</td>\n",
       "      <td>80.0</td>\n",
       "      <td>8</td>\n",
       "      <td>E</td>\n",
       "    </tr>\n",
       "    <tr>\n",
       "      <td>4</td>\n",
       "      <td>Pokemon Red/Pokemon Blue</td>\n",
       "      <td>GB</td>\n",
       "      <td>1996.0</td>\n",
       "      <td>Role-Playing</td>\n",
       "      <td>11.27</td>\n",
       "      <td>8.89</td>\n",
       "      <td>10.22</td>\n",
       "      <td>1.00</td>\n",
       "      <td>0.0</td>\n",
       "      <td>0</td>\n",
       "      <td>NA</td>\n",
       "    </tr>\n",
       "    <tr>\n",
       "      <td>...</td>\n",
       "      <td>...</td>\n",
       "      <td>...</td>\n",
       "      <td>...</td>\n",
       "      <td>...</td>\n",
       "      <td>...</td>\n",
       "      <td>...</td>\n",
       "      <td>...</td>\n",
       "      <td>...</td>\n",
       "      <td>...</td>\n",
       "      <td>...</td>\n",
       "      <td>...</td>\n",
       "    </tr>\n",
       "    <tr>\n",
       "      <td>14064</td>\n",
       "      <td>Samurai Warriors: Sanada Maru</td>\n",
       "      <td>PS3</td>\n",
       "      <td>2016.0</td>\n",
       "      <td>Action</td>\n",
       "      <td>0.00</td>\n",
       "      <td>0.00</td>\n",
       "      <td>0.01</td>\n",
       "      <td>0.00</td>\n",
       "      <td>0.0</td>\n",
       "      <td>0</td>\n",
       "      <td>NA</td>\n",
       "    </tr>\n",
       "    <tr>\n",
       "      <td>14065</td>\n",
       "      <td>LMA Manager 2007</td>\n",
       "      <td>X360</td>\n",
       "      <td>2006.0</td>\n",
       "      <td>Sports</td>\n",
       "      <td>0.00</td>\n",
       "      <td>0.01</td>\n",
       "      <td>0.00</td>\n",
       "      <td>0.00</td>\n",
       "      <td>0.0</td>\n",
       "      <td>0</td>\n",
       "      <td>NA</td>\n",
       "    </tr>\n",
       "    <tr>\n",
       "      <td>14066</td>\n",
       "      <td>Haitaka no Psychedelica</td>\n",
       "      <td>PSV</td>\n",
       "      <td>2016.0</td>\n",
       "      <td>Adventure</td>\n",
       "      <td>0.00</td>\n",
       "      <td>0.00</td>\n",
       "      <td>0.01</td>\n",
       "      <td>0.00</td>\n",
       "      <td>0.0</td>\n",
       "      <td>0</td>\n",
       "      <td>NA</td>\n",
       "    </tr>\n",
       "    <tr>\n",
       "      <td>14067</td>\n",
       "      <td>Spirits &amp; Spells</td>\n",
       "      <td>GBA</td>\n",
       "      <td>2003.0</td>\n",
       "      <td>Platform</td>\n",
       "      <td>0.01</td>\n",
       "      <td>0.00</td>\n",
       "      <td>0.00</td>\n",
       "      <td>0.00</td>\n",
       "      <td>0.0</td>\n",
       "      <td>0</td>\n",
       "      <td>NA</td>\n",
       "    </tr>\n",
       "    <tr>\n",
       "      <td>14068</td>\n",
       "      <td>Winning Post 8 2016</td>\n",
       "      <td>PSV</td>\n",
       "      <td>2016.0</td>\n",
       "      <td>Simulation</td>\n",
       "      <td>0.00</td>\n",
       "      <td>0.00</td>\n",
       "      <td>0.01</td>\n",
       "      <td>0.00</td>\n",
       "      <td>0.0</td>\n",
       "      <td>0</td>\n",
       "      <td>NA</td>\n",
       "    </tr>\n",
       "  </tbody>\n",
       "</table>\n",
       "<p>14069 rows × 11 columns</p>\n",
       "</div>"
      ],
      "text/plain": [
       "                                name platform  year_of_release         genre  \\\n",
       "0                         Wii Sports      Wii           2006.0        Sports   \n",
       "1                  Super Mario Bros.      NES           1985.0      Platform   \n",
       "2                     Mario Kart Wii      Wii           2008.0        Racing   \n",
       "3                  Wii Sports Resort      Wii           2009.0        Sports   \n",
       "4           Pokemon Red/Pokemon Blue       GB           1996.0  Role-Playing   \n",
       "...                              ...      ...              ...           ...   \n",
       "14064  Samurai Warriors: Sanada Maru      PS3           2016.0        Action   \n",
       "14065               LMA Manager 2007     X360           2006.0        Sports   \n",
       "14066        Haitaka no Psychedelica      PSV           2016.0     Adventure   \n",
       "14067               Spirits & Spells      GBA           2003.0      Platform   \n",
       "14068            Winning Post 8 2016      PSV           2016.0    Simulation   \n",
       "\n",
       "       na_sales  eu_sales  jp_sales  other_sales  critic_score user_score  \\\n",
       "0         41.36     28.96      3.77         8.45          76.0          8   \n",
       "1         29.08      3.58      6.81         0.77           0.0          0   \n",
       "2         15.68     12.76      3.79         3.29          82.0        8.3   \n",
       "3         15.61     10.93      3.28         2.95          80.0          8   \n",
       "4         11.27      8.89     10.22         1.00           0.0          0   \n",
       "...         ...       ...       ...          ...           ...        ...   \n",
       "14064      0.00      0.00      0.01         0.00           0.0          0   \n",
       "14065      0.00      0.01      0.00         0.00           0.0          0   \n",
       "14066      0.00      0.00      0.01         0.00           0.0          0   \n",
       "14067      0.01      0.00      0.00         0.00           0.0          0   \n",
       "14068      0.00      0.00      0.01         0.00           0.0          0   \n",
       "\n",
       "      rating  \n",
       "0          E  \n",
       "1         NA  \n",
       "2          E  \n",
       "3          E  \n",
       "4         NA  \n",
       "...      ...  \n",
       "14064     NA  \n",
       "14065     NA  \n",
       "14066     NA  \n",
       "14067     NA  \n",
       "14068     NA  \n",
       "\n",
       "[14069 rows x 11 columns]"
      ]
     },
     "execution_count": 10,
     "metadata": {},
     "output_type": "execute_result"
    }
   ],
   "source": [
    "#удалим дубликаты\n",
    "df.drop_duplicates().reset_index(drop=True)"
   ]
  },
  {
   "cell_type": "markdown",
   "metadata": {},
   "source": [
    "Дубликаты и пропуски отсутствуют."
   ]
  },
  {
   "cell_type": "markdown",
   "metadata": {},
   "source": [
    "--------------------"
   ]
  },
  {
   "cell_type": "markdown",
   "metadata": {},
   "source": [
    "Приведем типы данных в столбцах year_of_release и critic_score к целочисленному, потмоу что данных в этих столбцах должны иметь целочисленное значение. В столбце user_score изменим тип данных на float."
   ]
  },
  {
   "cell_type": "code",
   "execution_count": 11,
   "metadata": {},
   "outputs": [],
   "source": [
    "df['year_of_release'] = df['year_of_release'].astype('int')\n",
    "df['critic_score'] = df['critic_score'].astype('int')\n",
    "df['user_score'] = df['user_score'].astype('float')"
   ]
  },
  {
   "cell_type": "markdown",
   "metadata": {},
   "source": [
    "-----------------"
   ]
  },
  {
   "cell_type": "markdown",
   "metadata": {},
   "source": [
    "Посчитаем суммарные продажи во всех регионах и запишем их в отдельный столбец total_sales."
   ]
  },
  {
   "cell_type": "code",
   "execution_count": 12,
   "metadata": {},
   "outputs": [],
   "source": [
    "df['total_sales'] = df['na_sales'] + df['jp_sales'] + df['eu_sales'] + df['other_sales']"
   ]
  },
  {
   "cell_type": "markdown",
   "metadata": {},
   "source": [
    "<div class=\"alert alert-success\">\n",
    "<font size=\"5\"><b>Комментарий ревьюера</b></font>\n",
    "\n",
    "Успех: Да, восстановить пропущенные значения мы не можем. Данных для этого недостаточно. Лучше работать с меньшим количеством данных хорошего качества.\n",
    "    \n",
    "Ошибки в данных устранены. Данные подготовлены к дальнейшему анализу. \n",
    "\n",
    "</div>"
   ]
  },
  {
   "cell_type": "markdown",
   "metadata": {},
   "source": [
    "## Проведем исследовательский анализ данных"
   ]
  },
  {
   "cell_type": "markdown",
   "metadata": {},
   "source": [
    "Посмотрим, сколько игр выпускалось в разные годы. Выясним, важны ли данные за все периоды."
   ]
  },
  {
   "cell_type": "code",
   "execution_count": 13,
   "metadata": {},
   "outputs": [
    {
     "data": {
      "text/plain": [
       "year_of_release\n",
       "1980       9\n",
       "1985      14\n",
       "1984      14\n",
       "1988      15\n",
       "1987      16\n",
       "1990      16\n",
       "1989      17\n",
       "1983      17\n",
       "1986      21\n",
       "1982      36\n",
       "1991      41\n",
       "1992      43\n",
       "1981      46\n",
       "1993      60\n",
       "1994     121\n",
       "1995     219\n",
       "1996     263\n",
       "1997     288\n",
       "2000     307\n",
       "1999     330\n",
       "1998     379\n",
       "2001     400\n",
       "2016     468\n",
       "2013     529\n",
       "2014     560\n",
       "2015     568\n",
       "2012     629\n",
       "2002     637\n",
       "2004     655\n",
       "2003     680\n",
       "2005     818\n",
       "2006     882\n",
       "2011     919\n",
       "2010     924\n",
       "2007    1005\n",
       "2009    1021\n",
       "2008    1101\n",
       "0       2376\n",
       "Name: name, dtype: int64"
      ]
     },
     "execution_count": 13,
     "metadata": {},
     "output_type": "execute_result"
    }
   ],
   "source": [
    "df.groupby('year_of_release')['name'].count().sort_values()"
   ]
  },
  {
   "cell_type": "markdown",
   "metadata": {},
   "source": [
    "Важны все данные, начиная с 2010 года, так как платформы которые были популярны до этого уже вымерли. "
   ]
  },
  {
   "cell_type": "markdown",
   "metadata": {},
   "source": [
    "<div class=\"alert alert-success\">\n",
    "<font size=\"5\"><b>Комментарий ревьюера</b></font>\n",
    "\n",
    "Успех: Как думаешь, с чем связан спад в индустрии последних лет?\n",
    "\n",
    "</div>"
   ]
  },
  {
   "cell_type": "markdown",
   "metadata": {},
   "source": [
    "<div class=\"alert alert-info\">Спад индустрии последних лет связан с развитием мобильного гейминга.</div>"
   ]
  },
  {
   "cell_type": "markdown",
   "metadata": {},
   "source": [
    "<div class=\"alert alert-success\">\n",
    "<font size=\"5\"><b>Комментарий ревьюера 2</b></font>\n",
    "\n",
    "Успех: Соглашусь с твоим предположением. \n",
    "\n",
    "</div>"
   ]
  },
  {
   "cell_type": "markdown",
   "metadata": {},
   "source": [
    "---------------"
   ]
  },
  {
   "cell_type": "markdown",
   "metadata": {},
   "source": [
    "Посмотрим, как менялись продажи по платформам."
   ]
  },
  {
   "cell_type": "code",
   "execution_count": 14,
   "metadata": {},
   "outputs": [
    {
     "data": {
      "text/html": [
       "<div>\n",
       "<style scoped>\n",
       "    .dataframe tbody tr th:only-of-type {\n",
       "        vertical-align: middle;\n",
       "    }\n",
       "\n",
       "    .dataframe tbody tr th {\n",
       "        vertical-align: top;\n",
       "    }\n",
       "\n",
       "    .dataframe thead th {\n",
       "        text-align: right;\n",
       "    }\n",
       "</style>\n",
       "<table border=\"1\" class=\"dataframe\">\n",
       "  <thead>\n",
       "    <tr style=\"text-align: right;\">\n",
       "      <th></th>\n",
       "      <th>total_sales</th>\n",
       "    </tr>\n",
       "    <tr>\n",
       "      <th>platform</th>\n",
       "      <th></th>\n",
       "    </tr>\n",
       "  </thead>\n",
       "  <tbody>\n",
       "    <tr>\n",
       "      <td>0</td>\n",
       "      <td>0.00</td>\n",
       "    </tr>\n",
       "    <tr>\n",
       "      <td>PCFX</td>\n",
       "      <td>0.03</td>\n",
       "    </tr>\n",
       "    <tr>\n",
       "      <td>GG</td>\n",
       "      <td>0.04</td>\n",
       "    </tr>\n",
       "    <tr>\n",
       "      <td>3DO</td>\n",
       "      <td>0.10</td>\n",
       "    </tr>\n",
       "    <tr>\n",
       "      <td>TG16</td>\n",
       "      <td>0.16</td>\n",
       "    </tr>\n",
       "    <tr>\n",
       "      <td>WS</td>\n",
       "      <td>1.42</td>\n",
       "    </tr>\n",
       "    <tr>\n",
       "      <td>NG</td>\n",
       "      <td>1.44</td>\n",
       "    </tr>\n",
       "    <tr>\n",
       "      <td>SCD</td>\n",
       "      <td>1.86</td>\n",
       "    </tr>\n",
       "    <tr>\n",
       "      <td>DC</td>\n",
       "      <td>15.95</td>\n",
       "    </tr>\n",
       "    <tr>\n",
       "      <td>GEN</td>\n",
       "      <td>28.35</td>\n",
       "    </tr>\n",
       "    <tr>\n",
       "      <td>SAT</td>\n",
       "      <td>33.59</td>\n",
       "    </tr>\n",
       "    <tr>\n",
       "      <td>PSV</td>\n",
       "      <td>53.50</td>\n",
       "    </tr>\n",
       "    <tr>\n",
       "      <td>WiiU</td>\n",
       "      <td>81.79</td>\n",
       "    </tr>\n",
       "    <tr>\n",
       "      <td>2600</td>\n",
       "      <td>86.48</td>\n",
       "    </tr>\n",
       "    <tr>\n",
       "      <td>XOne</td>\n",
       "      <td>158.77</td>\n",
       "    </tr>\n",
       "    <tr>\n",
       "      <td>GC</td>\n",
       "      <td>185.68</td>\n",
       "    </tr>\n",
       "    <tr>\n",
       "      <td>SNES</td>\n",
       "      <td>200.04</td>\n",
       "    </tr>\n",
       "    <tr>\n",
       "      <td>N64</td>\n",
       "      <td>218.01</td>\n",
       "    </tr>\n",
       "    <tr>\n",
       "      <td>XB</td>\n",
       "      <td>236.38</td>\n",
       "    </tr>\n",
       "    <tr>\n",
       "      <td>NES</td>\n",
       "      <td>251.05</td>\n",
       "    </tr>\n",
       "    <tr>\n",
       "      <td>PC</td>\n",
       "      <td>252.25</td>\n",
       "    </tr>\n",
       "    <tr>\n",
       "      <td>3DS</td>\n",
       "      <td>253.24</td>\n",
       "    </tr>\n",
       "    <tr>\n",
       "      <td>GB</td>\n",
       "      <td>254.43</td>\n",
       "    </tr>\n",
       "    <tr>\n",
       "      <td>GBA</td>\n",
       "      <td>263.70</td>\n",
       "    </tr>\n",
       "    <tr>\n",
       "      <td>PSP</td>\n",
       "      <td>273.11</td>\n",
       "    </tr>\n",
       "    <tr>\n",
       "      <td>PS4</td>\n",
       "      <td>314.00</td>\n",
       "    </tr>\n",
       "    <tr>\n",
       "      <td>DS</td>\n",
       "      <td>655.36</td>\n",
       "    </tr>\n",
       "    <tr>\n",
       "      <td>PS</td>\n",
       "      <td>714.26</td>\n",
       "    </tr>\n",
       "    <tr>\n",
       "      <td>Wii</td>\n",
       "      <td>791.91</td>\n",
       "    </tr>\n",
       "    <tr>\n",
       "      <td>PS3</td>\n",
       "      <td>921.09</td>\n",
       "    </tr>\n",
       "    <tr>\n",
       "      <td>X360</td>\n",
       "      <td>948.74</td>\n",
       "    </tr>\n",
       "    <tr>\n",
       "      <td>PS2</td>\n",
       "      <td>1171.19</td>\n",
       "    </tr>\n",
       "  </tbody>\n",
       "</table>\n",
       "</div>"
      ],
      "text/plain": [
       "          total_sales\n",
       "platform             \n",
       "0                0.00\n",
       "PCFX             0.03\n",
       "GG               0.04\n",
       "3DO              0.10\n",
       "TG16             0.16\n",
       "WS               1.42\n",
       "NG               1.44\n",
       "SCD              1.86\n",
       "DC              15.95\n",
       "GEN             28.35\n",
       "SAT             33.59\n",
       "PSV             53.50\n",
       "WiiU            81.79\n",
       "2600            86.48\n",
       "XOne           158.77\n",
       "GC             185.68\n",
       "SNES           200.04\n",
       "N64            218.01\n",
       "XB             236.38\n",
       "NES            251.05\n",
       "PC             252.25\n",
       "3DS            253.24\n",
       "GB             254.43\n",
       "GBA            263.70\n",
       "PSP            273.11\n",
       "PS4            314.00\n",
       "DS             655.36\n",
       "PS             714.26\n",
       "Wii            791.91\n",
       "PS3            921.09\n",
       "X360           948.74\n",
       "PS2           1171.19"
      ]
     },
     "execution_count": 14,
     "metadata": {},
     "output_type": "execute_result"
    }
   ],
   "source": [
    "pd.pivot_table(df, values=['total_sales'], index=['platform'], aggfunc='sum').sort_values(by='total_sales')"
   ]
  },
  {
   "cell_type": "markdown",
   "metadata": {},
   "source": [
    "Наибольшие суммарные продажи у платформ: PS2, X360, PS3, Wii, PS. Построим для них графики распределения суммарных продаж по годам."
   ]
  },
  {
   "cell_type": "code",
   "execution_count": 15,
   "metadata": {},
   "outputs": [
    {
     "data": {
      "image/png": "[encoded data removed]",
      "text/plain": [
       "<Figure size 432x288 with 1 Axes>"
      ]
     },
     "metadata": {
      "needs_background": "light"
     },
     "output_type": "display_data"
    },
    {
     "name": "stdout",
     "output_type": "stream",
     "text": [
      "peak = 2005 , duration = 11\n"
     ]
    },
    {
     "data": {
      "image/png": "[encoded data removed]",
      "text/plain": [
       "<Figure size 432x288 with 1 Axes>"
      ]
     },
     "metadata": {
      "needs_background": "light"
     },
     "output_type": "display_data"
    },
    {
     "name": "stdout",
     "output_type": "stream",
     "text": [
      "peak = 2011 , duration = 11\n"
     ]
    },
    {
     "data": {
      "image/png": "[encoded data removed]",
      "text/plain": [
       "<Figure size 432x288 with 1 Axes>"
      ]
     },
     "metadata": {
      "needs_background": "light"
     },
     "output_type": "display_data"
    },
    {
     "name": "stdout",
     "output_type": "stream",
     "text": [
      "peak = 2011 , duration = 10\n"
     ]
    },
    {
     "data": {
      "image/png": "[encoded data removed]",
      "text/plain": [
       "<Figure size 432x288 with 1 Axes>"
      ]
     },
     "metadata": {
      "needs_background": "light"
     },
     "output_type": "display_data"
    },
    {
     "name": "stdout",
     "output_type": "stream",
     "text": [
      "peak = 2008 , duration = 9\n"
     ]
    },
    {
     "data": {
      "image/png": "[encoded data removed]",
      "text/plain": [
       "<Figure size 432x288 with 1 Axes>"
      ]
     },
     "metadata": {
      "needs_background": "light"
     },
     "output_type": "display_data"
    },
    {
     "name": "stdout",
     "output_type": "stream",
     "text": [
      "peak = 1998 , duration = 9\n"
     ]
    }
   ],
   "source": [
    "platform = ['PS2', 'X360', 'PS3', 'Wii', 'PS']\n",
    "\n",
    "for i in platform:\n",
    "    a= df.query('platform == @i')['year_of_release']\n",
    "    a.hist(bins = 15)\n",
    "    plt.title(i)\n",
    "    plt.show()\n",
    "    print('peak =', a.value_counts().index[0], ', duration =', a.value_counts().index.max() - a.value_counts().index.min())"
   ]
  },
  {
   "cell_type": "markdown",
   "metadata": {},
   "source": [
    "Для PS2 пик продаж в 2005 году, для X360 и PS3 пик продаж приходится на 2011 год, для Wii пик продаж пришелся на 2008 год, а для PS пик пришелся на 1998 год. Это вероятно связано с годом выхода этих платформ и соответственно с ростом популярности игр на них. Новые платформы появляются примерно раз в 3-4 года. Продолжительность существования платформ колеблется в пределах от 9 до 11 лет. В дальнейший расчет не стоит включать устаревшие платформы."
   ]
  },
  {
   "cell_type": "markdown",
   "metadata": {},
   "source": [
    "<div class=\"alert alert-warning\">\n",
    "<font size=\"5\"><b>Комментарий ревьюера</b></font>\n",
    "\n",
    "Совет: Значение средней продолжительности существования платформы приведено. Однако выводы ты делаешь по графикам. Стоит также привести расчет данного значения. Подумай, стоит ли включать в расчет все платформы. Будут ли выбросы по продолжительности существования платформ?\n",
    "\n",
    "</div>"
   ]
  },
  {
   "cell_type": "markdown",
   "metadata": {},
   "source": [
    "<div class=\"alert alert-success\">\n",
    "<font size=\"5\"><b>Комментарий ревьюера 2</b></font>\n",
    "\n",
    "Успех: Здорово, что ты привел расчет периода жизни каждой платформы. Полученные значения подтверждают ранее сделанные выводы. \n",
    "\n",
    "</div>"
   ]
  },
  {
   "cell_type": "markdown",
   "metadata": {},
   "source": [
    "------------------------------"
   ]
  },
  {
   "cell_type": "markdown",
   "metadata": {},
   "source": [
    "Возьмем данные за актуальный период c 2010 года, эти данные помогут построить прогноз на 2017 год."
   ]
  },
  {
   "cell_type": "code",
   "execution_count": 16,
   "metadata": {},
   "outputs": [
    {
     "data": {
      "text/html": [
       "<div>\n",
       "<style scoped>\n",
       "    .dataframe tbody tr th:only-of-type {\n",
       "        vertical-align: middle;\n",
       "    }\n",
       "\n",
       "    .dataframe tbody tr th {\n",
       "        vertical-align: top;\n",
       "    }\n",
       "\n",
       "    .dataframe thead th {\n",
       "        text-align: right;\n",
       "    }\n",
       "</style>\n",
       "<table border=\"1\" class=\"dataframe\">\n",
       "  <thead>\n",
       "    <tr style=\"text-align: right;\">\n",
       "      <th></th>\n",
       "      <th>name</th>\n",
       "      <th>platform</th>\n",
       "      <th>year_of_release</th>\n",
       "      <th>genre</th>\n",
       "      <th>na_sales</th>\n",
       "      <th>eu_sales</th>\n",
       "      <th>jp_sales</th>\n",
       "      <th>other_sales</th>\n",
       "      <th>critic_score</th>\n",
       "      <th>user_score</th>\n",
       "      <th>rating</th>\n",
       "      <th>total_sales</th>\n",
       "    </tr>\n",
       "  </thead>\n",
       "  <tbody>\n",
       "    <tr>\n",
       "      <td>0</td>\n",
       "      <td>Kinect Adventures!</td>\n",
       "      <td>X360</td>\n",
       "      <td>2010</td>\n",
       "      <td>Misc</td>\n",
       "      <td>15.00</td>\n",
       "      <td>4.89</td>\n",
       "      <td>0.24</td>\n",
       "      <td>1.69</td>\n",
       "      <td>61</td>\n",
       "      <td>6.3</td>\n",
       "      <td>E</td>\n",
       "      <td>21.82</td>\n",
       "    </tr>\n",
       "    <tr>\n",
       "      <td>1</td>\n",
       "      <td>Grand Theft Auto V</td>\n",
       "      <td>PS3</td>\n",
       "      <td>2013</td>\n",
       "      <td>Action</td>\n",
       "      <td>7.02</td>\n",
       "      <td>9.09</td>\n",
       "      <td>0.98</td>\n",
       "      <td>3.96</td>\n",
       "      <td>97</td>\n",
       "      <td>8.2</td>\n",
       "      <td>M</td>\n",
       "      <td>21.05</td>\n",
       "    </tr>\n",
       "    <tr>\n",
       "      <td>2</td>\n",
       "      <td>Grand Theft Auto V</td>\n",
       "      <td>X360</td>\n",
       "      <td>2013</td>\n",
       "      <td>Action</td>\n",
       "      <td>9.66</td>\n",
       "      <td>5.14</td>\n",
       "      <td>0.06</td>\n",
       "      <td>1.41</td>\n",
       "      <td>97</td>\n",
       "      <td>8.1</td>\n",
       "      <td>M</td>\n",
       "      <td>16.27</td>\n",
       "    </tr>\n",
       "    <tr>\n",
       "      <td>3</td>\n",
       "      <td>Pokemon Black/Pokemon White</td>\n",
       "      <td>DS</td>\n",
       "      <td>2010</td>\n",
       "      <td>Role-Playing</td>\n",
       "      <td>5.51</td>\n",
       "      <td>3.17</td>\n",
       "      <td>5.65</td>\n",
       "      <td>0.80</td>\n",
       "      <td>0</td>\n",
       "      <td>0.0</td>\n",
       "      <td>NA</td>\n",
       "      <td>15.13</td>\n",
       "    </tr>\n",
       "    <tr>\n",
       "      <td>4</td>\n",
       "      <td>Call of Duty: Modern Warfare 3</td>\n",
       "      <td>X360</td>\n",
       "      <td>2011</td>\n",
       "      <td>Shooter</td>\n",
       "      <td>9.04</td>\n",
       "      <td>4.24</td>\n",
       "      <td>0.13</td>\n",
       "      <td>1.32</td>\n",
       "      <td>88</td>\n",
       "      <td>3.4</td>\n",
       "      <td>M</td>\n",
       "      <td>14.73</td>\n",
       "    </tr>\n",
       "    <tr>\n",
       "      <td>5</td>\n",
       "      <td>Call of Duty: Black Ops 3</td>\n",
       "      <td>PS4</td>\n",
       "      <td>2015</td>\n",
       "      <td>Shooter</td>\n",
       "      <td>6.03</td>\n",
       "      <td>5.86</td>\n",
       "      <td>0.36</td>\n",
       "      <td>2.38</td>\n",
       "      <td>0</td>\n",
       "      <td>0.0</td>\n",
       "      <td>NA</td>\n",
       "      <td>14.63</td>\n",
       "    </tr>\n",
       "    <tr>\n",
       "      <td>6</td>\n",
       "      <td>Call of Duty: Black Ops</td>\n",
       "      <td>X360</td>\n",
       "      <td>2010</td>\n",
       "      <td>Shooter</td>\n",
       "      <td>9.70</td>\n",
       "      <td>3.68</td>\n",
       "      <td>0.11</td>\n",
       "      <td>1.13</td>\n",
       "      <td>87</td>\n",
       "      <td>6.3</td>\n",
       "      <td>M</td>\n",
       "      <td>14.62</td>\n",
       "    </tr>\n",
       "    <tr>\n",
       "      <td>7</td>\n",
       "      <td>Pokemon X/Pokemon Y</td>\n",
       "      <td>3DS</td>\n",
       "      <td>2013</td>\n",
       "      <td>Role-Playing</td>\n",
       "      <td>5.28</td>\n",
       "      <td>4.19</td>\n",
       "      <td>4.35</td>\n",
       "      <td>0.78</td>\n",
       "      <td>0</td>\n",
       "      <td>0.0</td>\n",
       "      <td>NA</td>\n",
       "      <td>14.60</td>\n",
       "    </tr>\n",
       "    <tr>\n",
       "      <td>8</td>\n",
       "      <td>Call of Duty: Black Ops II</td>\n",
       "      <td>PS3</td>\n",
       "      <td>2012</td>\n",
       "      <td>Shooter</td>\n",
       "      <td>4.99</td>\n",
       "      <td>5.73</td>\n",
       "      <td>0.65</td>\n",
       "      <td>2.42</td>\n",
       "      <td>83</td>\n",
       "      <td>5.3</td>\n",
       "      <td>M</td>\n",
       "      <td>13.79</td>\n",
       "    </tr>\n",
       "    <tr>\n",
       "      <td>9</td>\n",
       "      <td>Call of Duty: Black Ops II</td>\n",
       "      <td>X360</td>\n",
       "      <td>2012</td>\n",
       "      <td>Shooter</td>\n",
       "      <td>8.25</td>\n",
       "      <td>4.24</td>\n",
       "      <td>0.07</td>\n",
       "      <td>1.12</td>\n",
       "      <td>83</td>\n",
       "      <td>4.8</td>\n",
       "      <td>M</td>\n",
       "      <td>13.68</td>\n",
       "    </tr>\n",
       "  </tbody>\n",
       "</table>\n",
       "</div>"
      ],
      "text/plain": [
       "                             name platform  year_of_release         genre  \\\n",
       "0              Kinect Adventures!     X360             2010          Misc   \n",
       "1              Grand Theft Auto V      PS3             2013        Action   \n",
       "2              Grand Theft Auto V     X360             2013        Action   \n",
       "3     Pokemon Black/Pokemon White       DS             2010  Role-Playing   \n",
       "4  Call of Duty: Modern Warfare 3     X360             2011       Shooter   \n",
       "5       Call of Duty: Black Ops 3      PS4             2015       Shooter   \n",
       "6         Call of Duty: Black Ops     X360             2010       Shooter   \n",
       "7             Pokemon X/Pokemon Y      3DS             2013  Role-Playing   \n",
       "8      Call of Duty: Black Ops II      PS3             2012       Shooter   \n",
       "9      Call of Duty: Black Ops II     X360             2012       Shooter   \n",
       "\n",
       "   na_sales  eu_sales  jp_sales  other_sales  critic_score  user_score rating  \\\n",
       "0     15.00      4.89      0.24         1.69            61         6.3      E   \n",
       "1      7.02      9.09      0.98         3.96            97         8.2      M   \n",
       "2      9.66      5.14      0.06         1.41            97         8.1      M   \n",
       "3      5.51      3.17      5.65         0.80             0         0.0     NA   \n",
       "4      9.04      4.24      0.13         1.32            88         3.4      M   \n",
       "5      6.03      5.86      0.36         2.38             0         0.0     NA   \n",
       "6      9.70      3.68      0.11         1.13            87         6.3      M   \n",
       "7      5.28      4.19      4.35         0.78             0         0.0     NA   \n",
       "8      4.99      5.73      0.65         2.42            83         5.3      M   \n",
       "9      8.25      4.24      0.07         1.12            83         4.8      M   \n",
       "\n",
       "   total_sales  \n",
       "0        21.82  \n",
       "1        21.05  \n",
       "2        16.27  \n",
       "3        15.13  \n",
       "4        14.73  \n",
       "5        14.63  \n",
       "6        14.62  \n",
       "7        14.60  \n",
       "8        13.79  \n",
       "9        13.68  "
      ]
     },
     "execution_count": 16,
     "metadata": {},
     "output_type": "execute_result"
    }
   ],
   "source": [
    "df_act = df.query('year_of_release >= 2010').reset_index(drop = True)\n",
    "df_act.head(10)"
   ]
  },
  {
   "cell_type": "markdown",
   "metadata": {},
   "source": [
    "<div class=\"alert alert-danger\">\n",
    "<font size=\"5\"><b>Комментарий ревьюера</b></font>\n",
    "\n",
    "Ошибка: Актуальный период назван. Его следует уменьшить. Сейчас у тебя в периоде содержится несколько этапов развития индустрии: становление рынка, рост продаж до 2008 года, пик 2008 и 2009 годов, а также сокращение рынка последних годов. Также большей части платформ уже нет в 2016 году, в построении прогноза на 2017 год они нам не помогут. При уменьшении периода в рассмотрение попадут только последние поколения платформ, а также будем рассматривать только конечный на данный момент интервал развития игровой индустрии. \n",
    "\n",
    "</div>"
   ]
  },
  {
   "cell_type": "markdown",
   "metadata": {},
   "source": [
    "<div class=\"alert alert-success\">\n",
    "<font size=\"5\"><b>Комментарий ревьюера 2</b></font>\n",
    "\n",
    "Успех: Анализ такого периода позволит нам увеличить точность и качество прогноза на 2017 год. \n",
    "\n",
    "</div>"
   ]
  },
  {
   "cell_type": "markdown",
   "metadata": {},
   "source": [
    "Найдем топ-5 перспективных платформ для нового датасета за актуальный период."
   ]
  },
  {
   "cell_type": "code",
   "execution_count": 17,
   "metadata": {},
   "outputs": [
    {
     "data": {
      "image/png": "[encoded data removed]",
      "text/plain": [
       "<Figure size 432x144 with 1 Axes>"
      ]
     },
     "metadata": {
      "needs_background": "light"
     },
     "output_type": "display_data"
    },
    {
     "data": {
      "image/png": "[encoded data removed]",
      "text/plain": [
       "<Figure size 432x144 with 1 Axes>"
      ]
     },
     "metadata": {
      "needs_background": "light"
     },
     "output_type": "display_data"
    },
    {
     "data": {
      "image/png": "[encoded data removed]",
      "text/plain": [
       "<Figure size 432x144 with 1 Axes>"
      ]
     },
     "metadata": {
      "needs_background": "light"
     },
     "output_type": "display_data"
    },
    {
     "data": {
      "image/png": "[encoded data removed]",
      "text/plain": [
       "<Figure size 432x144 with 1 Axes>"
      ]
     },
     "metadata": {
      "needs_background": "light"
     },
     "output_type": "display_data"
    },
    {
     "data": {
      "image/png": "[encoded data removed]",
      "text/plain": [
       "<Figure size 432x144 with 1 Axes>"
      ]
     },
     "metadata": {
      "needs_background": "light"
     },
     "output_type": "display_data"
    },
    {
     "data": {
      "image/png": "[encoded data removed]",
      "text/plain": [
       "<Figure size 432x144 with 1 Axes>"
      ]
     },
     "metadata": {
      "needs_background": "light"
     },
     "output_type": "display_data"
    },
    {
     "data": {
      "image/png": "[encoded data removed]",
      "text/plain": [
       "<Figure size 432x144 with 1 Axes>"
      ]
     },
     "metadata": {
      "needs_background": "light"
     },
     "output_type": "display_data"
    },
    {
     "data": {
      "image/png": "[encoded data removed]",
      "text/plain": [
       "<Figure size 432x144 with 1 Axes>"
      ]
     },
     "metadata": {
      "needs_background": "light"
     },
     "output_type": "display_data"
    },
    {
     "data": {
      "image/png": "[encoded data removed]",
      "text/plain": [
       "<Figure size 432x144 with 1 Axes>"
      ]
     },
     "metadata": {
      "needs_background": "light"
     },
     "output_type": "display_data"
    },
    {
     "data": {
      "image/png": "[encoded data removed]",
      "text/plain": [
       "<Figure size 432x144 with 1 Axes>"
      ]
     },
     "metadata": {
      "needs_background": "light"
     },
     "output_type": "display_data"
    },
    {
     "data": {
      "image/png": "[encoded data removed]",
      "text/plain": [
       "<Figure size 432x144 with 1 Axes>"
      ]
     },
     "metadata": {
      "needs_background": "light"
     },
     "output_type": "display_data"
    },
    {
     "data": {
      "image/png": "[encoded data removed]",
      "text/plain": [
       "<Figure size 432x144 with 1 Axes>"
      ]
     },
     "metadata": {
      "needs_background": "light"
     },
     "output_type": "display_data"
    }
   ],
   "source": [
    "\n",
    "for i in df_act['platform'].unique():\n",
    "    plt.subplots(figsize=(6, 2))\n",
    "    plt.title(i)\n",
    "    plt.scatter(x=pd.pivot_table(df_act, values=['total_sales'], index=['platform', 'year_of_release'], aggfunc='sum').loc[i].index, y=pd.pivot_table(df_act, values=['total_sales'], index=['platform', 'year_of_release'], aggfunc='sum').loc[i])\n",
    "    plt.show()"
   ]
  },
  {
   "cell_type": "markdown",
   "metadata": {},
   "source": [
    "Перспективными платформами являются только XOne и PS4, остальные платформы имеют ярко выраженную тенденцию к снижению количества продаж до нуля"
   ]
  },
  {
   "cell_type": "markdown",
   "metadata": {},
   "source": [
    "<div class=\"alert alert-danger\">\n",
    "<font size=\"5\"><b>Комментарий ревьюера</b></font>\n",
    "\n",
    "Ошибка: Какие платформы мы можем назвать перспективными на 2017 год? Оцени динамику продаж по платформам за последние годы. \n",
    "\n",
    "</div>"
   ]
  },
  {
   "cell_type": "markdown",
   "metadata": {},
   "source": [
    "<div class=\"alert alert-danger\">\n",
    "<font size=\"5\"><b>Комментарий ревьюера 2</b></font>\n",
    "\n",
    "Ошибка: Ты выводишь актуальные платформы. Но актуальные и перспективные - это разные свойства. Посмотри на динамику продаж по платформам актуального периода, выбери платформы с ростом продаж за последние годы. Нас просят определить именно перспективные платформы. \n",
    "\n",
    "</div>"
   ]
  },
  {
   "cell_type": "markdown",
   "metadata": {},
   "source": [
    "-----------------"
   ]
  },
  {
   "cell_type": "markdown",
   "metadata": {},
   "source": [
    "Построим график «ящик с усами» по глобальным продажам игр в разбивке по платформам"
   ]
  },
  {
   "cell_type": "code",
   "execution_count": 18,
   "metadata": {},
   "outputs": [
    {
     "data": {
      "image/png": "[encoded data removed]",
      "text/plain": [
       "<Figure size 1800x360 with 1 Axes>"
      ]
     },
     "metadata": {
      "needs_background": "light"
     },
     "output_type": "display_data"
    },
    {
     "name": "stdout",
     "output_type": "stream",
     "text": [
      "median = 0.24000000000000002\n"
     ]
    },
    {
     "data": {
      "image/png": "[encoded data removed]",
      "text/plain": [
       "<Figure size 1800x360 with 1 Axes>"
      ]
     },
     "metadata": {
      "needs_background": "light"
     },
     "output_type": "display_data"
    },
    {
     "name": "stdout",
     "output_type": "stream",
     "text": [
      "median = 0.2\n"
     ]
    }
   ],
   "source": [
    "pop_platform = ['XOne', 'PS4']\n",
    "\n",
    "for i in pop_platform:\n",
    "    plt.subplots(figsize=(25, 5))\n",
    "    plt.boxplot(df_act.query('platform == @i')['total_sales'], vert=False)\n",
    "    plt.title(i)\n",
    "    plt.show()\n",
    "    print('median =', df_act.query('platform == @i')['total_sales'].median())\n",
    "    "
   ]
  },
  {
   "cell_type": "markdown",
   "metadata": {},
   "source": [
    "<div class=\"alert alert-danger\">\n",
    "<font size=\"5\"><b>Комментарий ревьюера</b></font>\n",
    "\n",
    "Ошибка: Диаграмму размаха нас просят построить для каждой платформы актуального периода. Для этого тебе не нужно строить сводные таблицы, используй данные каждой платформы для визуализации уровня продаж по ним. \n",
    "\n",
    "</div>"
   ]
  },
  {
   "cell_type": "markdown",
   "metadata": {},
   "source": [
    "<div class=\"alert alert-warning\">\n",
    "<font size=\"5\"><b>Комментарий ревьюера 2</b></font>\n",
    " \n",
    "Совет: Подумай, из-за чего формируется разница между платформами. Не забывай делать выводы по каждому пункту анализа. \n",
    "</div>"
   ]
  },
  {
   "cell_type": "markdown",
   "metadata": {},
   "source": [
    "<div class=\"alert alert-info\">Разница между платформами формируется по различным причинам: новизна платформы, количество эксклюзивных игр выходящих на них, стоимость самих платформ, мобильность платформ...</div>"
   ]
  },
  {
   "cell_type": "markdown",
   "metadata": {},
   "source": [
    "--------------"
   ]
  },
  {
   "cell_type": "markdown",
   "metadata": {},
   "source": [
    "Посмотрим, как влияют на продажи внутри одной популярной платформы отзывы пользователей и критиков"
   ]
  },
  {
   "cell_type": "code",
   "execution_count": 19,
   "metadata": {},
   "outputs": [
    {
     "name": "stdout",
     "output_type": "stream",
     "text": [
      "Зависимость количества продаж от оценок пользователей\n"
     ]
    },
    {
     "data": {
      "image/png": "[encoded data removed]",
      "text/plain": [
       "<Figure size 1080x216 with 1 Axes>"
      ]
     },
     "metadata": {
      "needs_background": "light"
     },
     "output_type": "display_data"
    },
    {
     "name": "stdout",
     "output_type": "stream",
     "text": [
      "Зависимость количества продаж от оценок критиков\n"
     ]
    },
    {
     "data": {
      "image/png": "[encoded data removed]",
      "text/plain": [
       "<Figure size 1080x216 with 1 Axes>"
      ]
     },
     "metadata": {
      "needs_background": "light"
     },
     "output_type": "display_data"
    },
    {
     "name": "stdout",
     "output_type": "stream",
     "text": [
      "Зависимость количества продаж от оценок пользователей\n"
     ]
    },
    {
     "data": {
      "image/png": "[encoded data removed]",
      "text/plain": [
       "<Figure size 1080x216 with 1 Axes>"
      ]
     },
     "metadata": {
      "needs_background": "light"
     },
     "output_type": "display_data"
    },
    {
     "name": "stdout",
     "output_type": "stream",
     "text": [
      "Зависимость количества продаж от оценок критиков\n"
     ]
    },
    {
     "data": {
      "image/png": "[encoded data removed]",
      "text/plain": [
       "<Figure size 1080x216 with 1 Axes>"
      ]
     },
     "metadata": {
      "needs_background": "light"
     },
     "output_type": "display_data"
    }
   ],
   "source": [
    "pop_platform = ['XOne', 'PS4']\n",
    "\n",
    "for i in pop_platform:\n",
    "    df_act.query('platform == @i')\n",
    "    plt.subplots(figsize=(15,3))\n",
    "    print('Зависимость количества продаж от оценок пользователей')\n",
    "    plt.title(i)\n",
    "    plt.scatter(y=df_act.query('platform == @i' and 'user_score > 0')['total_sales'], x=df_act.query('platform == @i' and 'user_score > 0')['user_score'])\n",
    "    plt.show()\n",
    "    \n",
    "    plt.subplots(figsize=(15,3))\n",
    "    print('Зависимость количества продаж от оценок критиков')\n",
    "    plt.title(i)\n",
    "    plt.scatter(y=df_act.query('platform == @i' and 'critic_score > 0')['total_sales'], x=df_act.query('platform == @i' and 'critic_score > 0')['critic_score'])\n",
    "    plt.show()"
   ]
  },
  {
   "cell_type": "markdown",
   "metadata": {},
   "source": [
    "Видна прямолинейная зависимость количества продаж от оценок пользователей и критиков "
   ]
  },
  {
   "cell_type": "markdown",
   "metadata": {},
   "source": [
    "Построим диаграмму рассеяния по данным глобальных продаж для каждой из платформ"
   ]
  },
  {
   "cell_type": "code",
   "execution_count": 20,
   "metadata": {},
   "outputs": [
    {
     "data": {
      "image/png": "[encoded data removed]",
      "text/plain": [
       "<Figure size 1080x360 with 1 Axes>"
      ]
     },
     "metadata": {
      "needs_background": "light"
     },
     "output_type": "display_data"
    }
   ],
   "source": [
    "pivot = pd.pivot_table(df_act, values=['total_sales'], index=['platform'], aggfunc='sum').sort_values(by='total_sales')\n",
    "\n",
    "plt.subplots(figsize=(15,5))\n",
    "plt.title('Количество глабальных продаж каждой из платформ')\n",
    "plt.scatter(x=pivot.index, y=pivot['total_sales'])\n",
    "plt.show()"
   ]
  },
  {
   "cell_type": "markdown",
   "metadata": {},
   "source": [
    "Из диаграммы рассения виден резкий рост продаж у платфор, начиная с PS4"
   ]
  },
  {
   "cell_type": "markdown",
   "metadata": {},
   "source": [
    "Посчитаем корреляцию между отзывами и продажами"
   ]
  },
  {
   "cell_type": "code",
   "execution_count": 21,
   "metadata": {},
   "outputs": [
    {
     "name": "stdout",
     "output_type": "stream",
     "text": [
      "Корреляция количества проданных игр на платформе XOne с оценкой пользователей равна -0.06892505328279411\n",
      "Корреляция количества проданных игр на платформе XOne с оценкой критиков равна 0.41215586820316946 \n",
      "\n",
      "Корреляция количества проданных игр на платформе PS4 с оценкой пользователей равна -0.031957110204556424\n",
      "Корреляция количества проданных игр на платформе PS4 с оценкой критиков равна 0.40646857419716576 \n",
      "\n"
     ]
    }
   ],
   "source": [
    "pop_platform = ['XOne', 'PS4']\n",
    "\n",
    "for i in pop_platform:\n",
    "    print('Корреляция количества проданных игр на платформе', i, 'с оценкой пользователей равна', df_act.query('platform == @i').query('user_score > 0').corr().loc['user_score', 'total_sales'])\n",
    "    print('Корреляция количества проданных игр на платформе', i, 'с оценкой критиков равна', df_act.query('platform == @i').query('critic_score > 0').corr().loc['critic_score', 'total_sales'], '\\n')"
   ]
  },
  {
   "cell_type": "markdown",
   "metadata": {},
   "source": [
    "Имеем положительную корреляцию между отзывами пользователей и критиков и количеством продаж, однако связь с оценками критиков сильнее, чем с оценками пользователей. Скорее всего потому что оценки критиков беспрестарстнее и объективнее."
   ]
  },
  {
   "cell_type": "markdown",
   "metadata": {},
   "source": [
    "<div class=\"alert alert-danger\">\n",
    "<font size=\"5\"><b>Комментарий ревьюера</b></font>\n",
    "\n",
    "Ошибка: Опять же рассматривай платформы в отдельности. Построй по каждой платформе график зависимости числа проданных игр от оценок критиков или пользователей. Рассчитай по 2 значения корреляции для каждой платформы. Корреляции рассчитываются на полных данных, а не на данных после применения группировки. \n",
    "\n",
    "</div>"
   ]
  },
  {
   "cell_type": "markdown",
   "metadata": {},
   "source": [
    "<div class=\"alert alert-danger\">\n",
    "<font size=\"5\"><b>Комментарий ревьюера 2</b></font>\n",
    "\n",
    "Ошибка: Теперь ты делаешь все верно. Однако при расчете корреляций ты учитываешь маркерные значения 0, которыми мы заполнили пропуски. Этого делать не стоит. Мы не можем анализировать нереальные значения наравне с реальными. Отфильтруй их из анализа и посмотри на получаемые результаты. \n",
    "\n",
    "</div>"
   ]
  },
  {
   "cell_type": "markdown",
   "metadata": {},
   "source": [
    "----------------------------"
   ]
  },
  {
   "cell_type": "markdown",
   "metadata": {},
   "source": [
    "Посмотрим на общее распределение количества игр по жанрам"
   ]
  },
  {
   "cell_type": "code",
   "execution_count": 22,
   "metadata": {},
   "outputs": [
    {
     "data": {
      "text/plain": [
       "genre\n",
       "Puzzle           14.82\n",
       "Strategy         34.99\n",
       "Adventure        55.18\n",
       "Simulation       62.36\n",
       "Fighting         80.89\n",
       "Platform        117.11\n",
       "Racing          118.52\n",
       "Misc            197.34\n",
       "Sports          299.59\n",
       "Role-Playing    315.18\n",
       "Shooter         477.76\n",
       "Action          651.07\n",
       "Name: total_sales, dtype: float64"
      ]
     },
     "execution_count": 22,
     "metadata": {},
     "output_type": "execute_result"
    }
   ],
   "source": [
    "df_act.groupby('genre')['total_sales'].sum().sort_values()"
   ]
  },
  {
   "cell_type": "markdown",
   "metadata": {},
   "source": [
    "Больше всего продаж игр жанров: Action, Shooter, Role-Playing, Sports, Misc. Меньше всего продаж игр жанров: Puzzle, Strategy, Adventure, Simulation, Fighting"
   ]
  },
  {
   "cell_type": "markdown",
   "metadata": {},
   "source": [
    "<div class=\"alert alert-success\">\n",
    "<font size=\"5\"><b>Комментарий ревьюера</b></font>\n",
    "\n",
    "Успех: Анализ популярности жанров проведен. Однако не стоит забывать, что производство игр в жанрах Action или Shooter обходится сильно дороже, чем производство Puzzle-игр. \n",
    "\n",
    "</div>"
   ]
  },
  {
   "cell_type": "markdown",
   "metadata": {},
   "source": [
    "## Составим портрет пользователя каждого региона (NA, EU, JP)"
   ]
  },
  {
   "cell_type": "markdown",
   "metadata": {},
   "source": [
    "Определим для пользователя каждого региона (NA, EU, JP) самые популярные платформы"
   ]
  },
  {
   "cell_type": "code",
   "execution_count": 23,
   "metadata": {},
   "outputs": [],
   "source": [
    "pivot_platform = pd.pivot_table(df_act, values=['na_sales', 'eu_sales', 'jp_sales'], index=['platform'], aggfunc='sum')\n",
    "pivot_platform['platform'] = pivot_platform.index"
   ]
  },
  {
   "cell_type": "markdown",
   "metadata": {},
   "source": [
    "- У пользователей NA самые популярные платформы: "
   ]
  },
  {
   "cell_type": "code",
   "execution_count": 24,
   "metadata": {},
   "outputs": [
    {
     "data": {
      "text/plain": [
       "Index(['Wii', 'XOne', 'PS4', 'PS3', 'X360'], dtype='object', name='platform')"
      ]
     },
     "execution_count": 24,
     "metadata": {},
     "output_type": "execute_result"
    }
   ],
   "source": [
    "pivot_platform.sort_values(by='na_sales').tail().index"
   ]
  },
  {
   "cell_type": "code",
   "execution_count": 25,
   "metadata": {},
   "outputs": [
    {
     "data": {
      "image/png": "[encoded data removed]",
      "text/plain": [
       "<Figure size 432x288 with 1 Axes>"
      ]
     },
     "metadata": {
      "needs_background": "light"
     },
     "output_type": "display_data"
    },
    {
     "data": {
      "image/png": "[encoded data removed]",
      "text/plain": [
       "<Figure size 432x288 with 1 Axes>"
      ]
     },
     "metadata": {
      "needs_background": "light"
     },
     "output_type": "display_data"
    }
   ],
   "source": [
    "plt.title('Количество глобальных продаж каждой из платформ')\n",
    "plt.scatter(y=pivot_platform.query('platform == \"Wii\" or platform == \"XOne\" or platform == \"PS4\" or platform == \"PS3\" or platform == \"X360\"')['na_sales'], x=pivot_platform.query('platform == \"Wii\" or platform == \"XOne\" or platform == \"PS4\" or platform == \"PS3\" or platform == \"X360\"')['platform'])\n",
    "plt.show()\n",
    "\n",
    "plt.title('Доли продаж по каждой из этих платформ')\n",
    "plt.scatter(y=(pivot_platform.query('index == \"Wii\" or index == \"XOne\" or index == \"PS4\" or index == \"PS3\" or index == \"X360\"')['na_sales'] / pivot_platform['na_sales'].sum()), x=pivot_platform.query('platform == \"Wii\" or platform == \"XOne\" or platform == \"PS4\" or platform == \"PS3\" or platform == \"X360\"')['platform'])\n",
    "plt.show()"
   ]
  },
  {
   "cell_type": "markdown",
   "metadata": {},
   "source": [
    "- У пользователей EU самые популярные платформы:"
   ]
  },
  {
   "cell_type": "code",
   "execution_count": 26,
   "metadata": {},
   "outputs": [
    {
     "data": {
      "text/plain": [
       "Index(['3DS', 'PC', 'PS4', 'X360', 'PS3'], dtype='object', name='platform')"
      ]
     },
     "execution_count": 26,
     "metadata": {},
     "output_type": "execute_result"
    }
   ],
   "source": [
    "pivot_platform.sort_values(by='eu_sales').tail().index"
   ]
  },
  {
   "cell_type": "code",
   "execution_count": 27,
   "metadata": {},
   "outputs": [
    {
     "data": {
      "image/png": "[encoded data removed]",
      "text/plain": [
       "<Figure size 432x288 with 1 Axes>"
      ]
     },
     "metadata": {
      "needs_background": "light"
     },
     "output_type": "display_data"
    },
    {
     "data": {
      "image/png": "[encoded data removed]",
      "text/plain": [
       "<Figure size 432x288 with 1 Axes>"
      ]
     },
     "metadata": {
      "needs_background": "light"
     },
     "output_type": "display_data"
    }
   ],
   "source": [
    "plt.title('Количество глобальных продаж каждой из платформ')\n",
    "plt.scatter(y=pivot_platform.query('platform == \"3DS\" or platform == \"PC\" or platform == \"PS4\" or platform == \"PS3\" or platform == \"X360\"')['eu_sales'], x=pivot_platform.query('platform == \"3DS\" or platform == \"PC\" or platform == \"PS4\" or platform == \"PS3\" or platform == \"X360\"')['platform'])\n",
    "plt.show()\n",
    "\n",
    "plt.title('Доли продаж по каждой из этих платформ')\n",
    "plt.scatter(y=(pivot_platform.query('platform == \"3DS\" or platform == \"PC\" or platform == \"PS4\" or platform == \"PS3\" or platform == \"X360\"')['eu_sales'] / pivot_platform['eu_sales'].sum()), x=pivot_platform.query('platform == \"3DS\" or platform == \"PC\" or platform == \"PS4\" or platform == \"PS3\" or platform == \"X360\"')['platform'])\n",
    "plt.show()"
   ]
  },
  {
   "cell_type": "markdown",
   "metadata": {},
   "source": [
    "- У пользователей JP самые популярные платформы:"
   ]
  },
  {
   "cell_type": "code",
   "execution_count": 28,
   "metadata": {},
   "outputs": [
    {
     "data": {
      "text/plain": [
       "Index(['PSV', 'DS', 'PSP', 'PS3', '3DS'], dtype='object', name='platform')"
      ]
     },
     "execution_count": 28,
     "metadata": {},
     "output_type": "execute_result"
    }
   ],
   "source": [
    "pivot_platform.sort_values(by='jp_sales').tail().index"
   ]
  },
  {
   "cell_type": "code",
   "execution_count": 29,
   "metadata": {},
   "outputs": [
    {
     "data": {
      "image/png": "[encoded data removed]",
      "text/plain": [
       "<Figure size 432x288 with 1 Axes>"
      ]
     },
     "metadata": {
      "needs_background": "light"
     },
     "output_type": "display_data"
    },
    {
     "data": {
      "image/png": "[encoded data removed]",
      "text/plain": [
       "<Figure size 432x288 with 1 Axes>"
      ]
     },
     "metadata": {
      "needs_background": "light"
     },
     "output_type": "display_data"
    }
   ],
   "source": [
    "plt.title('Количество глобальных продаж каждой из платформ')\n",
    "plt.scatter(y=pivot_platform.query('platform == \"PSV\" or platform == \"DS\" or platform == \"PSP\" or platform == \"PS3\" or platform == \"3DS\"')['jp_sales'], x=pivot_platform.query('platform == \"PSV\" or platform == \"DS\" or platform == \"PSP\" or platform == \"PS3\" or platform == \"3DS\"')['platform'])\n",
    "plt.show()\n",
    "\n",
    "plt.title('Доли продаж по каждой из этих платформ')\n",
    "plt.scatter(y=(pivot_platform.query('platform == \"PSV\" or platform == \"DS\" or platform == \"PSP\" or platform == \"PS3\" or platform == \"3DS\"')['jp_sales'] / pivot_platform['jp_sales'].sum()), x=pivot_platform.query('platform == \"PSV\" or platform == \"DS\" or platform == \"PSP\" or platform == \"PS3\" or platform == \"3DS\"')['platform'])\n",
    "plt.show()"
   ]
  },
  {
   "cell_type": "markdown",
   "metadata": {},
   "source": [
    "-----------------"
   ]
  },
  {
   "cell_type": "markdown",
   "metadata": {},
   "source": [
    "Определим для пользователя каждого региона (NA, EU, JP) самые популярные жанры"
   ]
  },
  {
   "cell_type": "code",
   "execution_count": 30,
   "metadata": {},
   "outputs": [],
   "source": [
    "pivot_genre = pd.pivot_table(df_act, values=['na_sales', 'eu_sales', 'jp_sales'], index=['genre'], aggfunc='sum')\n",
    "pivot_genre['genre'] = pivot_genre.index"
   ]
  },
  {
   "cell_type": "markdown",
   "metadata": {},
   "source": [
    "- У пользователе NA самые популярные жанры:"
   ]
  },
  {
   "cell_type": "code",
   "execution_count": 31,
   "metadata": {},
   "outputs": [
    {
     "data": {
      "text/plain": [
       "Index(['Misc', 'Role-Playing', 'Sports', 'Shooter', 'Action'], dtype='object', name='genre')"
      ]
     },
     "execution_count": 31,
     "metadata": {},
     "output_type": "execute_result"
    }
   ],
   "source": [
    "pivot_genre.sort_values(by='na_sales').tail().index"
   ]
  },
  {
   "cell_type": "code",
   "execution_count": 32,
   "metadata": {},
   "outputs": [
    {
     "data": {
      "image/png": "[encoded data removed]",
      "text/plain": [
       "<Figure size 432x288 with 1 Axes>"
      ]
     },
     "metadata": {
      "needs_background": "light"
     },
     "output_type": "display_data"
    },
    {
     "data": {
      "image/png": "[encoded data removed]",
      "text/plain": [
       "<Figure size 432x288 with 1 Axes>"
      ]
     },
     "metadata": {
      "needs_background": "light"
     },
     "output_type": "display_data"
    }
   ],
   "source": [
    "plt.title('Количество глобальных продаж каждого жанра')\n",
    "plt.scatter(y=pivot_genre.query('genre == \"Misc\" or genre == \"Role-Playing\" or genre == \"Sports\" or genre == \"Shooter\" or genre == \"Action\"')['na_sales'], x=pivot_genre.query('genre == \"Misc\" or genre == \"Role-Playing\" or genre == \"Sports\" or genre == \"Shooter\" or genre == \"Action\"')['genre'])\n",
    "plt.show()\n",
    "\n",
    "plt.title('Доли продаж по каждому жанру')\n",
    "plt.scatter(y=(pivot_genre.query('genre == \"Misc\" or genre == \"Role-Playing\" or genre == \"Sports\" or genre == \"Shooter\" or genre == \"Action\"')['na_sales'] / pivot_genre['na_sales'].sum()), x=pivot_genre.query('genre == \"Misc\" or genre == \"Role-Playing\" or genre == \"Sports\" or genre == \"Shooter\" or genre == \"Action\"')['genre'])\n",
    "plt.show()"
   ]
  },
  {
   "cell_type": "markdown",
   "metadata": {},
   "source": [
    "- У пользователе EU самые популярные жанры:"
   ]
  },
  {
   "cell_type": "code",
   "execution_count": 33,
   "metadata": {},
   "outputs": [
    {
     "data": {
      "text/plain": [
       "Index(['Misc', 'Role-Playing', 'Sports', 'Shooter', 'Action'], dtype='object', name='genre')"
      ]
     },
     "execution_count": 33,
     "metadata": {},
     "output_type": "execute_result"
    }
   ],
   "source": [
    "pivot_genre.sort_values(by='eu_sales').tail().index"
   ]
  },
  {
   "cell_type": "code",
   "execution_count": 34,
   "metadata": {},
   "outputs": [
    {
     "data": {
      "image/png": "[encoded data removed]",
      "text/plain": [
       "<Figure size 432x288 with 1 Axes>"
      ]
     },
     "metadata": {
      "needs_background": "light"
     },
     "output_type": "display_data"
    },
    {
     "data": {
      "image/png": "[encoded data removed]",
      "text/plain": [
       "<Figure size 432x288 with 1 Axes>"
      ]
     },
     "metadata": {
      "needs_background": "light"
     },
     "output_type": "display_data"
    }
   ],
   "source": [
    "plt.title('Количество глобальных продаж каждого жанра')\n",
    "plt.scatter(y=pivot_genre.query('genre == \"Misc\" or genre == \"Role-Playing\" or genre == \"Sports\" or genre == \"Shooter\" or genre == \"Action\"')['eu_sales'], x=pivot_genre.query('genre == \"Misc\" or genre == \"Role-Playing\" or genre == \"Sports\" or genre == \"Shooter\" or genre == \"Action\"')['genre'])\n",
    "plt.show()\n",
    "\n",
    "plt.title('Доли продаж по каждому жанру')\n",
    "plt.scatter(y=(pivot_genre.query('genre == \"Misc\" or genre == \"Role-Playing\" or genre == \"Sports\" or genre == \"Shooter\" or genre == \"Action\"')['eu_sales'] / pivot_genre['eu_sales'].sum()), x=pivot_genre.query('genre == \"Misc\" or genre == \"Role-Playing\" or genre == \"Sports\" or genre == \"Shooter\" or genre == \"Action\"')['genre'])\n",
    "plt.show()"
   ]
  },
  {
   "cell_type": "markdown",
   "metadata": {},
   "source": [
    "- У пользователе JP самые популярные жанры:"
   ]
  },
  {
   "cell_type": "code",
   "execution_count": 35,
   "metadata": {},
   "outputs": [
    {
     "data": {
      "text/plain": [
       "Index(['Adventure', 'Platform', 'Misc', 'Action', 'Role-Playing'], dtype='object', name='genre')"
      ]
     },
     "execution_count": 35,
     "metadata": {},
     "output_type": "execute_result"
    }
   ],
   "source": [
    "pivot_genre.sort_values(by='jp_sales').tail().index"
   ]
  },
  {
   "cell_type": "code",
   "execution_count": 36,
   "metadata": {},
   "outputs": [
    {
     "data": {
      "image/png": "[encoded data removed]",
      "text/plain": [
       "<Figure size 432x288 with 1 Axes>"
      ]
     },
     "metadata": {
      "needs_background": "light"
     },
     "output_type": "display_data"
    },
    {
     "data": {
      "image/png": "[encoded data removed]",
      "text/plain": [
       "<Figure size 432x288 with 1 Axes>"
      ]
     },
     "metadata": {
      "needs_background": "light"
     },
     "output_type": "display_data"
    }
   ],
   "source": [
    "plt.title('Количество глобальных продаж каждого жанра')\n",
    "plt.scatter(y=pivot_genre.query('genre == \"Misc\" or genre == \"Role-Playing\" or genre == \"Adventure\" or genre == \"Platform\" or genre == \"Action\"')['jp_sales'], x=pivot_genre.query('genre == \"Misc\" or genre == \"Role-Playing\" or genre == \"Adventure\" or genre == \"Platform\" or genre == \"Action\"')['genre'])\n",
    "plt.show()\n",
    "\n",
    "plt.title('Доли продаж по каждому жанру')\n",
    "plt.scatter(y=(pivot_genre.query('genre == \"Misc\" or genre == \"Role-Playing\" or genre == \"Adventure\" or genre == \"Platform\" or genre == \"Action\"')['jp_sales'] / pivot_genre['jp_sales'].sum()), x=pivot_genre.query('genre == \"Misc\" or genre == \"Role-Playing\" or genre == \"Adventure\" or genre == \"Platform\" or genre == \"Action\"')['genre'])\n",
    "plt.show()"
   ]
  },
  {
   "cell_type": "markdown",
   "metadata": {},
   "source": [
    "--------------"
   ]
  },
  {
   "cell_type": "markdown",
   "metadata": {},
   "source": [
    "Определим, влияет ли рейтинг ESRB на продажи в отдельном регионе"
   ]
  },
  {
   "cell_type": "code",
   "execution_count": 37,
   "metadata": {},
   "outputs": [],
   "source": [
    "pivot_rating = pd.pivot_table(df_act, values=['na_sales', 'eu_sales', 'jp_sales'], index=['rating'], aggfunc='sum')\n",
    "pivot_rating['rating'] = pivot_rating.index"
   ]
  },
  {
   "cell_type": "markdown",
   "metadata": {},
   "source": [
    "- Распределение продаж в зависимости от ESRB для пользователей NA"
   ]
  },
  {
   "cell_type": "code",
   "execution_count": 38,
   "metadata": {},
   "outputs": [
    {
     "data": {
      "text/plain": [
       "Index(['M', 'E', 'NA', 'T', 'E10+', 'RP'], dtype='object', name='rating')"
      ]
     },
     "execution_count": 38,
     "metadata": {},
     "output_type": "execute_result"
    }
   ],
   "source": [
    "pivot_rating.sort_values(by='na_sales', ascending=False).index"
   ]
  },
  {
   "cell_type": "code",
   "execution_count": 39,
   "metadata": {},
   "outputs": [
    {
     "data": {
      "image/png": "[encoded data removed]",
      "text/plain": [
       "<Figure size 432x288 with 1 Axes>"
      ]
     },
     "metadata": {
      "needs_background": "light"
     },
     "output_type": "display_data"
    },
    {
     "data": {
      "image/png": "[encoded data removed]",
      "text/plain": [
       "<Figure size 432x288 with 1 Axes>"
      ]
     },
     "metadata": {
      "needs_background": "light"
     },
     "output_type": "display_data"
    }
   ],
   "source": [
    "plt.title('Количество глобальных продаж каждого рейтинга')\n",
    "plt.scatter(y=pivot_rating['na_sales'], x=pivot_rating['rating'])\n",
    "plt.show()\n",
    "\n",
    "plt.title('Доли продаж по каждому рейтингу')\n",
    "plt.scatter(y=(pivot_rating['na_sales'] / pivot_rating['na_sales'].sum()), x=pivot_rating['rating'])\n",
    "plt.show()"
   ]
  },
  {
   "cell_type": "markdown",
   "metadata": {},
   "source": [
    "- Распределение продаж в зависимости от ESRB для пользователей EU"
   ]
  },
  {
   "cell_type": "code",
   "execution_count": 40,
   "metadata": {},
   "outputs": [
    {
     "data": {
      "text/plain": [
       "Index(['M', 'E', 'NA', 'T', 'E10+', 'RP'], dtype='object', name='rating')"
      ]
     },
     "execution_count": 40,
     "metadata": {},
     "output_type": "execute_result"
    }
   ],
   "source": [
    "pivot_rating.sort_values(by='eu_sales', ascending=False).index"
   ]
  },
  {
   "cell_type": "code",
   "execution_count": 41,
   "metadata": {},
   "outputs": [
    {
     "data": {
      "image/png": "[encoded data removed]",
      "text/plain": [
       "<Figure size 432x288 with 1 Axes>"
      ]
     },
     "metadata": {
      "needs_background": "light"
     },
     "output_type": "display_data"
    },
    {
     "data": {
      "image/png": "[encoded data removed]",
      "text/plain": [
       "<Figure size 432x288 with 1 Axes>"
      ]
     },
     "metadata": {
      "needs_background": "light"
     },
     "output_type": "display_data"
    }
   ],
   "source": [
    "plt.title('Количество глобальных продаж каждого рейтинга')\n",
    "plt.scatter(y=pivot_rating['eu_sales'], x=pivot_rating['rating'])\n",
    "plt.show()\n",
    "\n",
    "plt.title('Доли продаж по каждому рейтингу')\n",
    "plt.scatter(y=(pivot_rating['eu_sales'] / pivot_rating['eu_sales'].sum()), x=pivot_rating['rating'])\n",
    "plt.show()"
   ]
  },
  {
   "cell_type": "markdown",
   "metadata": {},
   "source": [
    "- Распределение продаж в зависимости от ESRB для пользователей JP"
   ]
  },
  {
   "cell_type": "code",
   "execution_count": 42,
   "metadata": {},
   "outputs": [
    {
     "data": {
      "text/plain": [
       "Index(['NA', 'E', 'T', 'M', 'E10+', 'RP'], dtype='object', name='rating')"
      ]
     },
     "execution_count": 42,
     "metadata": {},
     "output_type": "execute_result"
    }
   ],
   "source": [
    "pivot_rating.sort_values(by='jp_sales', ascending=False).index"
   ]
  },
  {
   "cell_type": "code",
   "execution_count": 43,
   "metadata": {},
   "outputs": [
    {
     "data": {
      "image/png": "[encoded data removed]",
      "text/plain": [
       "<Figure size 432x288 with 1 Axes>"
      ]
     },
     "metadata": {
      "needs_background": "light"
     },
     "output_type": "display_data"
    },
    {
     "data": {
      "image/png": "[encoded data removed]",
      "text/plain": [
       "<Figure size 432x288 with 1 Axes>"
      ]
     },
     "metadata": {
      "needs_background": "light"
     },
     "output_type": "display_data"
    }
   ],
   "source": [
    "plt.title('Количество глобальных продаж каждого рейтинга')\n",
    "plt.scatter(y=pivot_rating['jp_sales'], x=pivot_rating['rating'])\n",
    "plt.show()\n",
    "\n",
    "plt.title('Доли продаж по каждому рейтингу')\n",
    "plt.scatter(y=(pivot_rating['jp_sales'] / pivot_rating['jp_sales'].sum()), x=pivot_rating['rating'])\n",
    "plt.show()"
   ]
  },
  {
   "cell_type": "markdown",
   "metadata": {},
   "source": [
    "Для пользователей всех регионов самые низкие продажи для рейтинга RP, а самые высокие продажи для рейтингов E, M, T, NA. Рейтинг мало влияет на продажи в каждом регионе примерно одинаково"
   ]
  },
  {
   "cell_type": "markdown",
   "metadata": {},
   "source": [
    "<div class=\"alert alert-danger\">\n",
    "<font size=\"5\"><b>Комментарий ревьюера</b></font>\n",
    "\n",
    "Ошибка: Обрати внимание - ты не учитываешь игры без рейтинга. В результате огромная часть игр просто выпадает из анализа. Найди способ учесть их при группировке значений по рейтингу.\n",
    "    \n",
    "</div>"
   ]
  },
  {
   "cell_type": "markdown",
   "metadata": {},
   "source": [
    "<div class=\"alert alert-success\">\n",
    "<font size=\"5\"><b>Комментарий ревьюера 2</b></font>\n",
    "\n",
    "Успех: Здорово, ты обнаружил важную особенность данных - большая часть игр японского региона не имеет рейтинга. Как думаешь, какова причина такого явления?\n",
    "\n",
    "</div>"
   ]
  },
  {
   "cell_type": "markdown",
   "metadata": {},
   "source": [
    "<div class=\"alert alert-danger\">\n",
    "<font size=\"5\"><b>Комментарий ревьюера</b></font>\n",
    "\n",
    "Ошибка: Помимо вывода топ-5 значений нам важно вывести и уровень продаж по ним, а также рассчитать доли каждой платформы, каждого жанра или рейтинга. Далее стоит визуализировать все полученные таблицы. Крайне не хватает графиков в данном разделе работы. Дополни данный раздел работы. \n",
    "\n",
    "</div>"
   ]
  },
  {
   "cell_type": "markdown",
   "metadata": {},
   "source": [
    "<div class=\"alert alert-success\">\n",
    "<font size=\"5\"><b>Комментарий ревьюера 2</b></font>\n",
    "\n",
    "Успех: Анализ проведен полностью. Старайся всегда визуализировать получаемую в работе информацию.\n",
    "\n",
    "</div>"
   ]
  },
  {
   "cell_type": "markdown",
   "metadata": {},
   "source": [
    "## Проверим гипотезы"
   ]
  },
  {
   "cell_type": "markdown",
   "metadata": {},
   "source": [
    "Проверим нулевую гипотезу: средние пользовательские рейтинги платформ Xbox One и PC одинаковые"
   ]
  },
  {
   "cell_type": "code",
   "execution_count": 44,
   "metadata": {},
   "outputs": [
    {
     "data": {
      "text/plain": [
       "0.980998110649032"
      ]
     },
     "execution_count": 44,
     "metadata": {},
     "output_type": "execute_result"
    }
   ],
   "source": [
    "st.ttest_ind(df_act.query('platform == \"XOne\"').query('user_score > 0')['user_score'], df_act.query('platform == \"PC\"').query('user_score > 0')['user_score']).pvalue"
   ]
  },
  {
   "cell_type": "markdown",
   "metadata": {},
   "source": [
    "Уровень значимости p-value очень высокий, значит мы не можем опровергнуть нулевую гепотезу. Средние пользовательские рейтинги платформ Xbox One и PC одинаковые."
   ]
  },
  {
   "cell_type": "markdown",
   "metadata": {},
   "source": [
    "<div class=\"alert alert-success\">\n",
    "<font size=\"5\"><b>Комментарий ревьюера</b></font>\n",
    "\n",
    "Успех: Гипотезы сформулированы и проверены верно. \n",
    "\n",
    "</div>"
   ]
  },
  {
   "cell_type": "markdown",
   "metadata": {},
   "source": [
    "----------------------"
   ]
  },
  {
   "cell_type": "markdown",
   "metadata": {},
   "source": [
    "Проверим нулевую гипотезу: средние пользовательские рейтинги жанров Action (англ. «действие», экшен-игры) и Sports (англ. «спортивные соревнования») равны"
   ]
  },
  {
   "cell_type": "code",
   "execution_count": 45,
   "metadata": {},
   "outputs": [
    {
     "data": {
      "text/plain": [
       "7.839124224330309e-19"
      ]
     },
     "execution_count": 45,
     "metadata": {},
     "output_type": "execute_result"
    }
   ],
   "source": [
    "st.ttest_ind(df_act.query('genre == \"Action\"').query('user_score > 0')['user_score'], df_act.query('genre == \"Sports\"').query('user_score > 0')['user_score']).pvalue"
   ]
  },
  {
   "cell_type": "markdown",
   "metadata": {},
   "source": [
    "Уровень значимости p-value очень мал, значит мы можем отклонить нулевую гепотезу. Средние пользовательские рейтинги жанров Action и Sports не равны."
   ]
  },
  {
   "cell_type": "markdown",
   "metadata": {},
   "source": [
    "<div class=\"alert alert-success\">\n",
    "<font size=\"5\"><b>Комментарий ревьюера</b></font>\n",
    "\n",
    "Совет: Проверка второй гипотезы также выполнена корректно. Аккуратнее с использованием слов \"принимаем\" и \"истина\". На самом деле данная гипотеза может быть и не верна, но на имеющихся на настоящий момент данных получить различия мы не можем. Лучше использовать формулировку \"не можем отклонить нулевую гипотезу\".\n",
    "\n",
    "</div>"
   ]
  },
  {
   "cell_type": "markdown",
   "metadata": {},
   "source": [
    "<div class=\"alert alert-danger\">\n",
    "<font size=\"5\"><b>Комментарий ревьюера 2</b></font>\n",
    "\n",
    "Ошибка: Извини, что не указал в прошлый раз. В выборки опять же попали нереальные значения 0, которыми отмечены пропуски. Отфильтруй их из выборок при проведении обоих тестов. Посмотри, как изменятся результаты. \n",
    "\n",
    "</div>"
   ]
  },
  {
   "cell_type": "markdown",
   "metadata": {},
   "source": [
    "## Вывод"
   ]
  },
  {
   "cell_type": "markdown",
   "metadata": {},
   "source": [
    "В ходе исследования я выявил следующие определяющие успешность игры закономерности:"
   ]
  },
  {
   "cell_type": "markdown",
   "metadata": {},
   "source": [
    "- максимальные продажи имеют игры, которые выходили на платформах PS3, X360, PS4, 3DS, Wii; "
   ]
  },
  {
   "cell_type": "markdown",
   "metadata": {},
   "source": [
    "- наибольшие продажи имеют игры жанров Action, Shooter, Role-Playing, Sports, Misc; "
   ]
  },
  {
   "cell_type": "markdown",
   "metadata": {},
   "source": [
    "- лучше всего продаются игры с рейтингом E, M, T по классификации ESRB; "
   ]
  },
  {
   "cell_type": "markdown",
   "metadata": {},
   "source": [
    "- чем выше рейтинг пользователей и критиков тем больше продаж имеют игры. "
   ]
  },
  {
   "cell_type": "markdown",
   "metadata": {},
   "source": [
    "- самые перспективные платформы это PS4, XOne"
   ]
  },
  {
   "cell_type": "markdown",
   "metadata": {},
   "source": [
    "Полученные результаты ислледования и выводы позволят интернет-магазине «Стримчик» сделать ставку на потенциально популярный продукт и спланировать рекламные кампании, что увеличит продажи. Отделу рекламы стоит сделать упор на перспективные платформы PS4 и XOne, так же стоит обратить внимание на игры которые имеют высокие рейтинги и делать упор на эти игры и на платформы под которые они выходят."
   ]
  },
  {
   "cell_type": "markdown",
   "metadata": {},
   "source": [
    "<div class=\"alert alert-danger\">\n",
    "<font size=\"5\"><b>Комментарий ревьюера</b></font>\n",
    "\n",
    "Ошибка: Скорректируй выводы после исправления помарок выше. \n",
    "\n",
    "</div>"
   ]
  },
  {
   "cell_type": "markdown",
   "metadata": {},
   "source": [
    "<div class=\"alert alert-success\">\n",
    "<font size=\"5\"><b>Комментарий ревьюера 2</b></font>\n",
    "\n",
    "Успех: Выводы сделаны. Приведены ответы на главные вопросы проекта. В выводах можно приводить полученные ранее значения. Также можно расписать все, что было сделано в ходе проведения работы. Еще лучше будет, если приведешь рекомендации для компании по дальнейшим действиям. \n",
    "\n",
    "</div>"
   ]
  },
  {
   "cell_type": "markdown",
   "metadata": {},
   "source": [
    "<div class=\"alert alert-info\">\n",
    "<font size=\"5\"><b>Комментарий ревьюера</b></font>\n",
    "\n",
    "Если тебе нравится тема визуализации, то можешь изучить и методы библиотеки seaborn. Она позволяет строить довольно презентабельные графики. Рекомендую ресурс https://www.python-graph-gallery.com/. В нем содержится большая библиотека графиков с готовым кодом, который можно использовать при работе.\n",
    "\n",
    "Ты проделал большую работу, молодец! Однако критичные помарки все же есть. С ними важно поработать и их исправить. При необходимости задавай вопросы. Жду твою работу :)\n",
    "\n",
    "</div>"
   ]
  },
  {
   "cell_type": "markdown",
   "metadata": {},
   "source": [
    "<div class=\"alert alert-info\">\n",
    "<font size=\"5\"><b>Комментарий ревьюера 2</b></font>\n",
    "\n",
    "Часть помарок исправлена. Однако осталось еще несколько критичных помарок, которые следует скорректировать. Удели им внимание. Как сделаешь, присылай работу снова. Буду ждать :)\n",
    "\n",
    "</div>"
   ]
  }
 ],
 "metadata": {
  "ExecuteTimeLog": [
   {
    "duration": 804,
    "start_time": "2022-01-10T19:11:20.611Z"
   },
   {
    "duration": 28,
    "start_time": "2022-01-10T19:11:36.186Z"
   },
   {
    "duration": 15,
    "start_time": "2022-01-10T19:13:21.560Z"
   },
   {
    "duration": 56,
    "start_time": "2022-01-10T19:13:32.926Z"
   },
   {
    "duration": 13,
    "start_time": "2022-01-10T19:13:42.279Z"
   },
   {
    "duration": 21,
    "start_time": "2022-01-10T19:32:54.192Z"
   },
   {
    "duration": 13,
    "start_time": "2022-01-10T19:33:31.088Z"
   },
   {
    "duration": 323,
    "start_time": "2022-01-10T19:35:13.137Z"
   },
   {
    "duration": 6,
    "start_time": "2022-01-10T19:35:17.828Z"
   },
   {
    "duration": 4,
    "start_time": "2022-01-10T19:36:19.196Z"
   },
   {
    "duration": 6,
    "start_time": "2022-01-10T19:36:30.242Z"
   },
   {
    "duration": 262,
    "start_time": "2022-01-10T19:39:16.971Z"
   },
   {
    "duration": 273,
    "start_time": "2022-01-10T19:42:21.031Z"
   },
   {
    "duration": 257,
    "start_time": "2022-01-10T19:42:36.580Z"
   },
   {
    "duration": 25,
    "start_time": "2022-01-10T19:43:53.147Z"
   },
   {
    "duration": 27,
    "start_time": "2022-01-10T19:47:06.537Z"
   },
   {
    "duration": 12,
    "start_time": "2022-01-10T19:47:19.014Z"
   },
   {
    "duration": 13,
    "start_time": "2022-01-10T19:47:32.523Z"
   },
   {
    "duration": 12,
    "start_time": "2022-01-10T19:47:39.423Z"
   },
   {
    "duration": 16,
    "start_time": "2022-01-10T19:48:16.071Z"
   },
   {
    "duration": 15,
    "start_time": "2022-01-10T19:48:40.928Z"
   },
   {
    "duration": 22,
    "start_time": "2022-01-10T19:49:15.219Z"
   },
   {
    "duration": 15,
    "start_time": "2022-01-10T19:50:32.151Z"
   },
   {
    "duration": 8013,
    "start_time": "2022-01-10T19:52:46.398Z"
   },
   {
    "duration": 9,
    "start_time": "2022-01-10T19:53:05.315Z"
   },
   {
    "duration": 9,
    "start_time": "2022-01-10T19:53:39.099Z"
   },
   {
    "duration": 7,
    "start_time": "2022-01-10T19:54:27.676Z"
   },
   {
    "duration": 7,
    "start_time": "2022-01-10T19:54:42.764Z"
   },
   {
    "duration": 6,
    "start_time": "2022-01-10T19:54:59.912Z"
   },
   {
    "duration": 8,
    "start_time": "2022-01-10T19:55:22.744Z"
   },
   {
    "duration": 10,
    "start_time": "2022-01-10T19:55:36.641Z"
   },
   {
    "duration": 9,
    "start_time": "2022-01-10T20:00:46.081Z"
   },
   {
    "duration": 11,
    "start_time": "2022-01-10T20:01:06.475Z"
   },
   {
    "duration": 9,
    "start_time": "2022-01-10T20:01:40.681Z"
   },
   {
    "duration": 13,
    "start_time": "2022-01-10T20:01:42.908Z"
   },
   {
    "duration": 13,
    "start_time": "2022-01-10T20:04:46.195Z"
   },
   {
    "duration": 11,
    "start_time": "2022-01-10T20:05:02.000Z"
   },
   {
    "duration": 244,
    "start_time": "2022-01-10T20:05:35.836Z"
   },
   {
    "duration": 35,
    "start_time": "2022-01-10T20:06:02.022Z"
   },
   {
    "duration": 11,
    "start_time": "2022-01-10T20:06:14.348Z"
   },
   {
    "duration": 5,
    "start_time": "2022-01-10T20:11:14.141Z"
   },
   {
    "duration": 18,
    "start_time": "2022-01-10T20:12:23.030Z"
   },
   {
    "duration": 26,
    "start_time": "2022-01-10T20:15:33.482Z"
   },
   {
    "duration": 7,
    "start_time": "2022-01-10T20:15:57.791Z"
   },
   {
    "duration": 266,
    "start_time": "2022-01-10T20:16:15.487Z"
   },
   {
    "duration": 10,
    "start_time": "2022-01-10T20:16:25.282Z"
   },
   {
    "duration": 17,
    "start_time": "2022-01-10T20:17:20.125Z"
   },
   {
    "duration": 7,
    "start_time": "2022-01-10T20:18:20.294Z"
   },
   {
    "duration": 6990,
    "start_time": "2022-01-10T20:18:43.080Z"
   },
   {
    "duration": 6,
    "start_time": "2022-01-10T20:20:20.946Z"
   },
   {
    "duration": 15,
    "start_time": "2022-01-10T20:20:32.085Z"
   },
   {
    "duration": 7,
    "start_time": "2022-01-10T20:21:06.146Z"
   },
   {
    "duration": 9,
    "start_time": "2022-01-10T20:21:57.836Z"
   },
   {
    "duration": 13,
    "start_time": "2022-01-10T20:21:58.911Z"
   },
   {
    "duration": 6457,
    "start_time": "2022-01-10T20:25:35.555Z"
   },
   {
    "duration": 23,
    "start_time": "2022-01-10T20:25:57.932Z"
   },
   {
    "duration": 5,
    "start_time": "2022-01-10T20:26:13.743Z"
   },
   {
    "duration": 31,
    "start_time": "2022-01-10T20:30:41.071Z"
   },
   {
    "duration": 9,
    "start_time": "2022-01-10T20:30:57.883Z"
   },
   {
    "duration": 257,
    "start_time": "2022-01-10T20:35:00.805Z"
   },
   {
    "duration": 41,
    "start_time": "2022-01-10T20:36:37.169Z"
   },
   {
    "duration": 883,
    "start_time": "2022-01-11T19:00:07.989Z"
   },
   {
    "duration": 14,
    "start_time": "2022-01-11T19:00:08.875Z"
   },
   {
    "duration": 14,
    "start_time": "2022-01-11T19:00:08.893Z"
   },
   {
    "duration": 5,
    "start_time": "2022-01-11T19:00:08.923Z"
   },
   {
    "duration": 22,
    "start_time": "2022-01-11T19:00:08.930Z"
   },
   {
    "duration": 12,
    "start_time": "2022-01-11T19:00:08.955Z"
   },
   {
    "duration": 81,
    "start_time": "2022-01-11T19:00:08.971Z"
   },
   {
    "duration": 26,
    "start_time": "2022-01-11T19:00:09.057Z"
   },
   {
    "duration": 61,
    "start_time": "2022-01-11T19:00:09.086Z"
   },
   {
    "duration": 13,
    "start_time": "2022-01-11T19:00:09.151Z"
   },
   {
    "duration": 13,
    "start_time": "2022-01-11T19:00:09.167Z"
   },
   {
    "duration": 11,
    "start_time": "2022-01-11T19:00:09.182Z"
   },
   {
    "duration": 401,
    "start_time": "2022-01-11T19:00:49.290Z"
   },
   {
    "duration": 10,
    "start_time": "2022-01-11T19:01:07.402Z"
   },
   {
    "duration": 11,
    "start_time": "2022-01-11T19:14:50.229Z"
   },
   {
    "duration": 11454,
    "start_time": "2022-01-11T19:18:08.623Z"
   },
   {
    "duration": 5182,
    "start_time": "2022-01-11T19:18:45.379Z"
   },
   {
    "duration": 40,
    "start_time": "2022-01-11T19:19:27.267Z"
   },
   {
    "duration": 32,
    "start_time": "2022-01-11T19:19:39.901Z"
   },
   {
    "duration": 23,
    "start_time": "2022-01-11T19:20:49.728Z"
   },
   {
    "duration": 341,
    "start_time": "2022-01-11T19:21:39.772Z"
   },
   {
    "duration": 18,
    "start_time": "2022-01-11T19:21:47.556Z"
   },
   {
    "duration": 24,
    "start_time": "2022-01-11T19:22:15.179Z"
   },
   {
    "duration": 326,
    "start_time": "2022-01-11T19:25:05.837Z"
   },
   {
    "duration": 733,
    "start_time": "2022-01-11T19:25:18.913Z"
   },
   {
    "duration": 316,
    "start_time": "2022-01-11T19:25:30.218Z"
   },
   {
    "duration": 321,
    "start_time": "2022-01-11T19:25:34.706Z"
   },
   {
    "duration": 54,
    "start_time": "2022-01-11T19:26:26.359Z"
   },
   {
    "duration": 7824,
    "start_time": "2022-01-11T19:27:24.821Z"
   },
   {
    "duration": 39,
    "start_time": "2022-01-11T19:27:35.773Z"
   },
   {
    "duration": 11,
    "start_time": "2022-01-11T19:27:49.244Z"
   },
   {
    "duration": 304,
    "start_time": "2022-01-11T19:27:59.178Z"
   },
   {
    "duration": 346,
    "start_time": "2022-01-11T19:28:10.591Z"
   },
   {
    "duration": 289,
    "start_time": "2022-01-11T19:28:19.338Z"
   },
   {
    "duration": 592,
    "start_time": "2022-01-11T19:29:02.594Z"
   },
   {
    "duration": 47,
    "start_time": "2022-01-11T19:29:20.360Z"
   },
   {
    "duration": 342,
    "start_time": "2022-01-11T19:29:26.421Z"
   },
   {
    "duration": 320,
    "start_time": "2022-01-11T19:29:32.708Z"
   },
   {
    "duration": 321,
    "start_time": "2022-01-11T19:29:49.703Z"
   },
   {
    "duration": 44,
    "start_time": "2022-01-11T19:29:54.357Z"
   },
   {
    "duration": 16,
    "start_time": "2022-01-11T19:29:54.404Z"
   },
   {
    "duration": 6,
    "start_time": "2022-01-11T19:29:54.424Z"
   },
   {
    "duration": 5,
    "start_time": "2022-01-11T19:29:54.434Z"
   },
   {
    "duration": 7,
    "start_time": "2022-01-11T19:29:54.442Z"
   },
   {
    "duration": 15,
    "start_time": "2022-01-11T19:29:54.452Z"
   },
   {
    "duration": 91,
    "start_time": "2022-01-11T19:29:54.470Z"
   },
   {
    "duration": 20,
    "start_time": "2022-01-11T19:29:54.566Z"
   },
   {
    "duration": 52,
    "start_time": "2022-01-11T19:29:54.589Z"
   },
   {
    "duration": 11,
    "start_time": "2022-01-11T19:29:54.644Z"
   },
   {
    "duration": 7,
    "start_time": "2022-01-11T19:29:54.657Z"
   },
   {
    "duration": 58,
    "start_time": "2022-01-11T19:29:54.667Z"
   },
   {
    "duration": 25,
    "start_time": "2022-01-11T19:29:54.728Z"
   },
   {
    "duration": 497,
    "start_time": "2022-01-11T19:29:54.757Z"
   },
   {
    "duration": 680,
    "start_time": "2022-01-11T19:30:00.943Z"
   },
   {
    "duration": 945,
    "start_time": "2022-01-11T19:30:08.714Z"
   },
   {
    "duration": 47,
    "start_time": "2022-01-11T19:31:04.825Z"
   },
   {
    "duration": 403,
    "start_time": "2022-01-11T19:31:13.631Z"
   },
   {
    "duration": 61,
    "start_time": "2022-01-11T19:31:21.143Z"
   },
   {
    "duration": 20,
    "start_time": "2022-01-11T19:31:21.208Z"
   },
   {
    "duration": 7,
    "start_time": "2022-01-11T19:31:21.232Z"
   },
   {
    "duration": 5,
    "start_time": "2022-01-11T19:31:21.243Z"
   },
   {
    "duration": 10,
    "start_time": "2022-01-11T19:31:21.251Z"
   },
   {
    "duration": 60,
    "start_time": "2022-01-11T19:31:21.264Z"
   },
   {
    "duration": 57,
    "start_time": "2022-01-11T19:31:21.328Z"
   },
   {
    "duration": 42,
    "start_time": "2022-01-11T19:31:21.390Z"
   },
   {
    "duration": 26,
    "start_time": "2022-01-11T19:31:21.435Z"
   },
   {
    "duration": 13,
    "start_time": "2022-01-11T19:31:21.465Z"
   },
   {
    "duration": 44,
    "start_time": "2022-01-11T19:31:21.482Z"
   },
   {
    "duration": 13,
    "start_time": "2022-01-11T19:31:21.530Z"
   },
   {
    "duration": 34,
    "start_time": "2022-01-11T19:31:21.547Z"
   },
   {
    "duration": 523,
    "start_time": "2022-01-11T19:31:21.585Z"
   },
   {
    "duration": 604,
    "start_time": "2022-01-11T19:31:43.008Z"
   },
   {
    "duration": 1932,
    "start_time": "2022-01-11T19:32:17.141Z"
   },
   {
    "duration": 758,
    "start_time": "2022-01-11T19:35:48.876Z"
   },
   {
    "duration": 1696,
    "start_time": "2022-01-11T19:37:22.478Z"
   },
   {
    "duration": 1580,
    "start_time": "2022-01-11T19:38:56.076Z"
   },
   {
    "duration": 11,
    "start_time": "2022-01-11T19:41:58.099Z"
   },
   {
    "duration": 8,
    "start_time": "2022-01-11T19:44:13.326Z"
   },
   {
    "duration": 33,
    "start_time": "2022-01-11T19:44:19.254Z"
   },
   {
    "duration": 33,
    "start_time": "2022-01-11T19:45:10.372Z"
   },
   {
    "duration": 5,
    "start_time": "2022-01-11T19:45:24.057Z"
   },
   {
    "duration": 11,
    "start_time": "2022-01-11T19:45:37.744Z"
   },
   {
    "duration": 34,
    "start_time": "2022-01-11T19:45:38.736Z"
   },
   {
    "duration": 58,
    "start_time": "2022-01-11T19:45:51.749Z"
   },
   {
    "duration": 40,
    "start_time": "2022-01-11T19:46:11.011Z"
   },
   {
    "duration": 32,
    "start_time": "2022-01-11T19:47:34.976Z"
   },
   {
    "duration": 778,
    "start_time": "2022-01-11T19:54:51.268Z"
   },
   {
    "duration": 854,
    "start_time": "2022-01-11T19:55:04.273Z"
   },
   {
    "duration": 209,
    "start_time": "2022-01-11T19:55:35.985Z"
   },
   {
    "duration": 788,
    "start_time": "2022-01-11T19:56:31.789Z"
   },
   {
    "duration": 197,
    "start_time": "2022-01-11T19:56:59.952Z"
   },
   {
    "duration": 287,
    "start_time": "2022-01-11T19:57:11.269Z"
   },
   {
    "duration": 209,
    "start_time": "2022-01-11T19:57:28.143Z"
   },
   {
    "duration": 94,
    "start_time": "2022-01-11T20:02:14.889Z"
   },
   {
    "duration": 26,
    "start_time": "2022-01-11T20:02:24.089Z"
   },
   {
    "duration": 27,
    "start_time": "2022-01-11T20:03:11.693Z"
   },
   {
    "duration": 24,
    "start_time": "2022-01-11T20:04:30.093Z"
   },
   {
    "duration": 24,
    "start_time": "2022-01-11T20:04:32.210Z"
   },
   {
    "duration": 606,
    "start_time": "2022-01-11T20:07:36.051Z"
   },
   {
    "duration": 925,
    "start_time": "2022-01-11T20:09:33.829Z"
   },
   {
    "duration": 663,
    "start_time": "2022-01-11T20:09:49.544Z"
   },
   {
    "duration": 707,
    "start_time": "2022-01-11T20:10:05.529Z"
   },
   {
    "duration": 783,
    "start_time": "2022-01-11T20:10:20.116Z"
   },
   {
    "duration": 9482,
    "start_time": "2022-01-11T20:12:49.796Z"
   },
   {
    "duration": 10551,
    "start_time": "2022-01-11T20:13:57.758Z"
   },
   {
    "duration": 10,
    "start_time": "2022-01-11T20:14:17.581Z"
   },
   {
    "duration": 313,
    "start_time": "2022-01-11T20:14:49.273Z"
   },
   {
    "duration": 6,
    "start_time": "2022-01-11T20:14:55.174Z"
   },
   {
    "duration": 8704,
    "start_time": "2022-01-11T20:15:04.048Z"
   },
   {
    "duration": 650,
    "start_time": "2022-01-11T20:15:20.607Z"
   },
   {
    "duration": 663,
    "start_time": "2022-01-11T20:15:46.889Z"
   },
   {
    "duration": 590,
    "start_time": "2022-01-11T20:16:17.961Z"
   },
   {
    "duration": 92,
    "start_time": "2022-01-11T20:17:51.476Z"
   },
   {
    "duration": 15,
    "start_time": "2022-01-11T20:18:33.706Z"
   },
   {
    "duration": 26,
    "start_time": "2022-01-11T20:18:46.029Z"
   },
   {
    "duration": 26,
    "start_time": "2022-01-11T20:19:06.845Z"
   },
   {
    "duration": 6,
    "start_time": "2022-01-11T20:22:01.310Z"
   },
   {
    "duration": 7,
    "start_time": "2022-01-11T20:22:18.079Z"
   },
   {
    "duration": 7,
    "start_time": "2022-01-11T20:24:50.788Z"
   },
   {
    "duration": 7,
    "start_time": "2022-01-11T20:25:21.514Z"
   },
   {
    "duration": 7,
    "start_time": "2022-01-11T20:25:22.261Z"
   },
   {
    "duration": 6,
    "start_time": "2022-01-11T20:28:01.101Z"
   },
   {
    "duration": 7,
    "start_time": "2022-01-11T20:28:08.253Z"
   },
   {
    "duration": 44,
    "start_time": "2022-01-11T20:28:12.264Z"
   },
   {
    "duration": 13,
    "start_time": "2022-01-11T20:28:12.310Z"
   },
   {
    "duration": 6,
    "start_time": "2022-01-11T20:28:12.325Z"
   },
   {
    "duration": 5,
    "start_time": "2022-01-11T20:28:12.333Z"
   },
   {
    "duration": 10,
    "start_time": "2022-01-11T20:28:12.340Z"
   },
   {
    "duration": 15,
    "start_time": "2022-01-11T20:28:12.352Z"
   },
   {
    "duration": 79,
    "start_time": "2022-01-11T20:28:12.371Z"
   },
   {
    "duration": 20,
    "start_time": "2022-01-11T20:28:12.453Z"
   },
   {
    "duration": 50,
    "start_time": "2022-01-11T20:28:12.476Z"
   },
   {
    "duration": 10,
    "start_time": "2022-01-11T20:28:12.529Z"
   },
   {
    "duration": 7,
    "start_time": "2022-01-11T20:28:12.542Z"
   },
   {
    "duration": 14,
    "start_time": "2022-01-11T20:28:12.551Z"
   },
   {
    "duration": 71,
    "start_time": "2022-01-11T20:28:12.567Z"
   },
   {
    "duration": 1593,
    "start_time": "2022-01-11T20:28:12.641Z"
   },
   {
    "duration": 27,
    "start_time": "2022-01-11T20:28:14.237Z"
   },
   {
    "duration": 21,
    "start_time": "2022-01-11T20:28:14.266Z"
   },
   {
    "duration": 248,
    "start_time": "2022-01-11T20:28:14.289Z"
   },
   {
    "duration": 25,
    "start_time": "2022-01-11T20:28:14.542Z"
   },
   {
    "duration": 25,
    "start_time": "2022-01-11T20:28:14.570Z"
   },
   {
    "duration": 508,
    "start_time": "2022-01-11T20:28:14.624Z"
   },
   {
    "duration": 7,
    "start_time": "2022-01-11T20:28:15.134Z"
   },
   {
    "duration": 9,
    "start_time": "2022-01-11T20:28:15.144Z"
   },
   {
    "duration": 12,
    "start_time": "2022-01-11T20:28:15.156Z"
   },
   {
    "duration": 73,
    "start_time": "2022-01-11T20:28:15.171Z"
   },
   {
    "duration": 22,
    "start_time": "2022-01-11T20:28:59.958Z"
   },
   {
    "duration": 65,
    "start_time": "2022-01-11T20:30:38.145Z"
   },
   {
    "duration": 21,
    "start_time": "2022-01-11T20:30:38.214Z"
   },
   {
    "duration": 6,
    "start_time": "2022-01-11T20:30:38.240Z"
   },
   {
    "duration": 7,
    "start_time": "2022-01-11T20:30:38.249Z"
   },
   {
    "duration": 8,
    "start_time": "2022-01-11T20:30:38.258Z"
   },
   {
    "duration": 13,
    "start_time": "2022-01-11T20:30:38.269Z"
   },
   {
    "duration": 35,
    "start_time": "2022-01-11T20:30:38.324Z"
   },
   {
    "duration": 19,
    "start_time": "2022-01-11T20:30:38.362Z"
   },
   {
    "duration": 48,
    "start_time": "2022-01-11T20:30:38.383Z"
   },
   {
    "duration": 42,
    "start_time": "2022-01-11T20:30:38.433Z"
   },
   {
    "duration": 9,
    "start_time": "2022-01-11T20:30:38.477Z"
   },
   {
    "duration": 39,
    "start_time": "2022-01-11T20:30:38.488Z"
   },
   {
    "duration": 13,
    "start_time": "2022-01-11T20:30:38.529Z"
   },
   {
    "duration": 22,
    "start_time": "2022-01-11T20:30:38.545Z"
   },
   {
    "duration": 1527,
    "start_time": "2022-01-11T20:30:38.569Z"
   },
   {
    "duration": 43,
    "start_time": "2022-01-11T20:30:40.098Z"
   },
   {
    "duration": 20,
    "start_time": "2022-01-11T20:30:40.146Z"
   },
   {
    "duration": 217,
    "start_time": "2022-01-11T20:30:40.168Z"
   },
   {
    "duration": 37,
    "start_time": "2022-01-11T20:30:40.387Z"
   },
   {
    "duration": 24,
    "start_time": "2022-01-11T20:30:40.426Z"
   },
   {
    "duration": 485,
    "start_time": "2022-01-11T20:30:40.452Z"
   },
   {
    "duration": 6,
    "start_time": "2022-01-11T20:30:40.940Z"
   },
   {
    "duration": 16,
    "start_time": "2022-01-11T20:30:40.948Z"
   },
   {
    "duration": 8,
    "start_time": "2022-01-11T20:30:40.966Z"
   },
   {
    "duration": 47,
    "start_time": "2022-01-11T20:30:40.976Z"
   },
   {
    "duration": 46,
    "start_time": "2022-01-11T20:32:57.687Z"
   },
   {
    "duration": 23,
    "start_time": "2022-01-11T20:33:25.187Z"
   },
   {
    "duration": 9,
    "start_time": "2022-01-11T20:33:48.006Z"
   },
   {
    "duration": 10,
    "start_time": "2022-01-11T20:34:06.603Z"
   },
   {
    "duration": 11,
    "start_time": "2022-01-11T20:37:30.950Z"
   },
   {
    "duration": 23,
    "start_time": "2022-01-11T20:43:56.648Z"
   },
   {
    "duration": 26,
    "start_time": "2022-01-11T20:44:43.840Z"
   },
   {
    "duration": 26,
    "start_time": "2022-01-11T20:45:11.556Z"
   },
   {
    "duration": 26,
    "start_time": "2022-01-11T20:46:12.135Z"
   },
   {
    "duration": 14,
    "start_time": "2022-01-11T20:46:41.806Z"
   },
   {
    "duration": 14,
    "start_time": "2022-01-11T20:46:45.406Z"
   },
   {
    "duration": 35,
    "start_time": "2022-01-11T20:47:56.045Z"
   },
   {
    "duration": 17,
    "start_time": "2022-01-11T20:48:05.179Z"
   },
   {
    "duration": 13,
    "start_time": "2022-01-11T20:48:12.741Z"
   },
   {
    "duration": 7,
    "start_time": "2022-01-11T20:49:20.200Z"
   },
   {
    "duration": 12,
    "start_time": "2022-01-11T20:49:40.211Z"
   },
   {
    "duration": 9,
    "start_time": "2022-01-11T20:49:54.739Z"
   },
   {
    "duration": 7,
    "start_time": "2022-01-11T20:50:32.339Z"
   },
   {
    "duration": 7,
    "start_time": "2022-01-11T20:50:33.629Z"
   },
   {
    "duration": 16,
    "start_time": "2022-01-11T20:50:34.881Z"
   },
   {
    "duration": 16,
    "start_time": "2022-01-11T20:51:06.562Z"
   },
   {
    "duration": 22,
    "start_time": "2022-01-11T20:53:14.762Z"
   },
   {
    "duration": 7,
    "start_time": "2022-01-11T20:53:30.385Z"
   },
   {
    "duration": 8,
    "start_time": "2022-01-11T20:54:33.221Z"
   },
   {
    "duration": 7,
    "start_time": "2022-01-11T20:55:18.834Z"
   },
   {
    "duration": 92,
    "start_time": "2022-01-11T20:55:19.546Z"
   },
   {
    "duration": 7,
    "start_time": "2022-01-11T20:55:20.284Z"
   },
   {
    "duration": 88,
    "start_time": "2022-01-11T20:55:21.212Z"
   },
   {
    "duration": 7,
    "start_time": "2022-01-11T20:55:31.191Z"
   },
   {
    "duration": 8,
    "start_time": "2022-01-11T20:55:35.926Z"
   },
   {
    "duration": 14,
    "start_time": "2022-01-11T20:57:29.439Z"
   },
   {
    "duration": 8,
    "start_time": "2022-01-11T20:58:17.302Z"
   },
   {
    "duration": 7,
    "start_time": "2022-01-11T20:58:29.457Z"
   },
   {
    "duration": 7,
    "start_time": "2022-01-11T20:59:26.260Z"
   },
   {
    "duration": 12,
    "start_time": "2022-01-11T20:59:46.316Z"
   },
   {
    "duration": 7,
    "start_time": "2022-01-11T21:00:20.474Z"
   },
   {
    "duration": 7,
    "start_time": "2022-01-11T21:00:52.221Z"
   },
   {
    "duration": 124,
    "start_time": "2022-01-11T21:01:13.792Z"
   },
   {
    "duration": 15,
    "start_time": "2022-01-11T21:01:57.141Z"
   },
   {
    "duration": 7,
    "start_time": "2022-01-11T21:01:58.555Z"
   },
   {
    "duration": 7,
    "start_time": "2022-01-11T21:01:59.844Z"
   },
   {
    "duration": 7,
    "start_time": "2022-01-11T21:02:01.637Z"
   },
   {
    "duration": 935,
    "start_time": "2022-01-12T19:20:36.473Z"
   },
   {
    "duration": 18,
    "start_time": "2022-01-12T19:20:37.411Z"
   },
   {
    "duration": 8,
    "start_time": "2022-01-12T19:20:37.433Z"
   },
   {
    "duration": 17,
    "start_time": "2022-01-12T19:20:37.444Z"
   },
   {
    "duration": 9,
    "start_time": "2022-01-12T19:20:37.464Z"
   },
   {
    "duration": 50,
    "start_time": "2022-01-12T19:20:37.476Z"
   },
   {
    "duration": 43,
    "start_time": "2022-01-12T19:20:37.528Z"
   },
   {
    "duration": 48,
    "start_time": "2022-01-12T19:20:37.575Z"
   },
   {
    "duration": 22,
    "start_time": "2022-01-12T19:20:37.627Z"
   },
   {
    "duration": 45,
    "start_time": "2022-01-12T19:20:37.652Z"
   },
   {
    "duration": 30,
    "start_time": "2022-01-12T19:20:37.699Z"
   },
   {
    "duration": 24,
    "start_time": "2022-01-12T19:20:37.732Z"
   },
   {
    "duration": 12,
    "start_time": "2022-01-12T19:20:37.759Z"
   },
   {
    "duration": 52,
    "start_time": "2022-01-12T19:20:37.774Z"
   },
   {
    "duration": 1675,
    "start_time": "2022-01-12T19:20:37.829Z"
   },
   {
    "duration": 36,
    "start_time": "2022-01-12T19:20:39.506Z"
   },
   {
    "duration": 22,
    "start_time": "2022-01-12T19:20:39.545Z"
   },
   {
    "duration": 236,
    "start_time": "2022-01-12T19:20:39.569Z"
   },
   {
    "duration": 34,
    "start_time": "2022-01-12T19:20:39.807Z"
   },
   {
    "duration": 24,
    "start_time": "2022-01-12T19:20:39.844Z"
   },
   {
    "duration": 556,
    "start_time": "2022-01-12T19:20:39.870Z"
   },
   {
    "duration": 6,
    "start_time": "2022-01-12T19:20:40.429Z"
   },
   {
    "duration": 6,
    "start_time": "2022-01-12T19:20:40.443Z"
   },
   {
    "duration": 11,
    "start_time": "2022-01-12T19:20:40.452Z"
   },
   {
    "duration": 14,
    "start_time": "2022-01-12T19:20:40.466Z"
   },
   {
    "duration": 42,
    "start_time": "2022-01-12T19:20:40.483Z"
   },
   {
    "duration": 9,
    "start_time": "2022-01-12T19:20:40.528Z"
   },
   {
    "duration": 14,
    "start_time": "2022-01-12T19:20:40.539Z"
   },
   {
    "duration": 16,
    "start_time": "2022-01-12T19:20:40.556Z"
   },
   {
    "duration": 7,
    "start_time": "2022-01-12T19:20:40.574Z"
   },
   {
    "duration": 45,
    "start_time": "2022-01-12T19:20:40.584Z"
   },
   {
    "duration": 8,
    "start_time": "2022-01-12T19:20:40.631Z"
   },
   {
    "duration": 17,
    "start_time": "2022-01-12T19:20:40.642Z"
   },
   {
    "duration": 7,
    "start_time": "2022-01-12T19:20:40.661Z"
   },
   {
    "duration": 60,
    "start_time": "2022-01-12T19:20:40.670Z"
   },
   {
    "duration": 8,
    "start_time": "2022-01-12T19:20:40.732Z"
   },
   {
    "duration": 521,
    "start_time": "2022-01-12T19:21:34.856Z"
   },
   {
    "duration": 39,
    "start_time": "2022-01-12T19:23:31.268Z"
   },
   {
    "duration": 12,
    "start_time": "2022-01-12T19:23:55.865Z"
   },
   {
    "duration": 14,
    "start_time": "2022-01-12T19:24:39.503Z"
   },
   {
    "duration": 16,
    "start_time": "2022-01-12T19:25:02.057Z"
   },
   {
    "duration": 18,
    "start_time": "2022-01-12T19:27:52.203Z"
   },
   {
    "duration": 16,
    "start_time": "2022-01-12T19:28:44.006Z"
   },
   {
    "duration": 17,
    "start_time": "2022-01-12T19:28:48.513Z"
   },
   {
    "duration": 1087,
    "start_time": "2022-01-14T13:03:03.837Z"
   },
   {
    "duration": 12,
    "start_time": "2022-01-14T13:03:04.927Z"
   },
   {
    "duration": 24,
    "start_time": "2022-01-14T13:03:04.942Z"
   },
   {
    "duration": 25,
    "start_time": "2022-01-14T13:03:04.968Z"
   },
   {
    "duration": 35,
    "start_time": "2022-01-14T13:03:04.995Z"
   },
   {
    "duration": 11,
    "start_time": "2022-01-14T13:03:05.032Z"
   },
   {
    "duration": 35,
    "start_time": "2022-01-14T13:03:05.045Z"
   },
   {
    "duration": 13,
    "start_time": "2022-01-14T13:03:05.082Z"
   },
   {
    "duration": 17,
    "start_time": "2022-01-14T13:03:05.098Z"
   },
   {
    "duration": 44,
    "start_time": "2022-01-14T13:03:05.117Z"
   },
   {
    "duration": 7,
    "start_time": "2022-01-14T13:03:05.163Z"
   },
   {
    "duration": 29,
    "start_time": "2022-01-14T13:03:05.172Z"
   },
   {
    "duration": 21,
    "start_time": "2022-01-14T13:03:05.203Z"
   },
   {
    "duration": 28,
    "start_time": "2022-01-14T13:03:05.226Z"
   },
   {
    "duration": 1027,
    "start_time": "2022-01-14T13:03:05.256Z"
   },
   {
    "duration": 28,
    "start_time": "2022-01-14T13:03:06.286Z"
   },
   {
    "duration": 16,
    "start_time": "2022-01-14T13:03:06.316Z"
   },
   {
    "duration": 168,
    "start_time": "2022-01-14T13:03:06.335Z"
   },
   {
    "duration": 16,
    "start_time": "2022-01-14T13:03:06.505Z"
   },
   {
    "duration": 17,
    "start_time": "2022-01-14T13:03:06.523Z"
   },
   {
    "duration": 369,
    "start_time": "2022-01-14T13:03:06.541Z"
   },
   {
    "duration": 4,
    "start_time": "2022-01-14T13:03:06.912Z"
   },
   {
    "duration": 8,
    "start_time": "2022-01-14T13:03:06.918Z"
   },
   {
    "duration": 8,
    "start_time": "2022-01-14T13:03:06.928Z"
   },
   {
    "duration": 10,
    "start_time": "2022-01-14T13:03:06.938Z"
   },
   {
    "duration": 5,
    "start_time": "2022-01-14T13:03:06.950Z"
   },
   {
    "duration": 9,
    "start_time": "2022-01-14T13:03:06.958Z"
   },
   {
    "duration": 6,
    "start_time": "2022-01-14T13:03:06.998Z"
   },
   {
    "duration": 12,
    "start_time": "2022-01-14T13:03:07.005Z"
   },
   {
    "duration": 5,
    "start_time": "2022-01-14T13:03:07.019Z"
   },
   {
    "duration": 7,
    "start_time": "2022-01-14T13:03:07.025Z"
   },
   {
    "duration": 7,
    "start_time": "2022-01-14T13:03:07.033Z"
   },
   {
    "duration": 11,
    "start_time": "2022-01-14T13:03:07.041Z"
   },
   {
    "duration": 5,
    "start_time": "2022-01-14T13:03:07.053Z"
   },
   {
    "duration": 43,
    "start_time": "2022-01-14T13:03:07.059Z"
   },
   {
    "duration": 8,
    "start_time": "2022-01-14T13:03:07.104Z"
   },
   {
    "duration": 13,
    "start_time": "2022-01-14T13:03:07.114Z"
   },
   {
    "duration": 18,
    "start_time": "2022-01-14T13:03:07.129Z"
   },
   {
    "duration": 950,
    "start_time": "2022-01-14T19:12:35.452Z"
   },
   {
    "duration": 10,
    "start_time": "2022-01-14T19:12:36.404Z"
   },
   {
    "duration": 6,
    "start_time": "2022-01-14T19:12:50.755Z"
   },
   {
    "duration": 3,
    "start_time": "2022-01-14T19:12:52.016Z"
   },
   {
    "duration": 37,
    "start_time": "2022-01-14T19:16:02.724Z"
   },
   {
    "duration": 10,
    "start_time": "2022-01-14T19:16:02.762Z"
   },
   {
    "duration": 4,
    "start_time": "2022-01-14T19:16:12.104Z"
   },
   {
    "duration": 5,
    "start_time": "2022-01-14T19:18:17.431Z"
   },
   {
    "duration": 4,
    "start_time": "2022-01-14T19:18:29.065Z"
   },
   {
    "duration": 68,
    "start_time": "2022-01-14T19:18:58.136Z"
   },
   {
    "duration": 4,
    "start_time": "2022-01-14T19:19:03.276Z"
   },
   {
    "duration": 4,
    "start_time": "2022-01-14T19:19:06.241Z"
   },
   {
    "duration": 6,
    "start_time": "2022-01-14T19:20:26.487Z"
   },
   {
    "duration": 4,
    "start_time": "2022-01-14T19:20:30.783Z"
   },
   {
    "duration": 4,
    "start_time": "2022-01-14T19:21:23.059Z"
   },
   {
    "duration": 4,
    "start_time": "2022-01-14T19:21:25.794Z"
   },
   {
    "duration": 5,
    "start_time": "2022-01-14T19:21:40.847Z"
   },
   {
    "duration": 4,
    "start_time": "2022-01-14T19:21:49.215Z"
   },
   {
    "duration": 10,
    "start_time": "2022-01-14T19:21:55.758Z"
   },
   {
    "duration": 27,
    "start_time": "2022-01-14T19:21:58.395Z"
   },
   {
    "duration": 14,
    "start_time": "2022-01-14T19:22:09.777Z"
   },
   {
    "duration": 15,
    "start_time": "2022-01-14T19:23:10.283Z"
   },
   {
    "duration": 31,
    "start_time": "2022-01-14T19:23:11.986Z"
   },
   {
    "duration": 7,
    "start_time": "2022-01-14T19:23:18.232Z"
   },
   {
    "duration": 6,
    "start_time": "2022-01-14T19:23:20.142Z"
   },
   {
    "duration": 10,
    "start_time": "2022-01-14T19:23:34.256Z"
   },
   {
    "duration": 8,
    "start_time": "2022-01-14T19:26:02.153Z"
   },
   {
    "duration": 16,
    "start_time": "2022-01-14T19:26:05.793Z"
   },
   {
    "duration": 953,
    "start_time": "2022-01-14T19:26:07.623Z"
   },
   {
    "duration": 1046,
    "start_time": "2022-01-14T19:27:39.327Z"
   },
   {
    "duration": 275,
    "start_time": "2022-01-14T19:28:41.612Z"
   },
   {
    "duration": 9,
    "start_time": "2022-01-14T19:28:58.440Z"
   },
   {
    "duration": 175,
    "start_time": "2022-01-14T19:29:48.926Z"
   },
   {
    "duration": 9,
    "start_time": "2022-01-14T19:30:44.620Z"
   },
   {
    "duration": 241,
    "start_time": "2022-01-14T19:30:59.658Z"
   },
   {
    "duration": 10,
    "start_time": "2022-01-14T19:31:06.401Z"
   },
   {
    "duration": 8,
    "start_time": "2022-01-14T19:31:23.487Z"
   },
   {
    "duration": 7,
    "start_time": "2022-01-14T19:31:43.291Z"
   },
   {
    "duration": 9,
    "start_time": "2022-01-14T19:32:05.044Z"
   },
   {
    "duration": 9,
    "start_time": "2022-01-14T19:32:20.633Z"
   },
   {
    "duration": 9,
    "start_time": "2022-01-14T19:32:48.091Z"
   },
   {
    "duration": 9,
    "start_time": "2022-01-14T19:33:01.777Z"
   },
   {
    "duration": 8,
    "start_time": "2022-01-14T19:33:15.215Z"
   },
   {
    "duration": 8,
    "start_time": "2022-01-14T19:33:26.482Z"
   },
   {
    "duration": 959,
    "start_time": "2022-01-14T19:33:50.273Z"
   },
   {
    "duration": 1006,
    "start_time": "2022-01-14T19:35:29.463Z"
   },
   {
    "duration": 9,
    "start_time": "2022-01-14T19:36:31.542Z"
   },
   {
    "duration": 9,
    "start_time": "2022-01-14T19:36:39.527Z"
   },
   {
    "duration": 9,
    "start_time": "2022-01-14T19:36:45.390Z"
   },
   {
    "duration": 10,
    "start_time": "2022-01-14T19:37:18.499Z"
   },
   {
    "duration": 205,
    "start_time": "2022-01-14T19:37:29.961Z"
   },
   {
    "duration": 8,
    "start_time": "2022-01-14T19:37:39.709Z"
   },
   {
    "duration": 176,
    "start_time": "2022-01-14T19:39:04.934Z"
   },
   {
    "duration": 190,
    "start_time": "2022-01-14T19:39:08.165Z"
   },
   {
    "duration": 8,
    "start_time": "2022-01-14T19:39:20.505Z"
   },
   {
    "duration": 59,
    "start_time": "2022-01-14T19:40:24.689Z"
   },
   {
    "duration": 63,
    "start_time": "2022-01-14T19:40:28.965Z"
   },
   {
    "duration": 8,
    "start_time": "2022-01-14T19:40:53.927Z"
   },
   {
    "duration": 9,
    "start_time": "2022-01-14T19:41:03.016Z"
   },
   {
    "duration": 9,
    "start_time": "2022-01-14T19:41:09.470Z"
   },
   {
    "duration": 81,
    "start_time": "2022-01-14T19:41:14.129Z"
   },
   {
    "duration": 8,
    "start_time": "2022-01-14T19:41:36.191Z"
   },
   {
    "duration": 9,
    "start_time": "2022-01-14T19:41:41.599Z"
   },
   {
    "duration": 8,
    "start_time": "2022-01-14T19:41:45.072Z"
   },
   {
    "duration": 11,
    "start_time": "2022-01-14T19:41:58.472Z"
   },
   {
    "duration": 957,
    "start_time": "2022-01-14T19:49:33.254Z"
   },
   {
    "duration": 956,
    "start_time": "2022-01-14T19:49:43.599Z"
   },
   {
    "duration": 17,
    "start_time": "2022-01-14T19:56:59.001Z"
   },
   {
    "duration": 14,
    "start_time": "2022-01-14T19:57:14.745Z"
   },
   {
    "duration": 130,
    "start_time": "2022-01-14T19:58:37.863Z"
   },
   {
    "duration": 1185,
    "start_time": "2022-01-14T20:01:28.457Z"
   },
   {
    "duration": 869,
    "start_time": "2022-01-14T20:01:51.681Z"
   },
   {
    "duration": 610,
    "start_time": "2022-01-14T20:02:12.141Z"
   },
   {
    "duration": 750,
    "start_time": "2022-01-14T20:03:59.463Z"
   },
   {
    "duration": 674,
    "start_time": "2022-01-14T20:05:05.858Z"
   },
   {
    "duration": 774,
    "start_time": "2022-01-14T20:05:16.921Z"
   },
   {
    "duration": 710,
    "start_time": "2022-01-14T20:06:23.883Z"
   },
   {
    "duration": 765,
    "start_time": "2022-01-14T20:08:07.180Z"
   },
   {
    "duration": 1213,
    "start_time": "2022-01-14T20:08:25.687Z"
   },
   {
    "duration": 1176,
    "start_time": "2022-01-14T20:09:02.660Z"
   },
   {
    "duration": 8,
    "start_time": "2022-01-14T20:09:55.332Z"
   },
   {
    "duration": 8,
    "start_time": "2022-01-14T20:10:06.310Z"
   },
   {
    "duration": 8,
    "start_time": "2022-01-14T20:10:16.416Z"
   },
   {
    "duration": 1224,
    "start_time": "2022-01-14T20:10:43.274Z"
   },
   {
    "duration": 1153,
    "start_time": "2022-01-14T20:11:13.594Z"
   },
   {
    "duration": 14,
    "start_time": "2022-01-14T20:13:47.751Z"
   },
   {
    "duration": 12,
    "start_time": "2022-01-14T20:14:16.357Z"
   },
   {
    "duration": 17,
    "start_time": "2022-01-14T20:14:49.769Z"
   },
   {
    "duration": 2743,
    "start_time": "2022-01-14T20:15:04.107Z"
   },
   {
    "duration": 184,
    "start_time": "2022-01-14T20:15:25.780Z"
   },
   {
    "duration": 4421,
    "start_time": "2022-01-14T20:15:47.256Z"
   },
   {
    "duration": 1273,
    "start_time": "2022-01-14T20:16:13.557Z"
   },
   {
    "duration": 174,
    "start_time": "2022-01-14T20:16:27.610Z"
   },
   {
    "duration": 19,
    "start_time": "2022-01-14T20:16:40.693Z"
   },
   {
    "duration": 31,
    "start_time": "2022-01-14T20:16:47.410Z"
   },
   {
    "duration": 1603,
    "start_time": "2022-01-14T20:19:19.929Z"
   },
   {
    "duration": 1581,
    "start_time": "2022-01-14T20:19:41.156Z"
   },
   {
    "duration": 1517,
    "start_time": "2022-01-14T20:20:03.606Z"
   },
   {
    "duration": 1503,
    "start_time": "2022-01-14T20:20:08.743Z"
   },
   {
    "duration": 485,
    "start_time": "2022-01-14T20:21:11.425Z"
   },
   {
    "duration": 1521,
    "start_time": "2022-01-14T20:21:36.178Z"
   },
   {
    "duration": 3025,
    "start_time": "2022-01-14T20:22:55.172Z"
   },
   {
    "duration": 3090,
    "start_time": "2022-01-14T20:23:09.827Z"
   },
   {
    "duration": 362,
    "start_time": "2022-01-14T20:24:46.221Z"
   },
   {
    "duration": 372,
    "start_time": "2022-01-14T20:25:03.440Z"
   },
   {
    "duration": 386,
    "start_time": "2022-01-14T20:25:11.490Z"
   },
   {
    "duration": 3145,
    "start_time": "2022-01-14T20:26:06.983Z"
   },
   {
    "duration": 3941,
    "start_time": "2022-01-14T20:26:18.710Z"
   },
   {
    "duration": 386,
    "start_time": "2022-01-14T20:28:42.053Z"
   },
   {
    "duration": 313,
    "start_time": "2022-01-14T20:28:56.525Z"
   },
   {
    "duration": 297,
    "start_time": "2022-01-14T20:29:18.336Z"
   },
   {
    "duration": 4575,
    "start_time": "2022-01-14T20:32:29.493Z"
   },
   {
    "duration": 40,
    "start_time": "2022-01-14T20:32:42.953Z"
   },
   {
    "duration": 42,
    "start_time": "2022-01-14T20:34:16.982Z"
   },
   {
    "duration": 46,
    "start_time": "2022-01-14T20:34:29.770Z"
   },
   {
    "duration": 49,
    "start_time": "2022-01-14T20:35:18.417Z"
   },
   {
    "duration": 67,
    "start_time": "2022-01-14T20:35:32.797Z"
   },
   {
    "duration": 57,
    "start_time": "2022-01-14T20:35:39.016Z"
   },
   {
    "duration": 49,
    "start_time": "2022-01-14T20:35:49.337Z"
   },
   {
    "duration": 3172,
    "start_time": "2022-01-14T20:36:44.952Z"
   },
   {
    "duration": 52,
    "start_time": "2022-01-14T20:37:07.694Z"
   },
   {
    "duration": 50,
    "start_time": "2022-01-14T20:38:04.496Z"
   },
   {
    "duration": 48,
    "start_time": "2022-01-14T20:39:22.349Z"
   },
   {
    "duration": 48,
    "start_time": "2022-01-14T20:40:08.311Z"
   },
   {
    "duration": 37,
    "start_time": "2022-01-14T20:40:21.865Z"
   },
   {
    "duration": 10,
    "start_time": "2022-01-14T20:40:21.904Z"
   },
   {
    "duration": 4,
    "start_time": "2022-01-14T20:40:21.916Z"
   },
   {
    "duration": 4,
    "start_time": "2022-01-14T20:40:21.934Z"
   },
   {
    "duration": 4,
    "start_time": "2022-01-14T20:40:21.954Z"
   },
   {
    "duration": 9,
    "start_time": "2022-01-14T20:40:21.981Z"
   },
   {
    "duration": 26,
    "start_time": "2022-01-14T20:40:22.010Z"
   },
   {
    "duration": 13,
    "start_time": "2022-01-14T20:40:22.038Z"
   },
   {
    "duration": 14,
    "start_time": "2022-01-14T20:40:22.056Z"
   },
   {
    "duration": 38,
    "start_time": "2022-01-14T20:40:22.075Z"
   },
   {
    "duration": 6,
    "start_time": "2022-01-14T20:40:22.115Z"
   },
   {
    "duration": 4,
    "start_time": "2022-01-14T20:40:22.153Z"
   },
   {
    "duration": 9,
    "start_time": "2022-01-14T20:40:22.207Z"
   },
   {
    "duration": 16,
    "start_time": "2022-01-14T20:40:22.344Z"
   },
   {
    "duration": 973,
    "start_time": "2022-01-14T20:40:22.362Z"
   },
   {
    "duration": 17,
    "start_time": "2022-01-14T20:40:23.337Z"
   },
   {
    "duration": 13,
    "start_time": "2022-01-14T20:40:23.355Z"
   },
   {
    "duration": 1275,
    "start_time": "2022-01-14T20:40:23.369Z"
   },
   {
    "duration": 3109,
    "start_time": "2022-01-14T20:40:24.646Z"
   },
   {
    "duration": 365,
    "start_time": "2022-01-14T20:40:27.757Z"
   },
   {
    "duration": 47,
    "start_time": "2022-01-14T20:40:36.337Z"
   },
   {
    "duration": 47,
    "start_time": "2022-01-14T20:41:17.205Z"
   },
   {
    "duration": 8,
    "start_time": "2022-01-14T20:41:55.357Z"
   },
   {
    "duration": 36,
    "start_time": "2022-01-14T20:48:14.020Z"
   },
   {
    "duration": 9,
    "start_time": "2022-01-14T20:48:14.058Z"
   },
   {
    "duration": 4,
    "start_time": "2022-01-14T20:48:14.070Z"
   },
   {
    "duration": 5,
    "start_time": "2022-01-14T20:48:14.088Z"
   },
   {
    "duration": 4,
    "start_time": "2022-01-14T20:48:14.109Z"
   },
   {
    "duration": 8,
    "start_time": "2022-01-14T20:48:14.135Z"
   },
   {
    "duration": 26,
    "start_time": "2022-01-14T20:48:14.162Z"
   },
   {
    "duration": 12,
    "start_time": "2022-01-14T20:48:14.193Z"
   },
   {
    "duration": 14,
    "start_time": "2022-01-14T20:48:14.224Z"
   },
   {
    "duration": 32,
    "start_time": "2022-01-14T20:48:14.243Z"
   },
   {
    "duration": 15,
    "start_time": "2022-01-14T20:48:14.276Z"
   },
   {
    "duration": 5,
    "start_time": "2022-01-14T20:48:14.299Z"
   },
   {
    "duration": 10,
    "start_time": "2022-01-14T20:48:14.332Z"
   },
   {
    "duration": 16,
    "start_time": "2022-01-14T20:48:14.579Z"
   },
   {
    "duration": 1049,
    "start_time": "2022-01-14T20:48:14.600Z"
   },
   {
    "duration": 18,
    "start_time": "2022-01-14T20:48:15.651Z"
   },
   {
    "duration": 15,
    "start_time": "2022-01-14T20:48:15.690Z"
   },
   {
    "duration": 1144,
    "start_time": "2022-01-14T20:48:15.707Z"
   },
   {
    "duration": 3280,
    "start_time": "2022-01-14T20:48:16.852Z"
   },
   {
    "duration": 333,
    "start_time": "2022-01-14T20:48:20.134Z"
   },
   {
    "duration": 59,
    "start_time": "2022-01-14T20:48:20.469Z"
   },
   {
    "duration": 9,
    "start_time": "2022-01-14T20:48:20.532Z"
   },
   {
    "duration": 11,
    "start_time": "2022-01-14T20:48:20.544Z"
   },
   {
    "duration": 5,
    "start_time": "2022-01-14T20:48:20.557Z"
   },
   {
    "duration": 6,
    "start_time": "2022-01-14T20:48:20.591Z"
   },
   {
    "duration": 9,
    "start_time": "2022-01-14T20:48:20.599Z"
   },
   {
    "duration": 15,
    "start_time": "2022-01-14T20:48:20.610Z"
   },
   {
    "duration": 6,
    "start_time": "2022-01-14T20:48:20.627Z"
   },
   {
    "duration": 6,
    "start_time": "2022-01-14T20:48:20.635Z"
   },
   {
    "duration": 6,
    "start_time": "2022-01-14T20:48:20.643Z"
   },
   {
    "duration": 10,
    "start_time": "2022-01-14T20:48:20.691Z"
   },
   {
    "duration": 5,
    "start_time": "2022-01-14T20:48:20.703Z"
   },
   {
    "duration": 13,
    "start_time": "2022-01-14T20:48:20.711Z"
   },
   {
    "duration": 16,
    "start_time": "2022-01-14T20:48:20.726Z"
   },
   {
    "duration": 22,
    "start_time": "2022-01-14T20:48:20.743Z"
   },
   {
    "duration": 10,
    "start_time": "2022-01-14T20:48:20.767Z"
   },
   {
    "duration": 1058,
    "start_time": "2022-01-15T10:31:47.861Z"
   },
   {
    "duration": 10,
    "start_time": "2022-01-15T10:31:48.921Z"
   },
   {
    "duration": 16,
    "start_time": "2022-01-15T10:31:48.933Z"
   },
   {
    "duration": 18,
    "start_time": "2022-01-15T10:31:48.951Z"
   },
   {
    "duration": 10,
    "start_time": "2022-01-15T10:31:48.971Z"
   },
   {
    "duration": 19,
    "start_time": "2022-01-15T10:31:48.982Z"
   },
   {
    "duration": 39,
    "start_time": "2022-01-15T10:31:49.003Z"
   },
   {
    "duration": 12,
    "start_time": "2022-01-15T10:31:49.044Z"
   },
   {
    "duration": 25,
    "start_time": "2022-01-15T10:31:49.058Z"
   },
   {
    "duration": 33,
    "start_time": "2022-01-15T10:31:49.085Z"
   },
   {
    "duration": 6,
    "start_time": "2022-01-15T10:31:49.119Z"
   },
   {
    "duration": 21,
    "start_time": "2022-01-15T10:31:49.127Z"
   },
   {
    "duration": 12,
    "start_time": "2022-01-15T10:31:49.150Z"
   },
   {
    "duration": 21,
    "start_time": "2022-01-15T10:31:49.163Z"
   },
   {
    "duration": 998,
    "start_time": "2022-01-15T10:31:49.186Z"
   },
   {
    "duration": 22,
    "start_time": "2022-01-15T10:31:50.185Z"
   },
   {
    "duration": 13,
    "start_time": "2022-01-15T10:31:50.209Z"
   },
   {
    "duration": 1255,
    "start_time": "2022-01-15T10:31:50.223Z"
   },
   {
    "duration": 3167,
    "start_time": "2022-01-15T10:31:51.479Z"
   },
   {
    "duration": 316,
    "start_time": "2022-01-15T10:31:54.647Z"
   },
   {
    "duration": 57,
    "start_time": "2022-01-15T10:31:54.965Z"
   },
   {
    "duration": 7,
    "start_time": "2022-01-15T10:31:55.023Z"
   },
   {
    "duration": 10,
    "start_time": "2022-01-15T10:31:55.033Z"
   },
   {
    "duration": 11,
    "start_time": "2022-01-15T10:31:55.044Z"
   },
   {
    "duration": 7,
    "start_time": "2022-01-15T10:31:55.056Z"
   },
   {
    "duration": 8,
    "start_time": "2022-01-15T10:31:55.064Z"
   },
   {
    "duration": 30,
    "start_time": "2022-01-15T10:31:55.074Z"
   },
   {
    "duration": 5,
    "start_time": "2022-01-15T10:31:55.105Z"
   },
   {
    "duration": 7,
    "start_time": "2022-01-15T10:31:55.111Z"
   },
   {
    "duration": 6,
    "start_time": "2022-01-15T10:31:55.120Z"
   },
   {
    "duration": 12,
    "start_time": "2022-01-15T10:31:55.127Z"
   },
   {
    "duration": 4,
    "start_time": "2022-01-15T10:31:55.140Z"
   },
   {
    "duration": 9,
    "start_time": "2022-01-15T10:31:55.146Z"
   },
   {
    "duration": 8,
    "start_time": "2022-01-15T10:31:55.157Z"
   },
   {
    "duration": 37,
    "start_time": "2022-01-15T10:31:55.166Z"
   },
   {
    "duration": 9,
    "start_time": "2022-01-15T10:31:55.204Z"
   },
   {
    "duration": 525,
    "start_time": "2022-01-15T10:35:45.030Z"
   },
   {
    "duration": 6225,
    "start_time": "2022-01-15T10:36:01.954Z"
   },
   {
    "duration": 25,
    "start_time": "2022-01-15T10:37:04.869Z"
   },
   {
    "duration": 11,
    "start_time": "2022-01-15T10:37:39.905Z"
   },
   {
    "duration": 11,
    "start_time": "2022-01-15T10:37:58.968Z"
   },
   {
    "duration": 10,
    "start_time": "2022-01-15T10:38:20.932Z"
   },
   {
    "duration": 11,
    "start_time": "2022-01-15T10:38:30.705Z"
   },
   {
    "duration": 11,
    "start_time": "2022-01-15T10:38:51.507Z"
   },
   {
    "duration": 10,
    "start_time": "2022-01-15T10:38:58.941Z"
   },
   {
    "duration": 9,
    "start_time": "2022-01-15T10:39:16.887Z"
   },
   {
    "duration": 27,
    "start_time": "2022-01-15T10:39:28.718Z"
   },
   {
    "duration": 11,
    "start_time": "2022-01-15T10:40:45.122Z"
   },
   {
    "duration": 6536,
    "start_time": "2022-01-15T10:40:59.004Z"
   },
   {
    "duration": 264,
    "start_time": "2022-01-15T10:41:09.726Z"
   },
   {
    "duration": 11,
    "start_time": "2022-01-15T10:41:18.341Z"
   },
   {
    "duration": 9,
    "start_time": "2022-01-15T10:41:46.049Z"
   },
   {
    "duration": 253,
    "start_time": "2022-01-15T10:42:41.886Z"
   },
   {
    "duration": 41,
    "start_time": "2022-01-15T10:43:05.530Z"
   },
   {
    "duration": 9,
    "start_time": "2022-01-15T10:43:05.573Z"
   },
   {
    "duration": 4,
    "start_time": "2022-01-15T10:43:05.584Z"
   },
   {
    "duration": 4,
    "start_time": "2022-01-15T10:43:05.601Z"
   },
   {
    "duration": 4,
    "start_time": "2022-01-15T10:43:05.625Z"
   },
   {
    "duration": 10,
    "start_time": "2022-01-15T10:43:05.653Z"
   },
   {
    "duration": 26,
    "start_time": "2022-01-15T10:43:05.683Z"
   },
   {
    "duration": 13,
    "start_time": "2022-01-15T10:43:05.711Z"
   },
   {
    "duration": 14,
    "start_time": "2022-01-15T10:43:05.733Z"
   },
   {
    "duration": 30,
    "start_time": "2022-01-15T10:43:05.753Z"
   },
   {
    "duration": 7,
    "start_time": "2022-01-15T10:43:05.800Z"
   },
   {
    "duration": 4,
    "start_time": "2022-01-15T10:43:05.814Z"
   },
   {
    "duration": 9,
    "start_time": "2022-01-15T10:43:05.847Z"
   },
   {
    "duration": 15,
    "start_time": "2022-01-15T10:43:05.891Z"
   },
   {
    "duration": 1131,
    "start_time": "2022-01-15T10:43:05.916Z"
   },
   {
    "duration": 16,
    "start_time": "2022-01-15T10:43:07.049Z"
   },
   {
    "duration": 32,
    "start_time": "2022-01-15T10:43:07.068Z"
   },
   {
    "duration": 1208,
    "start_time": "2022-01-15T10:43:07.103Z"
   },
   {
    "duration": 3240,
    "start_time": "2022-01-15T10:43:08.313Z"
   },
   {
    "duration": 336,
    "start_time": "2022-01-15T10:43:11.555Z"
   },
   {
    "duration": 51,
    "start_time": "2022-01-15T10:43:11.893Z"
   },
   {
    "duration": 7,
    "start_time": "2022-01-15T10:43:11.948Z"
   },
   {
    "duration": 32,
    "start_time": "2022-01-15T10:43:11.957Z"
   },
   {
    "duration": 24,
    "start_time": "2022-01-15T10:43:11.991Z"
   },
   {
    "duration": 279,
    "start_time": "2022-01-15T10:43:12.017Z"
   },
   {
    "duration": -9929,
    "start_time": "2022-01-15T10:43:22.227Z"
   },
   {
    "duration": -10095,
    "start_time": "2022-01-15T10:43:22.394Z"
   },
   {
    "duration": -10154,
    "start_time": "2022-01-15T10:43:22.454Z"
   },
   {
    "duration": -10217,
    "start_time": "2022-01-15T10:43:22.518Z"
   },
   {
    "duration": -10239,
    "start_time": "2022-01-15T10:43:22.541Z"
   },
   {
    "duration": -10263,
    "start_time": "2022-01-15T10:43:22.567Z"
   },
   {
    "duration": -10285,
    "start_time": "2022-01-15T10:43:22.590Z"
   },
   {
    "duration": -10331,
    "start_time": "2022-01-15T10:43:22.637Z"
   },
   {
    "duration": -10364,
    "start_time": "2022-01-15T10:43:22.671Z"
   },
   {
    "duration": -10439,
    "start_time": "2022-01-15T10:43:22.747Z"
   },
   {
    "duration": -10525,
    "start_time": "2022-01-15T10:43:22.835Z"
   },
   {
    "duration": -10569,
    "start_time": "2022-01-15T10:43:22.880Z"
   },
   {
    "duration": 38,
    "start_time": "2022-01-15T10:44:24.278Z"
   },
   {
    "duration": 10,
    "start_time": "2022-01-15T10:44:24.318Z"
   },
   {
    "duration": 7,
    "start_time": "2022-01-15T10:44:24.330Z"
   },
   {
    "duration": 5,
    "start_time": "2022-01-15T10:44:24.341Z"
   },
   {
    "duration": 4,
    "start_time": "2022-01-15T10:44:24.368Z"
   },
   {
    "duration": 10,
    "start_time": "2022-01-15T10:44:24.396Z"
   },
   {
    "duration": 27,
    "start_time": "2022-01-15T10:44:24.420Z"
   },
   {
    "duration": 13,
    "start_time": "2022-01-15T10:44:24.450Z"
   },
   {
    "duration": 14,
    "start_time": "2022-01-15T10:44:24.473Z"
   },
   {
    "duration": 30,
    "start_time": "2022-01-15T10:44:24.499Z"
   },
   {
    "duration": 7,
    "start_time": "2022-01-15T10:44:24.531Z"
   },
   {
    "duration": 5,
    "start_time": "2022-01-15T10:44:24.553Z"
   },
   {
    "duration": 9,
    "start_time": "2022-01-15T10:44:24.588Z"
   },
   {
    "duration": 17,
    "start_time": "2022-01-15T10:44:24.632Z"
   },
   {
    "duration": 1175,
    "start_time": "2022-01-15T10:44:24.653Z"
   },
   {
    "duration": 19,
    "start_time": "2022-01-15T10:44:25.830Z"
   },
   {
    "duration": 13,
    "start_time": "2022-01-15T10:44:25.851Z"
   },
   {
    "duration": 1291,
    "start_time": "2022-01-15T10:44:25.866Z"
   },
   {
    "duration": 3378,
    "start_time": "2022-01-15T10:44:27.159Z"
   },
   {
    "duration": 335,
    "start_time": "2022-01-15T10:44:30.540Z"
   },
   {
    "duration": 55,
    "start_time": "2022-01-15T10:44:30.877Z"
   },
   {
    "duration": 7,
    "start_time": "2022-01-15T10:44:30.934Z"
   },
   {
    "duration": 18,
    "start_time": "2022-01-15T10:44:30.943Z"
   },
   {
    "duration": 8,
    "start_time": "2022-01-15T10:44:30.963Z"
   },
   {
    "duration": 282,
    "start_time": "2022-01-15T10:44:30.972Z"
   },
   {
    "duration": -9985,
    "start_time": "2022-01-15T10:44:41.241Z"
   },
   {
    "duration": -10018,
    "start_time": "2022-01-15T10:44:41.275Z"
   },
   {
    "duration": -10039,
    "start_time": "2022-01-15T10:44:41.297Z"
   },
   {
    "duration": -10062,
    "start_time": "2022-01-15T10:44:41.321Z"
   },
   {
    "duration": -10118,
    "start_time": "2022-01-15T10:44:41.378Z"
   },
   {
    "duration": -10183,
    "start_time": "2022-01-15T10:44:41.445Z"
   },
   {
    "duration": -10240,
    "start_time": "2022-01-15T10:44:41.503Z"
   },
   {
    "duration": -10329,
    "start_time": "2022-01-15T10:44:41.593Z"
   },
   {
    "duration": -10445,
    "start_time": "2022-01-15T10:44:41.710Z"
   },
   {
    "duration": -10488,
    "start_time": "2022-01-15T10:44:41.754Z"
   },
   {
    "duration": -10526,
    "start_time": "2022-01-15T10:44:41.793Z"
   },
   {
    "duration": -10584,
    "start_time": "2022-01-15T10:44:41.852Z"
   },
   {
    "duration": 275,
    "start_time": "2022-01-15T10:45:08.750Z"
   },
   {
    "duration": 267,
    "start_time": "2022-01-15T10:45:41.106Z"
   },
   {
    "duration": 265,
    "start_time": "2022-01-15T10:46:29.631Z"
   },
   {
    "duration": 279,
    "start_time": "2022-01-15T10:46:36.302Z"
   },
   {
    "duration": 295,
    "start_time": "2022-01-15T10:46:51.633Z"
   },
   {
    "duration": 285,
    "start_time": "2022-01-15T10:47:20.837Z"
   },
   {
    "duration": 273,
    "start_time": "2022-01-15T10:47:40.053Z"
   },
   {
    "duration": 39,
    "start_time": "2022-01-15T10:47:47.711Z"
   },
   {
    "duration": 10,
    "start_time": "2022-01-15T10:47:47.752Z"
   },
   {
    "duration": 5,
    "start_time": "2022-01-15T10:47:47.776Z"
   },
   {
    "duration": 4,
    "start_time": "2022-01-15T10:47:47.797Z"
   },
   {
    "duration": 5,
    "start_time": "2022-01-15T10:47:47.824Z"
   },
   {
    "duration": 10,
    "start_time": "2022-01-15T10:47:47.854Z"
   },
   {
    "duration": 27,
    "start_time": "2022-01-15T10:47:47.889Z"
   },
   {
    "duration": 14,
    "start_time": "2022-01-15T10:47:47.918Z"
   },
   {
    "duration": 17,
    "start_time": "2022-01-15T10:47:47.937Z"
   },
   {
    "duration": 45,
    "start_time": "2022-01-15T10:47:47.960Z"
   },
   {
    "duration": 8,
    "start_time": "2022-01-15T10:47:48.008Z"
   },
   {
    "duration": 6,
    "start_time": "2022-01-15T10:47:48.018Z"
   },
   {
    "duration": 10,
    "start_time": "2022-01-15T10:47:48.050Z"
   },
   {
    "duration": 17,
    "start_time": "2022-01-15T10:47:48.096Z"
   },
   {
    "duration": 1168,
    "start_time": "2022-01-15T10:47:48.117Z"
   },
   {
    "duration": 27,
    "start_time": "2022-01-15T10:47:49.287Z"
   },
   {
    "duration": 15,
    "start_time": "2022-01-15T10:47:49.316Z"
   },
   {
    "duration": 1388,
    "start_time": "2022-01-15T10:47:49.333Z"
   },
   {
    "duration": 3324,
    "start_time": "2022-01-15T10:47:50.722Z"
   },
   {
    "duration": 324,
    "start_time": "2022-01-15T10:47:54.048Z"
   },
   {
    "duration": 287,
    "start_time": "2022-01-15T10:47:54.374Z"
   },
   {
    "duration": -10021,
    "start_time": "2022-01-15T10:48:04.684Z"
   },
   {
    "duration": -10040,
    "start_time": "2022-01-15T10:48:04.705Z"
   },
   {
    "duration": -10090,
    "start_time": "2022-01-15T10:48:04.756Z"
   },
   {
    "duration": -10111,
    "start_time": "2022-01-15T10:48:04.778Z"
   },
   {
    "duration": -10132,
    "start_time": "2022-01-15T10:48:04.800Z"
   },
   {
    "duration": -10153,
    "start_time": "2022-01-15T10:48:04.822Z"
   },
   {
    "duration": -10178,
    "start_time": "2022-01-15T10:48:04.848Z"
   },
   {
    "duration": -10225,
    "start_time": "2022-01-15T10:48:04.896Z"
   },
   {
    "duration": -10246,
    "start_time": "2022-01-15T10:48:04.918Z"
   },
   {
    "duration": -10267,
    "start_time": "2022-01-15T10:48:04.940Z"
   },
   {
    "duration": -10290,
    "start_time": "2022-01-15T10:48:04.964Z"
   },
   {
    "duration": -10310,
    "start_time": "2022-01-15T10:48:04.985Z"
   },
   {
    "duration": -10360,
    "start_time": "2022-01-15T10:48:05.036Z"
   },
   {
    "duration": -10404,
    "start_time": "2022-01-15T10:48:05.082Z"
   },
   {
    "duration": -10451,
    "start_time": "2022-01-15T10:48:05.130Z"
   },
   {
    "duration": -10472,
    "start_time": "2022-01-15T10:48:05.152Z"
   },
   {
    "duration": 269,
    "start_time": "2022-01-15T10:48:28.529Z"
   },
   {
    "duration": 36,
    "start_time": "2022-01-15T10:49:38.431Z"
   },
   {
    "duration": 9,
    "start_time": "2022-01-15T10:49:38.469Z"
   },
   {
    "duration": 4,
    "start_time": "2022-01-15T10:49:38.485Z"
   },
   {
    "duration": 4,
    "start_time": "2022-01-15T10:49:38.500Z"
   },
   {
    "duration": 3,
    "start_time": "2022-01-15T10:49:38.538Z"
   },
   {
    "duration": 9,
    "start_time": "2022-01-15T10:49:38.565Z"
   },
   {
    "duration": 25,
    "start_time": "2022-01-15T10:49:38.591Z"
   },
   {
    "duration": 13,
    "start_time": "2022-01-15T10:49:38.618Z"
   },
   {
    "duration": 14,
    "start_time": "2022-01-15T10:49:38.638Z"
   },
   {
    "duration": 29,
    "start_time": "2022-01-15T10:49:38.664Z"
   },
   {
    "duration": 6,
    "start_time": "2022-01-15T10:49:38.702Z"
   },
   {
    "duration": 5,
    "start_time": "2022-01-15T10:49:38.730Z"
   },
   {
    "duration": 9,
    "start_time": "2022-01-15T10:49:38.767Z"
   },
   {
    "duration": 16,
    "start_time": "2022-01-15T10:49:38.809Z"
   },
   {
    "duration": 1030,
    "start_time": "2022-01-15T10:49:38.829Z"
   },
   {
    "duration": 19,
    "start_time": "2022-01-15T10:49:39.861Z"
   },
   {
    "duration": 15,
    "start_time": "2022-01-15T10:49:39.899Z"
   },
   {
    "duration": 1310,
    "start_time": "2022-01-15T10:49:39.916Z"
   },
   {
    "duration": 3112,
    "start_time": "2022-01-15T10:49:41.228Z"
   },
   {
    "duration": 318,
    "start_time": "2022-01-15T10:49:44.342Z"
   },
   {
    "duration": 273,
    "start_time": "2022-01-15T10:49:44.662Z"
   },
   {
    "duration": -9773,
    "start_time": "2022-01-15T10:49:54.710Z"
   },
   {
    "duration": -9871,
    "start_time": "2022-01-15T10:49:54.809Z"
   },
   {
    "duration": -9902,
    "start_time": "2022-01-15T10:49:54.841Z"
   },
   {
    "duration": -9931,
    "start_time": "2022-01-15T10:49:54.871Z"
   },
   {
    "duration": -9993,
    "start_time": "2022-01-15T10:49:54.934Z"
   },
   {
    "duration": -10025,
    "start_time": "2022-01-15T10:49:54.967Z"
   },
   {
    "duration": -10056,
    "start_time": "2022-01-15T10:49:54.999Z"
   },
   {
    "duration": -10085,
    "start_time": "2022-01-15T10:49:55.029Z"
   },
   {
    "duration": -10157,
    "start_time": "2022-01-15T10:49:55.102Z"
   },
   {
    "duration": -10186,
    "start_time": "2022-01-15T10:49:55.132Z"
   },
   {
    "duration": -10217,
    "start_time": "2022-01-15T10:49:55.164Z"
   },
   {
    "duration": -10247,
    "start_time": "2022-01-15T10:49:55.195Z"
   },
   {
    "duration": -10303,
    "start_time": "2022-01-15T10:49:55.252Z"
   },
   {
    "duration": -10288,
    "start_time": "2022-01-15T10:49:55.307Z"
   },
   {
    "duration": -10318,
    "start_time": "2022-01-15T10:49:55.339Z"
   },
   {
    "duration": -10389,
    "start_time": "2022-01-15T10:49:55.411Z"
   },
   {
    "duration": 285,
    "start_time": "2022-01-15T10:50:32.078Z"
   },
   {
    "duration": 279,
    "start_time": "2022-01-15T10:51:28.980Z"
   },
   {
    "duration": 280,
    "start_time": "2022-01-15T10:52:19.149Z"
   },
   {
    "duration": 8,
    "start_time": "2022-01-15T10:53:16.125Z"
   },
   {
    "duration": 8,
    "start_time": "2022-01-15T10:53:28.343Z"
   },
   {
    "duration": 8,
    "start_time": "2022-01-15T10:53:44.055Z"
   },
   {
    "duration": 261,
    "start_time": "2022-01-15T10:53:53.190Z"
   },
   {
    "duration": 260,
    "start_time": "2022-01-15T10:54:06.652Z"
   },
   {
    "duration": 270,
    "start_time": "2022-01-15T10:56:10.678Z"
   },
   {
    "duration": 278,
    "start_time": "2022-01-15T10:58:10.901Z"
   },
   {
    "duration": 88,
    "start_time": "2022-01-15T10:58:36.237Z"
   },
   {
    "duration": 282,
    "start_time": "2022-01-15T10:58:41.958Z"
   },
   {
    "duration": 278,
    "start_time": "2022-01-15T10:58:52.593Z"
   },
   {
    "duration": 280,
    "start_time": "2022-01-15T10:59:05.138Z"
   },
   {
    "duration": 259,
    "start_time": "2022-01-15T10:59:37.380Z"
   },
   {
    "duration": 281,
    "start_time": "2022-01-15T10:59:59.525Z"
   },
   {
    "duration": 10,
    "start_time": "2022-01-15T11:00:37.535Z"
   },
   {
    "duration": 9,
    "start_time": "2022-01-15T11:00:45.585Z"
   },
   {
    "duration": 267,
    "start_time": "2022-01-15T11:01:09.208Z"
   },
   {
    "duration": 264,
    "start_time": "2022-01-15T11:01:23.509Z"
   },
   {
    "duration": 268,
    "start_time": "2022-01-15T11:01:52.777Z"
   },
   {
    "duration": 275,
    "start_time": "2022-01-15T11:02:02.163Z"
   },
   {
    "duration": 264,
    "start_time": "2022-01-15T11:02:33.127Z"
   },
   {
    "duration": 273,
    "start_time": "2022-01-15T11:02:38.462Z"
   },
   {
    "duration": 4,
    "start_time": "2022-01-15T11:02:58.061Z"
   },
   {
    "duration": 12,
    "start_time": "2022-01-15T11:03:16.677Z"
   },
   {
    "duration": 8,
    "start_time": "2022-01-15T11:03:21.083Z"
   },
   {
    "duration": 273,
    "start_time": "2022-01-15T11:04:16.678Z"
   },
   {
    "duration": 23,
    "start_time": "2022-01-15T11:05:40.229Z"
   },
   {
    "duration": 255,
    "start_time": "2022-01-15T11:06:09.468Z"
   },
   {
    "duration": 286,
    "start_time": "2022-01-15T11:06:20.272Z"
   },
   {
    "duration": 37,
    "start_time": "2022-01-15T11:06:34.244Z"
   },
   {
    "duration": 8,
    "start_time": "2022-01-15T11:06:34.283Z"
   },
   {
    "duration": 3,
    "start_time": "2022-01-15T11:06:34.293Z"
   },
   {
    "duration": 3,
    "start_time": "2022-01-15T11:06:34.306Z"
   },
   {
    "duration": 4,
    "start_time": "2022-01-15T11:06:34.330Z"
   },
   {
    "duration": 10,
    "start_time": "2022-01-15T11:06:34.356Z"
   },
   {
    "duration": 27,
    "start_time": "2022-01-15T11:06:34.388Z"
   },
   {
    "duration": 13,
    "start_time": "2022-01-15T11:06:34.417Z"
   },
   {
    "duration": 14,
    "start_time": "2022-01-15T11:06:34.434Z"
   },
   {
    "duration": 43,
    "start_time": "2022-01-15T11:06:34.455Z"
   },
   {
    "duration": 6,
    "start_time": "2022-01-15T11:06:34.500Z"
   },
   {
    "duration": 4,
    "start_time": "2022-01-15T11:06:34.512Z"
   },
   {
    "duration": 8,
    "start_time": "2022-01-15T11:06:34.545Z"
   },
   {
    "duration": 16,
    "start_time": "2022-01-15T11:06:34.592Z"
   },
   {
    "duration": 1055,
    "start_time": "2022-01-15T11:06:34.612Z"
   },
   {
    "duration": 30,
    "start_time": "2022-01-15T11:06:35.669Z"
   },
   {
    "duration": 16,
    "start_time": "2022-01-15T11:06:35.702Z"
   },
   {
    "duration": 1225,
    "start_time": "2022-01-15T11:06:35.720Z"
   },
   {
    "duration": 3222,
    "start_time": "2022-01-15T11:06:36.947Z"
   },
   {
    "duration": 375,
    "start_time": "2022-01-15T11:06:40.170Z"
   },
   {
    "duration": 257,
    "start_time": "2022-01-15T11:06:40.547Z"
   },
   {
    "duration": -9617,
    "start_time": "2022-01-15T11:06:50.423Z"
   },
   {
    "duration": -9697,
    "start_time": "2022-01-15T11:06:50.504Z"
   },
   {
    "duration": -9802,
    "start_time": "2022-01-15T11:06:50.610Z"
   },
   {
    "duration": -9895,
    "start_time": "2022-01-15T11:06:50.704Z"
   },
   {
    "duration": -9936,
    "start_time": "2022-01-15T11:06:50.746Z"
   },
   {
    "duration": -9966,
    "start_time": "2022-01-15T11:06:50.776Z"
   },
   {
    "duration": -10018,
    "start_time": "2022-01-15T11:06:50.829Z"
   },
   {
    "duration": -10089,
    "start_time": "2022-01-15T11:06:50.901Z"
   },
   {
    "duration": -10169,
    "start_time": "2022-01-15T11:06:50.982Z"
   },
   {
    "duration": -10258,
    "start_time": "2022-01-15T11:06:51.072Z"
   },
   {
    "duration": -10326,
    "start_time": "2022-01-15T11:06:51.141Z"
   },
   {
    "duration": -10397,
    "start_time": "2022-01-15T11:06:51.213Z"
   },
   {
    "duration": -10418,
    "start_time": "2022-01-15T11:06:51.235Z"
   },
   {
    "duration": -10441,
    "start_time": "2022-01-15T11:06:51.259Z"
   },
   {
    "duration": -10462,
    "start_time": "2022-01-15T11:06:51.281Z"
   },
   {
    "duration": -10508,
    "start_time": "2022-01-15T11:06:51.328Z"
   },
   {
    "duration": -10531,
    "start_time": "2022-01-15T11:06:51.352Z"
   },
   {
    "duration": 1198,
    "start_time": "2022-01-15T11:10:26.667Z"
   },
   {
    "duration": 10,
    "start_time": "2022-01-15T11:10:49.277Z"
   },
   {
    "duration": 4,
    "start_time": "2022-01-15T11:10:50.695Z"
   },
   {
    "duration": 7,
    "start_time": "2022-01-15T11:11:25.211Z"
   },
   {
    "duration": 5,
    "start_time": "2022-01-15T11:12:01.817Z"
   },
   {
    "duration": 263,
    "start_time": "2022-01-15T11:12:33.648Z"
   },
   {
    "duration": 307,
    "start_time": "2022-01-15T11:12:38.303Z"
   },
   {
    "duration": 6,
    "start_time": "2022-01-15T11:12:42.931Z"
   },
   {
    "duration": 5,
    "start_time": "2022-01-15T11:13:06.590Z"
   },
   {
    "duration": 269,
    "start_time": "2022-01-15T11:13:27.845Z"
   },
   {
    "duration": 5,
    "start_time": "2022-01-15T11:13:35.868Z"
   },
   {
    "duration": 7,
    "start_time": "2022-01-15T11:14:01.392Z"
   },
   {
    "duration": 10,
    "start_time": "2022-01-15T11:14:45.769Z"
   },
   {
    "duration": 10,
    "start_time": "2022-01-15T11:15:08.507Z"
   },
   {
    "duration": 10,
    "start_time": "2022-01-15T11:15:24.390Z"
   },
   {
    "duration": 9,
    "start_time": "2022-01-15T11:17:08.965Z"
   },
   {
    "duration": 6,
    "start_time": "2022-01-15T11:17:25.203Z"
   },
   {
    "duration": 4,
    "start_time": "2022-01-15T11:17:33.142Z"
   },
   {
    "duration": 5,
    "start_time": "2022-01-15T11:17:39.418Z"
   },
   {
    "duration": 4,
    "start_time": "2022-01-15T11:17:46.446Z"
   },
   {
    "duration": 86,
    "start_time": "2022-01-15T11:18:13.753Z"
   },
   {
    "duration": 9,
    "start_time": "2022-01-15T11:18:43.495Z"
   },
   {
    "duration": 281,
    "start_time": "2022-01-15T11:19:23.397Z"
   },
   {
    "duration": 5,
    "start_time": "2022-01-15T11:19:32.717Z"
   },
   {
    "duration": 5,
    "start_time": "2022-01-15T11:19:47.697Z"
   },
   {
    "duration": 269,
    "start_time": "2022-01-15T11:21:22.002Z"
   },
   {
    "duration": 6,
    "start_time": "2022-01-15T11:21:39.148Z"
   },
   {
    "duration": 9,
    "start_time": "2022-01-15T11:22:00.841Z"
   },
   {
    "duration": 11,
    "start_time": "2022-01-15T11:22:14.689Z"
   },
   {
    "duration": 211,
    "start_time": "2022-01-15T11:26:15.989Z"
   },
   {
    "duration": 10,
    "start_time": "2022-01-15T11:26:36.825Z"
   },
   {
    "duration": 15,
    "start_time": "2022-01-15T11:27:57.117Z"
   },
   {
    "duration": 11,
    "start_time": "2022-01-15T11:28:22.008Z"
   },
   {
    "duration": 18,
    "start_time": "2022-01-15T11:28:31.739Z"
   },
   {
    "duration": 11,
    "start_time": "2022-01-15T11:28:39.294Z"
   },
   {
    "duration": 6,
    "start_time": "2022-01-15T11:28:41.661Z"
   },
   {
    "duration": 10,
    "start_time": "2022-01-15T11:28:56.267Z"
   },
   {
    "duration": 9,
    "start_time": "2022-01-15T11:29:52.304Z"
   },
   {
    "duration": 208,
    "start_time": "2022-01-15T11:30:03.837Z"
   },
   {
    "duration": 23,
    "start_time": "2022-01-15T11:30:46.321Z"
   },
   {
    "duration": 11,
    "start_time": "2022-01-15T11:31:00.743Z"
   },
   {
    "duration": 370,
    "start_time": "2022-01-15T11:32:21.778Z"
   },
   {
    "duration": 249,
    "start_time": "2022-01-15T11:32:56.220Z"
   },
   {
    "duration": 426,
    "start_time": "2022-01-15T11:33:11.476Z"
   },
   {
    "duration": 426,
    "start_time": "2022-01-15T11:33:19.125Z"
   },
   {
    "duration": 421,
    "start_time": "2022-01-15T11:33:27.701Z"
   },
   {
    "duration": 102,
    "start_time": "2022-01-15T11:33:51.129Z"
   },
   {
    "duration": 158,
    "start_time": "2022-01-15T11:35:20.567Z"
   },
   {
    "duration": 5210,
    "start_time": "2022-01-15T11:35:41.865Z"
   },
   {
    "duration": 213,
    "start_time": "2022-01-15T11:38:04.424Z"
   },
   {
    "duration": 350,
    "start_time": "2022-01-15T11:38:49.291Z"
   },
   {
    "duration": 275,
    "start_time": "2022-01-15T11:39:12.569Z"
   },
   {
    "duration": 256,
    "start_time": "2022-01-15T11:39:27.606Z"
   },
   {
    "duration": 387,
    "start_time": "2022-01-15T11:41:08.391Z"
   },
   {
    "duration": 282,
    "start_time": "2022-01-15T11:41:32.607Z"
   },
   {
    "duration": 6,
    "start_time": "2022-01-15T11:43:11.035Z"
   },
   {
    "duration": 253,
    "start_time": "2022-01-15T11:44:46.320Z"
   },
   {
    "duration": 266,
    "start_time": "2022-01-15T11:45:13.263Z"
   },
   {
    "duration": 523,
    "start_time": "2022-01-15T11:45:26.376Z"
   },
   {
    "duration": 558,
    "start_time": "2022-01-15T11:46:38.210Z"
   },
   {
    "duration": 6,
    "start_time": "2022-01-15T11:46:45.953Z"
   },
   {
    "duration": 503,
    "start_time": "2022-01-15T11:48:43.648Z"
   },
   {
    "duration": 16,
    "start_time": "2022-01-15T11:49:28.040Z"
   },
   {
    "duration": 10,
    "start_time": "2022-01-15T11:49:45.862Z"
   },
   {
    "duration": 18,
    "start_time": "2022-01-15T11:49:52.730Z"
   },
   {
    "duration": 10,
    "start_time": "2022-01-15T11:50:03.608Z"
   },
   {
    "duration": 5,
    "start_time": "2022-01-15T11:50:05.582Z"
   },
   {
    "duration": 540,
    "start_time": "2022-01-15T11:50:57.405Z"
   },
   {
    "duration": 542,
    "start_time": "2022-01-15T11:51:23.307Z"
   },
   {
    "duration": 425,
    "start_time": "2022-01-15T11:54:16.968Z"
   },
   {
    "duration": 340,
    "start_time": "2022-01-15T11:54:47.103Z"
   },
   {
    "duration": 11,
    "start_time": "2022-01-15T11:55:33.184Z"
   },
   {
    "duration": 5,
    "start_time": "2022-01-15T11:55:34.854Z"
   },
   {
    "duration": 333,
    "start_time": "2022-01-15T11:55:36.393Z"
   },
   {
    "duration": 337,
    "start_time": "2022-01-15T11:56:11.168Z"
   },
   {
    "duration": 11,
    "start_time": "2022-01-15T11:56:29.859Z"
   },
   {
    "duration": 5,
    "start_time": "2022-01-15T11:57:43.707Z"
   },
   {
    "duration": 186,
    "start_time": "2022-01-15T11:58:03.855Z"
   },
   {
    "duration": 7,
    "start_time": "2022-01-15T11:58:40.843Z"
   },
   {
    "duration": 183,
    "start_time": "2022-01-15T11:59:16.924Z"
   },
   {
    "duration": 9,
    "start_time": "2022-01-15T11:59:38.014Z"
   },
   {
    "duration": 355,
    "start_time": "2022-01-15T12:00:02.423Z"
   },
   {
    "duration": 522,
    "start_time": "2022-01-15T12:00:28.742Z"
   },
   {
    "duration": 7048,
    "start_time": "2022-01-15T12:01:06.761Z"
   },
   {
    "duration": 7297,
    "start_time": "2022-01-15T12:01:31.312Z"
   },
   {
    "duration": 7072,
    "start_time": "2022-01-15T12:02:04.414Z"
   },
   {
    "duration": 628,
    "start_time": "2022-01-15T12:02:36.549Z"
   },
   {
    "duration": 5,
    "start_time": "2022-01-15T12:02:43.363Z"
   },
   {
    "duration": 526,
    "start_time": "2022-01-15T12:03:18.349Z"
   },
   {
    "duration": 547,
    "start_time": "2022-01-15T12:03:42.008Z"
   },
   {
    "duration": 5,
    "start_time": "2022-01-15T12:03:49.099Z"
   },
   {
    "duration": 544,
    "start_time": "2022-01-15T12:05:33.017Z"
   },
   {
    "duration": 10,
    "start_time": "2022-01-15T12:06:02.559Z"
   },
   {
    "duration": 5,
    "start_time": "2022-01-15T12:06:04.451Z"
   },
   {
    "duration": 6,
    "start_time": "2022-01-15T12:06:06.410Z"
   },
   {
    "duration": 5,
    "start_time": "2022-01-15T12:06:07.789Z"
   },
   {
    "duration": 16,
    "start_time": "2022-01-15T12:06:56.170Z"
   },
   {
    "duration": 12,
    "start_time": "2022-01-15T12:07:06.110Z"
   },
   {
    "duration": 1367,
    "start_time": "2022-01-15T12:10:48.654Z"
   },
   {
    "duration": 701,
    "start_time": "2022-01-15T12:11:16.631Z"
   },
   {
    "duration": 520,
    "start_time": "2022-01-15T12:12:16.765Z"
   },
   {
    "duration": 587,
    "start_time": "2022-01-15T12:12:41.341Z"
   },
   {
    "duration": 4,
    "start_time": "2022-01-15T12:12:56.576Z"
   },
   {
    "duration": 524,
    "start_time": "2022-01-15T12:13:15.306Z"
   },
   {
    "duration": 666,
    "start_time": "2022-01-15T12:13:43.501Z"
   },
   {
    "duration": 515,
    "start_time": "2022-01-15T12:13:57.609Z"
   },
   {
    "duration": 510,
    "start_time": "2022-01-15T12:14:19.774Z"
   },
   {
    "duration": 6,
    "start_time": "2022-01-15T12:14:26.786Z"
   },
   {
    "duration": 473,
    "start_time": "2022-01-15T12:14:44.755Z"
   },
   {
    "duration": 6635,
    "start_time": "2022-01-15T12:16:14.234Z"
   },
   {
    "duration": 16,
    "start_time": "2022-01-15T12:18:11.101Z"
   },
   {
    "duration": 268,
    "start_time": "2022-01-15T12:18:46.089Z"
   },
   {
    "duration": 8465,
    "start_time": "2022-01-15T12:20:03.658Z"
   },
   {
    "duration": 289,
    "start_time": "2022-01-15T12:21:22.555Z"
   },
   {
    "duration": 10,
    "start_time": "2022-01-15T12:22:25.109Z"
   },
   {
    "duration": 13,
    "start_time": "2022-01-15T12:23:06.994Z"
   },
   {
    "duration": 35,
    "start_time": "2022-01-15T12:24:01.154Z"
   },
   {
    "duration": 37,
    "start_time": "2022-01-15T12:24:57.125Z"
   },
   {
    "duration": 10,
    "start_time": "2022-01-15T12:24:57.164Z"
   },
   {
    "duration": 4,
    "start_time": "2022-01-15T12:24:57.178Z"
   },
   {
    "duration": 5,
    "start_time": "2022-01-15T12:24:57.194Z"
   },
   {
    "duration": 4,
    "start_time": "2022-01-15T12:24:57.222Z"
   },
   {
    "duration": 9,
    "start_time": "2022-01-15T12:24:57.250Z"
   },
   {
    "duration": 24,
    "start_time": "2022-01-15T12:24:57.278Z"
   },
   {
    "duration": 12,
    "start_time": "2022-01-15T12:24:57.304Z"
   },
   {
    "duration": 15,
    "start_time": "2022-01-15T12:24:57.331Z"
   },
   {
    "duration": 30,
    "start_time": "2022-01-15T12:24:57.358Z"
   },
   {
    "duration": 8,
    "start_time": "2022-01-15T12:24:57.392Z"
   },
   {
    "duration": 5,
    "start_time": "2022-01-15T12:24:57.421Z"
   },
   {
    "duration": 9,
    "start_time": "2022-01-15T12:24:57.455Z"
   },
   {
    "duration": 15,
    "start_time": "2022-01-15T12:24:57.506Z"
   },
   {
    "duration": 1116,
    "start_time": "2022-01-15T12:24:57.530Z"
   },
   {
    "duration": 17,
    "start_time": "2022-01-15T12:24:58.647Z"
   },
   {
    "duration": 13,
    "start_time": "2022-01-15T12:24:58.666Z"
   },
   {
    "duration": 1210,
    "start_time": "2022-01-15T12:24:58.698Z"
   },
   {
    "duration": 3340,
    "start_time": "2022-01-15T12:24:59.909Z"
   },
   {
    "duration": 334,
    "start_time": "2022-01-15T12:25:03.251Z"
   },
   {
    "duration": 39,
    "start_time": "2022-01-15T12:25:03.587Z"
   },
   {
    "duration": 7,
    "start_time": "2022-01-15T12:25:03.628Z"
   },
   {
    "duration": 11,
    "start_time": "2022-01-15T12:25:03.637Z"
   },
   {
    "duration": 5,
    "start_time": "2022-01-15T12:25:03.649Z"
   },
   {
    "duration": 572,
    "start_time": "2022-01-15T12:25:03.655Z"
   },
   {
    "duration": 5,
    "start_time": "2022-01-15T12:25:04.229Z"
   },
   {
    "duration": 531,
    "start_time": "2022-01-15T12:25:04.236Z"
   },
   {
    "duration": 5,
    "start_time": "2022-01-15T12:25:04.769Z"
   },
   {
    "duration": 638,
    "start_time": "2022-01-15T12:25:04.775Z"
   },
   {
    "duration": 11,
    "start_time": "2022-01-15T12:25:05.415Z"
   },
   {
    "duration": 22,
    "start_time": "2022-01-15T12:25:05.428Z"
   },
   {
    "duration": 531,
    "start_time": "2022-01-15T12:25:05.451Z"
   },
   {
    "duration": 5,
    "start_time": "2022-01-15T12:25:05.983Z"
   },
   {
    "duration": 564,
    "start_time": "2022-01-15T12:25:05.998Z"
   },
   {
    "duration": 5,
    "start_time": "2022-01-15T12:25:06.564Z"
   },
   {
    "duration": 556,
    "start_time": "2022-01-15T12:25:06.571Z"
   },
   {
    "duration": 11,
    "start_time": "2022-01-15T12:25:07.132Z"
   },
   {
    "duration": 10,
    "start_time": "2022-01-15T12:25:07.145Z"
   },
   {
    "duration": 559,
    "start_time": "2022-01-15T12:25:07.158Z"
   },
   {
    "duration": 6,
    "start_time": "2022-01-15T12:25:07.719Z"
   },
   {
    "duration": 516,
    "start_time": "2022-01-15T12:25:07.727Z"
   },
   {
    "duration": 4,
    "start_time": "2022-01-15T12:25:08.245Z"
   },
   {
    "duration": 521,
    "start_time": "2022-01-15T12:25:08.250Z"
   },
   {
    "duration": 9,
    "start_time": "2022-01-15T12:25:08.773Z"
   },
   {
    "duration": 19,
    "start_time": "2022-01-15T12:25:08.784Z"
   },
   {
    "duration": 38,
    "start_time": "2022-01-15T12:26:36.388Z"
   },
   {
    "duration": 9,
    "start_time": "2022-01-15T12:26:36.428Z"
   },
   {
    "duration": 3,
    "start_time": "2022-01-15T12:26:36.443Z"
   },
   {
    "duration": 4,
    "start_time": "2022-01-15T12:26:36.459Z"
   },
   {
    "duration": 4,
    "start_time": "2022-01-15T12:26:36.487Z"
   },
   {
    "duration": 9,
    "start_time": "2022-01-15T12:26:36.516Z"
   },
   {
    "duration": 25,
    "start_time": "2022-01-15T12:26:36.543Z"
   },
   {
    "duration": 12,
    "start_time": "2022-01-15T12:26:36.571Z"
   },
   {
    "duration": 15,
    "start_time": "2022-01-15T12:26:36.599Z"
   },
   {
    "duration": 32,
    "start_time": "2022-01-15T12:26:36.620Z"
   },
   {
    "duration": 6,
    "start_time": "2022-01-15T12:26:36.656Z"
   },
   {
    "duration": 5,
    "start_time": "2022-01-15T12:26:36.690Z"
   },
   {
    "duration": 9,
    "start_time": "2022-01-15T12:26:36.718Z"
   },
   {
    "duration": 90,
    "start_time": "2022-01-15T12:26:36.768Z"
   },
   {
    "duration": 1113,
    "start_time": "2022-01-15T12:26:36.860Z"
   },
   {
    "duration": 27,
    "start_time": "2022-01-15T12:26:37.976Z"
   },
   {
    "duration": 14,
    "start_time": "2022-01-15T12:26:38.005Z"
   },
   {
    "duration": 1223,
    "start_time": "2022-01-15T12:26:38.021Z"
   },
   {
    "duration": 3269,
    "start_time": "2022-01-15T12:26:39.246Z"
   },
   {
    "duration": 344,
    "start_time": "2022-01-15T12:26:42.517Z"
   },
   {
    "duration": 49,
    "start_time": "2022-01-15T12:26:42.864Z"
   },
   {
    "duration": 7,
    "start_time": "2022-01-15T12:26:42.915Z"
   },
   {
    "duration": 15,
    "start_time": "2022-01-15T12:26:42.923Z"
   },
   {
    "duration": 4,
    "start_time": "2022-01-15T12:26:42.940Z"
   },
   {
    "duration": 533,
    "start_time": "2022-01-15T12:26:42.946Z"
   },
   {
    "duration": 20,
    "start_time": "2022-01-15T12:26:43.481Z"
   },
   {
    "duration": 578,
    "start_time": "2022-01-15T12:26:43.503Z"
   },
   {
    "duration": 5,
    "start_time": "2022-01-15T12:26:44.083Z"
   },
   {
    "duration": 689,
    "start_time": "2022-01-15T12:26:44.099Z"
   },
   {
    "duration": 10,
    "start_time": "2022-01-15T12:26:44.799Z"
   },
   {
    "duration": 8,
    "start_time": "2022-01-15T12:26:44.811Z"
   },
   {
    "duration": 554,
    "start_time": "2022-01-15T12:26:44.821Z"
   },
   {
    "duration": 4,
    "start_time": "2022-01-15T12:26:45.377Z"
   },
   {
    "duration": 579,
    "start_time": "2022-01-15T12:26:45.383Z"
   },
   {
    "duration": 5,
    "start_time": "2022-01-15T12:26:45.963Z"
   },
   {
    "duration": 553,
    "start_time": "2022-01-15T12:26:45.971Z"
   },
   {
    "duration": 11,
    "start_time": "2022-01-15T12:26:46.525Z"
   },
   {
    "duration": 8,
    "start_time": "2022-01-15T12:26:46.537Z"
   },
   {
    "duration": 519,
    "start_time": "2022-01-15T12:26:46.547Z"
   },
   {
    "duration": 5,
    "start_time": "2022-01-15T12:26:47.068Z"
   },
   {
    "duration": 546,
    "start_time": "2022-01-15T12:26:47.074Z"
   },
   {
    "duration": 5,
    "start_time": "2022-01-15T12:26:47.621Z"
   },
   {
    "duration": 551,
    "start_time": "2022-01-15T12:26:47.628Z"
   },
   {
    "duration": 24,
    "start_time": "2022-01-15T12:26:48.181Z"
   },
   {
    "duration": 11,
    "start_time": "2022-01-15T12:26:48.207Z"
   },
   {
    "duration": 1057,
    "start_time": "2022-01-16T07:42:32.036Z"
   },
   {
    "duration": 10,
    "start_time": "2022-01-16T07:42:33.095Z"
   },
   {
    "duration": 6,
    "start_time": "2022-01-16T07:42:33.109Z"
   },
   {
    "duration": 7,
    "start_time": "2022-01-16T07:42:33.116Z"
   },
   {
    "duration": 5,
    "start_time": "2022-01-16T07:42:33.124Z"
   },
   {
    "duration": 9,
    "start_time": "2022-01-16T07:42:33.130Z"
   },
   {
    "duration": 57,
    "start_time": "2022-01-16T07:42:33.141Z"
   },
   {
    "duration": 12,
    "start_time": "2022-01-16T07:42:33.201Z"
   },
   {
    "duration": 15,
    "start_time": "2022-01-16T07:42:33.215Z"
   },
   {
    "duration": 28,
    "start_time": "2022-01-16T07:42:33.232Z"
   },
   {
    "duration": 34,
    "start_time": "2022-01-16T07:42:33.262Z"
   },
   {
    "duration": 5,
    "start_time": "2022-01-16T07:42:33.298Z"
   },
   {
    "duration": 8,
    "start_time": "2022-01-16T07:42:33.305Z"
   },
   {
    "duration": 15,
    "start_time": "2022-01-16T07:42:33.315Z"
   },
   {
    "duration": 995,
    "start_time": "2022-01-16T07:42:33.332Z"
   },
   {
    "duration": 17,
    "start_time": "2022-01-16T07:42:34.329Z"
   },
   {
    "duration": 13,
    "start_time": "2022-01-16T07:42:34.347Z"
   },
   {
    "duration": 1280,
    "start_time": "2022-01-16T07:42:34.362Z"
   },
   {
    "duration": 2999,
    "start_time": "2022-01-16T07:42:35.644Z"
   },
   {
    "duration": 326,
    "start_time": "2022-01-16T07:42:38.645Z"
   },
   {
    "duration": 43,
    "start_time": "2022-01-16T07:42:38.973Z"
   },
   {
    "duration": 7,
    "start_time": "2022-01-16T07:42:39.017Z"
   },
   {
    "duration": 13,
    "start_time": "2022-01-16T07:42:39.025Z"
   },
   {
    "duration": 4,
    "start_time": "2022-01-16T07:42:39.040Z"
   },
   {
    "duration": 614,
    "start_time": "2022-01-16T07:42:39.046Z"
   },
   {
    "duration": 5,
    "start_time": "2022-01-16T07:42:39.663Z"
   },
   {
    "duration": 500,
    "start_time": "2022-01-16T07:42:39.670Z"
   },
   {
    "duration": 6,
    "start_time": "2022-01-16T07:42:40.192Z"
   },
   {
    "duration": 544,
    "start_time": "2022-01-16T07:42:40.200Z"
   },
   {
    "duration": 10,
    "start_time": "2022-01-16T07:42:40.746Z"
   },
   {
    "duration": 5,
    "start_time": "2022-01-16T07:42:40.758Z"
   },
   {
    "duration": 545,
    "start_time": "2022-01-16T07:42:40.764Z"
   },
   {
    "duration": 5,
    "start_time": "2022-01-16T07:42:41.310Z"
   },
   {
    "duration": 550,
    "start_time": "2022-01-16T07:42:41.317Z"
   },
   {
    "duration": 5,
    "start_time": "2022-01-16T07:42:41.869Z"
   },
   {
    "duration": 515,
    "start_time": "2022-01-16T07:42:41.876Z"
   },
   {
    "duration": 10,
    "start_time": "2022-01-16T07:42:42.393Z"
   },
   {
    "duration": 8,
    "start_time": "2022-01-16T07:42:42.405Z"
   },
   {
    "duration": 551,
    "start_time": "2022-01-16T07:42:42.415Z"
   },
   {
    "duration": 5,
    "start_time": "2022-01-16T07:42:42.968Z"
   },
   {
    "duration": 518,
    "start_time": "2022-01-16T07:42:42.975Z"
   },
   {
    "duration": 5,
    "start_time": "2022-01-16T07:42:43.495Z"
   },
   {
    "duration": 493,
    "start_time": "2022-01-16T07:42:43.501Z"
   },
   {
    "duration": 9,
    "start_time": "2022-01-16T07:42:43.996Z"
   },
   {
    "duration": 9,
    "start_time": "2022-01-16T07:42:44.007Z"
   },
   {
    "duration": 4,
    "start_time": "2022-01-16T07:55:30.346Z"
   }
  ],
  "kernelspec": {
   "display_name": "Python 3",
   "language": "python",
   "name": "python3"
  },
  "language_info": {
   "codemirror_mode": {
    "name": "ipython",
    "version": 3
   },
   "file_extension": ".py",
   "mimetype": "text/x-python",
   "name": "python",
   "nbconvert_exporter": "python",
   "pygments_lexer": "ipython3",
   "version": "3.7.8"
  },
  "toc": {
   "base_numbering": 1,
   "nav_menu": {},
   "number_sections": true,
   "sideBar": true,
   "skip_h1_title": true,
   "title_cell": "Table of Contents",
   "title_sidebar": "Contents",
   "toc_cell": false,
   "toc_position": {},
   "toc_section_display": true,
   "toc_window_display": false
  }
 },
 "nbformat": 4,
 "nbformat_minor": 2
}
